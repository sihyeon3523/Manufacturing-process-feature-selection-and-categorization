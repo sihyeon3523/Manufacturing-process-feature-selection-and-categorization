{
 "cells": [
  {
   "cell_type": "code",
   "execution_count": 1,
   "metadata": {},
   "outputs": [],
   "source": [
    "import pandas as pd\n",
    "import numpy as np"
   ]
  },
  {
   "cell_type": "code",
   "execution_count": 2,
   "metadata": {},
   "outputs": [],
   "source": [
    "import matplotlib.pyplot as plt\n",
    "import seaborn as sns"
   ]
  },
  {
   "cell_type": "code",
   "execution_count": 4,
   "metadata": {},
   "outputs": [],
   "source": [
    "raw_data = pd.read_csv('uci-secom.csv')"
   ]
  },
  {
   "cell_type": "code",
   "execution_count": 5,
   "metadata": {},
   "outputs": [
    {
     "data": {
      "text/plain": [
       "1567"
      ]
     },
     "execution_count": 5,
     "metadata": {},
     "output_type": "execute_result"
    }
   ],
   "source": [
    "len(raw_data)"
   ]
  },
  {
   "cell_type": "code",
   "execution_count": 6,
   "metadata": {},
   "outputs": [],
   "source": [
    "null = []\n",
    "Not_null = []\n",
    "null = raw_data.isnull().sum()"
   ]
  },
  {
   "cell_type": "code",
   "execution_count": 7,
   "metadata": {},
   "outputs": [],
   "source": [
    "for i in null.index:\n",
    "    if null[i] == 0:\n",
    "        Not_null.append(i)"
   ]
  },
  {
   "cell_type": "code",
   "execution_count": 8,
   "metadata": {},
   "outputs": [],
   "source": [
    "null = null.drop(Not_null)"
   ]
  },
  {
   "cell_type": "code",
   "execution_count": 9,
   "metadata": {},
   "outputs": [],
   "source": [
    "null_20 = []\n",
    "for i in null.index:\n",
    "    if null[i] < 52:\n",
    "        null_20.append(i)\n",
    "null = null.drop(null_20)"
   ]
  },
  {
   "cell_type": "code",
   "execution_count": 10,
   "metadata": {},
   "outputs": [],
   "source": [
    "data = raw_data.copy()"
   ]
  },
  {
   "cell_type": "code",
   "execution_count": 11,
   "metadata": {},
   "outputs": [],
   "source": [
    "data = data.drop(null.index,axis=1)"
   ]
  },
  {
   "cell_type": "code",
   "execution_count": 12,
   "metadata": {},
   "outputs": [],
   "source": [
    "data.replace(np.nan, data.median(), inplace=True)"
   ]
  },
  {
   "cell_type": "code",
   "execution_count": 13,
   "metadata": {},
   "outputs": [
    {
     "data": {
      "text/plain": [
       "Index(['Time', '0', '1', '2', '3', '4', '5', '6', '7', '8',\n",
       "       ...\n",
       "       '577', '582', '583', '584', '585', '586', '587', '588', '589',\n",
       "       'Pass/Fail'],\n",
       "      dtype='object', length=540)"
      ]
     },
     "execution_count": 13,
     "metadata": {},
     "output_type": "execute_result"
    }
   ],
   "source": [
    "data.columns"
   ]
  },
  {
   "cell_type": "code",
   "execution_count": 14,
   "metadata": {},
   "outputs": [],
   "source": [
    "unique_columns = []\n",
    "for i in data.columns:\n",
    "    tmp =  data[i].unique() # data[i].unique()\n",
    "    if len(tmp) == 1:\n",
    "        unique_columns.append(i)"
   ]
  },
  {
   "cell_type": "code",
   "execution_count": 15,
   "metadata": {},
   "outputs": [
    {
     "data": {
      "text/plain": [
       "116"
      ]
     },
     "execution_count": 15,
     "metadata": {},
     "output_type": "execute_result"
    }
   ],
   "source": [
    "len(unique_columns)"
   ]
  },
  {
   "cell_type": "code",
   "execution_count": 16,
   "metadata": {},
   "outputs": [],
   "source": [
    "data = data.drop(unique_columns, axis=1)"
   ]
  },
  {
   "cell_type": "code",
   "execution_count": 17,
   "metadata": {},
   "outputs": [
    {
     "data": {
      "text/html": [
       "<div>\n",
       "<style scoped>\n",
       "    .dataframe tbody tr th:only-of-type {\n",
       "        vertical-align: middle;\n",
       "    }\n",
       "\n",
       "    .dataframe tbody tr th {\n",
       "        vertical-align: top;\n",
       "    }\n",
       "\n",
       "    .dataframe thead th {\n",
       "        text-align: right;\n",
       "    }\n",
       "</style>\n",
       "<table border=\"1\" class=\"dataframe\">\n",
       "  <thead>\n",
       "    <tr style=\"text-align: right;\">\n",
       "      <th></th>\n",
       "      <th>Time</th>\n",
       "      <th>0</th>\n",
       "      <th>1</th>\n",
       "      <th>2</th>\n",
       "      <th>3</th>\n",
       "      <th>4</th>\n",
       "      <th>6</th>\n",
       "      <th>7</th>\n",
       "      <th>8</th>\n",
       "      <th>9</th>\n",
       "      <th>...</th>\n",
       "      <th>577</th>\n",
       "      <th>582</th>\n",
       "      <th>583</th>\n",
       "      <th>584</th>\n",
       "      <th>585</th>\n",
       "      <th>586</th>\n",
       "      <th>587</th>\n",
       "      <th>588</th>\n",
       "      <th>589</th>\n",
       "      <th>Pass/Fail</th>\n",
       "    </tr>\n",
       "  </thead>\n",
       "  <tbody>\n",
       "    <tr>\n",
       "      <th>0</th>\n",
       "      <td>2008-07-19 11:55</td>\n",
       "      <td>3030.93</td>\n",
       "      <td>2564.00</td>\n",
       "      <td>2187.7333</td>\n",
       "      <td>1411.1265</td>\n",
       "      <td>1.3602</td>\n",
       "      <td>97.6133</td>\n",
       "      <td>0.1242</td>\n",
       "      <td>1.5005</td>\n",
       "      <td>0.0162</td>\n",
       "      <td>...</td>\n",
       "      <td>14.9509</td>\n",
       "      <td>0.5005</td>\n",
       "      <td>0.0118</td>\n",
       "      <td>0.0035</td>\n",
       "      <td>2.3630</td>\n",
       "      <td>0.0205</td>\n",
       "      <td>0.0148</td>\n",
       "      <td>0.0046</td>\n",
       "      <td>71.9005</td>\n",
       "      <td>-1</td>\n",
       "    </tr>\n",
       "    <tr>\n",
       "      <th>1</th>\n",
       "      <td>2008-07-19 12:32</td>\n",
       "      <td>3095.78</td>\n",
       "      <td>2465.14</td>\n",
       "      <td>2230.4222</td>\n",
       "      <td>1463.6606</td>\n",
       "      <td>0.8294</td>\n",
       "      <td>102.3433</td>\n",
       "      <td>0.1247</td>\n",
       "      <td>1.4966</td>\n",
       "      <td>-0.0005</td>\n",
       "      <td>...</td>\n",
       "      <td>10.9003</td>\n",
       "      <td>0.5019</td>\n",
       "      <td>0.0223</td>\n",
       "      <td>0.0055</td>\n",
       "      <td>4.4447</td>\n",
       "      <td>0.0096</td>\n",
       "      <td>0.0201</td>\n",
       "      <td>0.0060</td>\n",
       "      <td>208.2045</td>\n",
       "      <td>-1</td>\n",
       "    </tr>\n",
       "    <tr>\n",
       "      <th>2</th>\n",
       "      <td>2008-07-19 13:17</td>\n",
       "      <td>2932.61</td>\n",
       "      <td>2559.94</td>\n",
       "      <td>2186.4111</td>\n",
       "      <td>1698.0172</td>\n",
       "      <td>1.5102</td>\n",
       "      <td>95.4878</td>\n",
       "      <td>0.1241</td>\n",
       "      <td>1.4436</td>\n",
       "      <td>0.0041</td>\n",
       "      <td>...</td>\n",
       "      <td>9.2721</td>\n",
       "      <td>0.4958</td>\n",
       "      <td>0.0157</td>\n",
       "      <td>0.0039</td>\n",
       "      <td>3.1745</td>\n",
       "      <td>0.0584</td>\n",
       "      <td>0.0484</td>\n",
       "      <td>0.0148</td>\n",
       "      <td>82.8602</td>\n",
       "      <td>1</td>\n",
       "    </tr>\n",
       "    <tr>\n",
       "      <th>3</th>\n",
       "      <td>2008-07-19 14:43</td>\n",
       "      <td>2988.72</td>\n",
       "      <td>2479.90</td>\n",
       "      <td>2199.0333</td>\n",
       "      <td>909.7926</td>\n",
       "      <td>1.3204</td>\n",
       "      <td>104.2367</td>\n",
       "      <td>0.1217</td>\n",
       "      <td>1.4882</td>\n",
       "      <td>-0.0124</td>\n",
       "      <td>...</td>\n",
       "      <td>8.5831</td>\n",
       "      <td>0.4990</td>\n",
       "      <td>0.0103</td>\n",
       "      <td>0.0025</td>\n",
       "      <td>2.0544</td>\n",
       "      <td>0.0202</td>\n",
       "      <td>0.0149</td>\n",
       "      <td>0.0044</td>\n",
       "      <td>73.8432</td>\n",
       "      <td>-1</td>\n",
       "    </tr>\n",
       "    <tr>\n",
       "      <th>4</th>\n",
       "      <td>2008-07-19 15:22</td>\n",
       "      <td>3032.24</td>\n",
       "      <td>2502.87</td>\n",
       "      <td>2233.3667</td>\n",
       "      <td>1326.5200</td>\n",
       "      <td>1.5334</td>\n",
       "      <td>100.3967</td>\n",
       "      <td>0.1235</td>\n",
       "      <td>1.5031</td>\n",
       "      <td>-0.0031</td>\n",
       "      <td>...</td>\n",
       "      <td>10.9698</td>\n",
       "      <td>0.4800</td>\n",
       "      <td>0.4766</td>\n",
       "      <td>0.1045</td>\n",
       "      <td>99.3032</td>\n",
       "      <td>0.0202</td>\n",
       "      <td>0.0149</td>\n",
       "      <td>0.0044</td>\n",
       "      <td>73.8432</td>\n",
       "      <td>-1</td>\n",
       "    </tr>\n",
       "  </tbody>\n",
       "</table>\n",
       "<p>5 rows × 424 columns</p>\n",
       "</div>"
      ],
      "text/plain": [
       "               Time        0        1          2          3       4         6  \\\n",
       "0  2008-07-19 11:55  3030.93  2564.00  2187.7333  1411.1265  1.3602   97.6133   \n",
       "1  2008-07-19 12:32  3095.78  2465.14  2230.4222  1463.6606  0.8294  102.3433   \n",
       "2  2008-07-19 13:17  2932.61  2559.94  2186.4111  1698.0172  1.5102   95.4878   \n",
       "3  2008-07-19 14:43  2988.72  2479.90  2199.0333   909.7926  1.3204  104.2367   \n",
       "4  2008-07-19 15:22  3032.24  2502.87  2233.3667  1326.5200  1.5334  100.3967   \n",
       "\n",
       "        7       8       9    ...          577     582     583     584  \\\n",
       "0  0.1242  1.5005  0.0162    ...      14.9509  0.5005  0.0118  0.0035   \n",
       "1  0.1247  1.4966 -0.0005    ...      10.9003  0.5019  0.0223  0.0055   \n",
       "2  0.1241  1.4436  0.0041    ...       9.2721  0.4958  0.0157  0.0039   \n",
       "3  0.1217  1.4882 -0.0124    ...       8.5831  0.4990  0.0103  0.0025   \n",
       "4  0.1235  1.5031 -0.0031    ...      10.9698  0.4800  0.4766  0.1045   \n",
       "\n",
       "       585     586     587     588       589  Pass/Fail  \n",
       "0   2.3630  0.0205  0.0148  0.0046   71.9005         -1  \n",
       "1   4.4447  0.0096  0.0201  0.0060  208.2045         -1  \n",
       "2   3.1745  0.0584  0.0484  0.0148   82.8602          1  \n",
       "3   2.0544  0.0202  0.0149  0.0044   73.8432         -1  \n",
       "4  99.3032  0.0202  0.0149  0.0044   73.8432         -1  \n",
       "\n",
       "[5 rows x 424 columns]"
      ]
     },
     "execution_count": 17,
     "metadata": {},
     "output_type": "execute_result"
    }
   ],
   "source": [
    "data.head(5)"
   ]
  },
  {
   "cell_type": "code",
   "execution_count": 19,
   "metadata": {},
   "outputs": [],
   "source": [
    "data = data.drop('Time', axis=1)"
   ]
  },
  {
   "cell_type": "code",
   "execution_count": 22,
   "metadata": {},
   "outputs": [],
   "source": [
    "data.to_csv(\"전처리 후 data.csv\")"
   ]
  },
  {
   "cell_type": "code",
   "execution_count": 20,
   "metadata": {},
   "outputs": [],
   "source": [
    "X = data.loc[:,'0':'589']\n",
    "y = data.loc[:,'Pass/Fail']"
   ]
  },
  {
   "cell_type": "markdown",
   "metadata": {},
   "source": [
    "## 정규화\n",
    "\n",
    "- StandardScaler : 이상치에 약함\n",
    "- RoboustScaler: 이상치에 강함 \n",
    "- minmaxScaler"
   ]
  },
  {
   "cell_type": "code",
   "execution_count": 20,
   "metadata": {},
   "outputs": [],
   "source": [
    "from sklearn.preprocessing import StandardScaler, RobustScaler, MinMaxScaler"
   ]
  },
  {
   "cell_type": "markdown",
   "metadata": {},
   "source": [
    "### 다양한 표준화, 정규화 방법 적용 및 성능 비교"
   ]
  },
  {
   "cell_type": "code",
   "execution_count": 35,
   "metadata": {},
   "outputs": [],
   "source": [
    "from sklearn.metrics import confusion_matrix, accuracy_score,precision_score\n",
    "from sklearn.metrics import recall_score, f1_score, roc_auc_score\n",
    "def get_clf_eval(y_test,pred):\n",
    "  acc = accuracy_score(y_test,pred)\n",
    "  pre = precision_score(y_test,pred)\n",
    "  re = recall_score(y_test, pred)\n",
    "  f1 = f1_score(y_test,pred)\n",
    "  auc = roc_auc_score(y_test,pred)\n",
    "\n",
    "  return acc,pre,re,f1,auc"
   ]
  },
  {
   "cell_type": "code",
   "execution_count": 36,
   "metadata": {},
   "outputs": [],
   "source": [
    "def print_clf_eval(y_test,pred):\n",
    "  confusion = confusion_matrix(y_test,pred)\n",
    "  acc,pre,re,f1,auc = get_clf_eval(y_test,pred)\n",
    "\n",
    "  print('=>오차행렬')\n",
    "  print(confusion)\n",
    "  print('=============')\n",
    "  print('정확도(acc) : {0:.4f}, 정밀도(pre) : {1:.4f}'.format(acc,pre))\n",
    "  print('재현율(re) : {0:.4f}, F1 : {1:.4f}, AUC : {2:.4f}'.format(re,f1,auc))"
   ]
  },
  {
   "cell_type": "markdown",
   "metadata": {},
   "source": [
    "#### MinMaxScaler()"
   ]
  },
  {
   "cell_type": "code",
   "execution_count": 24,
   "metadata": {},
   "outputs": [],
   "source": [
    "from sklearn.preprocessing import MinMaxScaler\n",
    "min_max_scaler = MinMaxScaler()"
   ]
  },
  {
   "cell_type": "code",
   "execution_count": 25,
   "metadata": {},
   "outputs": [],
   "source": [
    "x_minmax = min_max_scaler.fit_transform(X)"
   ]
  },
  {
   "cell_type": "code",
   "execution_count": 38,
   "metadata": {
    "scrolled": false
   },
   "outputs": [
    {
     "name": "stdout",
     "output_type": "stream",
     "text": [
      "auc_test = 0.7594669267024216\n",
      "\n"
     ]
    }
   ],
   "source": [
    "from sklearn.model_selection import train_test_split\n",
    "from sklearn.linear_model import LogisticRegression\n",
    "from sklearn.metrics import roc_auc_score\n",
    "from sklearn.preprocessing import MinMaxScaler\n",
    "\n",
    "random_state = []\n",
    "\n",
    "\n",
    "X_train,X_test,y_train,y_test=train_test_split(x_minmax,y,test_size=0.2,random_state= 13,stratify=y)\n",
    "log_reg = LogisticRegression(random_state=13,solver='liblinear',C=10.0)\n",
    "log_reg.fit(X_train, y_train)\n",
    "pred_proba_1 = log_reg.predict_proba(X_test)[:,1]\n",
    "auc_test = roc_auc_score(y_test, pred_proba_1)\n",
    "print('auc_test =', auc_test)\n",
    "print('')"
   ]
  },
  {
   "cell_type": "code",
   "execution_count": 45,
   "metadata": {},
   "outputs": [
    {
     "name": "stdout",
     "output_type": "stream",
     "text": [
      "auc_test = 0.6151470827238745\n",
      "\n"
     ]
    }
   ],
   "source": [
    "from sklearn.tree import DecisionTreeClassifier\n",
    "\n",
    "X_train,X_test,y_train,y_test=train_test_split(x_minmax,y,test_size=0.2,random_state= 13,stratify=y)\n",
    "dt_clf = DecisionTreeClassifier(random_state=13,max_depth=2)\n",
    "dt_clf.fit(X_train, y_train)\n",
    "\n",
    "pred_proba_1 = dt_clf.predict_proba(X_test)[:,1]\n",
    "auc_test = roc_auc_score(y_test, pred_proba_1)\n",
    "print('auc_test =', auc_test)\n",
    "print('')"
   ]
  },
  {
   "cell_type": "markdown",
   "metadata": {},
   "source": [
    "#### StandardScaler()"
   ]
  },
  {
   "cell_type": "code",
   "execution_count": 28,
   "metadata": {},
   "outputs": [],
   "source": [
    "X = data.loc[:,'0':'589']\n",
    "y = data.loc[:,'Pass/Fail']"
   ]
  },
  {
   "cell_type": "code",
   "execution_count": 31,
   "metadata": {},
   "outputs": [],
   "source": [
    "from sklearn.preprocessing import StandardScaler\n",
    "std_scaler = StandardScaler()"
   ]
  },
  {
   "cell_type": "code",
   "execution_count": 32,
   "metadata": {},
   "outputs": [],
   "source": [
    "x_std = std_scaler.fit_transform(X)"
   ]
  },
  {
   "cell_type": "code",
   "execution_count": 34,
   "metadata": {},
   "outputs": [
    {
     "name": "stdout",
     "output_type": "stream",
     "text": [
      "auc_test = 0.7098976109215016\n",
      "\n"
     ]
    }
   ],
   "source": [
    "from sklearn.model_selection import train_test_split\n",
    "from sklearn.linear_model import LogisticRegression\n",
    "from sklearn.metrics import roc_auc_score\n",
    "from sklearn.preprocessing import MinMaxScaler\n",
    "\n",
    "\n",
    "X_train,X_test,y_train,y_test=train_test_split(x_std,y,test_size=0.2,random_state= 13,stratify=y)\n",
    "log_reg = LogisticRegression(random_state=13,solver='liblinear',C=10.0)\n",
    "log_reg.fit(X_train, y_train)\n",
    "\n",
    "pred_proba_1 = log_reg.predict_proba(X_test)[:,1]\n",
    "auc_test = roc_auc_score(y_test, pred_proba_1)\n",
    "print('auc_test =', auc_test)\n",
    "print('')"
   ]
  },
  {
   "cell_type": "code",
   "execution_count": 44,
   "metadata": {},
   "outputs": [
    {
     "name": "stdout",
     "output_type": "stream",
     "text": [
      "auc_test = 0.6151470827238745\n",
      "\n"
     ]
    }
   ],
   "source": [
    "from sklearn.tree import DecisionTreeClassifier\n",
    "\n",
    "X_train,X_test,y_train,y_test=train_test_split(x_std,y,test_size=0.2,random_state= 13,stratify=y)\n",
    "dt_clf = DecisionTreeClassifier(random_state=13,max_depth=2)\n",
    "dt_clf.fit(X_train, y_train)\n",
    "\n",
    "pred_proba_2 = dt_clf.predict_proba(X_test)[:,1]\n",
    "auc_test = roc_auc_score(y_test, pred_proba_2)\n",
    "print('auc_test =', auc_test)\n",
    "print('')"
   ]
  },
  {
   "cell_type": "code",
   "execution_count": null,
   "metadata": {},
   "outputs": [],
   "source": []
  },
  {
   "cell_type": "code",
   "execution_count": null,
   "metadata": {},
   "outputs": [],
   "source": []
  },
  {
   "cell_type": "code",
   "execution_count": null,
   "metadata": {},
   "outputs": [],
   "source": []
  },
  {
   "cell_type": "code",
   "execution_count": null,
   "metadata": {},
   "outputs": [],
   "source": []
  },
  {
   "cell_type": "code",
   "execution_count": null,
   "metadata": {},
   "outputs": [],
   "source": []
  },
  {
   "cell_type": "code",
   "execution_count": null,
   "metadata": {},
   "outputs": [],
   "source": []
  },
  {
   "cell_type": "markdown",
   "metadata": {},
   "source": [
    "#### RobustScaler()"
   ]
  },
  {
   "cell_type": "code",
   "execution_count": 35,
   "metadata": {},
   "outputs": [],
   "source": [
    "X = data.loc[:,'0':'589']\n",
    "y = data.loc[:,'Pass/Fail']"
   ]
  },
  {
   "cell_type": "code",
   "execution_count": 36,
   "metadata": {},
   "outputs": [],
   "source": [
    "robust_scaler = RobustScaler()"
   ]
  },
  {
   "cell_type": "code",
   "execution_count": 38,
   "metadata": {},
   "outputs": [],
   "source": [
    "x_robust = robust_scaler.fit_transform(X)"
   ]
  },
  {
   "cell_type": "code",
   "execution_count": 39,
   "metadata": {},
   "outputs": [
    {
     "name": "stderr",
     "output_type": "stream",
     "text": [
      "C:\\Users\\Itshony\\Anaconda3\\lib\\site-packages\\sklearn\\svm\\_base.py:977: ConvergenceWarning: Liblinear failed to converge, increase the number of iterations.\n",
      "  \"the number of iterations.\", ConvergenceWarning)\n"
     ]
    },
    {
     "name": "stdout",
     "output_type": "stream",
     "text": [
      "random_state= 1    auc_test = 0.6346497643425971\n",
      "\n"
     ]
    },
    {
     "name": "stderr",
     "output_type": "stream",
     "text": [
      "C:\\Users\\Itshony\\Anaconda3\\lib\\site-packages\\sklearn\\svm\\_base.py:977: ConvergenceWarning: Liblinear failed to converge, increase the number of iterations.\n",
      "  \"the number of iterations.\", ConvergenceWarning)\n"
     ]
    },
    {
     "name": "stdout",
     "output_type": "stream",
     "text": [
      "random_state= 2    auc_test = 0.714448236632537\n",
      "\n"
     ]
    },
    {
     "name": "stderr",
     "output_type": "stream",
     "text": [
      "C:\\Users\\Itshony\\Anaconda3\\lib\\site-packages\\sklearn\\svm\\_base.py:977: ConvergenceWarning: Liblinear failed to converge, increase the number of iterations.\n",
      "  \"the number of iterations.\", ConvergenceWarning)\n"
     ]
    },
    {
     "name": "stdout",
     "output_type": "stream",
     "text": [
      "random_state= 3    auc_test = 0.7094100438810337\n",
      "\n",
      "random_state= 4    auc_test = 0.641719486429384\n",
      "\n"
     ]
    },
    {
     "name": "stderr",
     "output_type": "stream",
     "text": [
      "C:\\Users\\Itshony\\Anaconda3\\lib\\site-packages\\sklearn\\svm\\_base.py:977: ConvergenceWarning: Liblinear failed to converge, increase the number of iterations.\n",
      "  \"the number of iterations.\", ConvergenceWarning)\n"
     ]
    },
    {
     "name": "stdout",
     "output_type": "stream",
     "text": [
      "random_state= 5    auc_test = 0.5870307167235495\n",
      "\n"
     ]
    },
    {
     "name": "stderr",
     "output_type": "stream",
     "text": [
      "C:\\Users\\Itshony\\Anaconda3\\lib\\site-packages\\sklearn\\svm\\_base.py:977: ConvergenceWarning: Liblinear failed to converge, increase the number of iterations.\n",
      "  \"the number of iterations.\", ConvergenceWarning)\n"
     ]
    },
    {
     "name": "stdout",
     "output_type": "stream",
     "text": [
      "random_state= 6    auc_test = 0.6630911750365676\n",
      "\n"
     ]
    },
    {
     "name": "stderr",
     "output_type": "stream",
     "text": [
      "C:\\Users\\Itshony\\Anaconda3\\lib\\site-packages\\sklearn\\svm\\_base.py:977: ConvergenceWarning: Liblinear failed to converge, increase the number of iterations.\n",
      "  \"the number of iterations.\", ConvergenceWarning)\n"
     ]
    },
    {
     "name": "stdout",
     "output_type": "stream",
     "text": [
      "random_state= 7    auc_test = 0.5161709735088574\n",
      "\n"
     ]
    },
    {
     "name": "stderr",
     "output_type": "stream",
     "text": [
      "C:\\Users\\Itshony\\Anaconda3\\lib\\site-packages\\sklearn\\svm\\_base.py:977: ConvergenceWarning: Liblinear failed to converge, increase the number of iterations.\n",
      "  \"the number of iterations.\", ConvergenceWarning)\n"
     ]
    },
    {
     "name": "stdout",
     "output_type": "stream",
     "text": [
      "random_state= 8    auc_test = 0.7105477003087923\n",
      "\n"
     ]
    },
    {
     "name": "stderr",
     "output_type": "stream",
     "text": [
      "C:\\Users\\Itshony\\Anaconda3\\lib\\site-packages\\sklearn\\svm\\_base.py:977: ConvergenceWarning: Liblinear failed to converge, increase the number of iterations.\n",
      "  \"the number of iterations.\", ConvergenceWarning)\n"
     ]
    },
    {
     "name": "stdout",
     "output_type": "stream",
     "text": [
      "random_state= 9    auc_test = 0.6235169835852429\n",
      "\n"
     ]
    },
    {
     "name": "stderr",
     "output_type": "stream",
     "text": [
      "C:\\Users\\Itshony\\Anaconda3\\lib\\site-packages\\sklearn\\svm\\_base.py:977: ConvergenceWarning: Liblinear failed to converge, increase the number of iterations.\n",
      "  \"the number of iterations.\", ConvergenceWarning)\n"
     ]
    },
    {
     "name": "stdout",
     "output_type": "stream",
     "text": [
      "random_state= 10    auc_test = 0.6905574516496018\n",
      "\n"
     ]
    },
    {
     "name": "stderr",
     "output_type": "stream",
     "text": [
      "C:\\Users\\Itshony\\Anaconda3\\lib\\site-packages\\sklearn\\svm\\_base.py:977: ConvergenceWarning: Liblinear failed to converge, increase the number of iterations.\n",
      "  \"the number of iterations.\", ConvergenceWarning)\n"
     ]
    },
    {
     "name": "stdout",
     "output_type": "stream",
     "text": [
      "random_state= 11    auc_test = 0.5551763367463026\n",
      "\n"
     ]
    },
    {
     "name": "stderr",
     "output_type": "stream",
     "text": [
      "C:\\Users\\Itshony\\Anaconda3\\lib\\site-packages\\sklearn\\svm\\_base.py:977: ConvergenceWarning: Liblinear failed to converge, increase the number of iterations.\n",
      "  \"the number of iterations.\", ConvergenceWarning)\n"
     ]
    },
    {
     "name": "stdout",
     "output_type": "stream",
     "text": [
      "random_state= 12    auc_test = 0.7017714935803673\n",
      "\n"
     ]
    },
    {
     "name": "stderr",
     "output_type": "stream",
     "text": [
      "C:\\Users\\Itshony\\Anaconda3\\lib\\site-packages\\sklearn\\svm\\_base.py:977: ConvergenceWarning: Liblinear failed to converge, increase the number of iterations.\n",
      "  \"the number of iterations.\", ConvergenceWarning)\n"
     ]
    },
    {
     "name": "stdout",
     "output_type": "stream",
     "text": [
      "random_state= 13    auc_test = 0.6296928327645052\n",
      "\n"
     ]
    },
    {
     "name": "stderr",
     "output_type": "stream",
     "text": [
      "C:\\Users\\Itshony\\Anaconda3\\lib\\site-packages\\sklearn\\svm\\_base.py:977: ConvergenceWarning: Liblinear failed to converge, increase the number of iterations.\n",
      "  \"the number of iterations.\", ConvergenceWarning)\n"
     ]
    },
    {
     "name": "stdout",
     "output_type": "stream",
     "text": [
      "random_state= 14    auc_test = 0.6663416219730213\n",
      "\n"
     ]
    },
    {
     "name": "stderr",
     "output_type": "stream",
     "text": [
      "C:\\Users\\Itshony\\Anaconda3\\lib\\site-packages\\sklearn\\svm\\_base.py:977: ConvergenceWarning: Liblinear failed to converge, increase the number of iterations.\n",
      "  \"the number of iterations.\", ConvergenceWarning)\n"
     ]
    },
    {
     "name": "stdout",
     "output_type": "stream",
     "text": [
      "random_state= 15    auc_test = 0.7398017227368763\n",
      "\n"
     ]
    },
    {
     "name": "stderr",
     "output_type": "stream",
     "text": [
      "C:\\Users\\Itshony\\Anaconda3\\lib\\site-packages\\sklearn\\svm\\_base.py:977: ConvergenceWarning: Liblinear failed to converge, increase the number of iterations.\n",
      "  \"the number of iterations.\", ConvergenceWarning)\n"
     ]
    },
    {
     "name": "stdout",
     "output_type": "stream",
     "text": [
      "random_state= 16    auc_test = 0.6725174711522834\n",
      "\n"
     ]
    },
    {
     "name": "stderr",
     "output_type": "stream",
     "text": [
      "C:\\Users\\Itshony\\Anaconda3\\lib\\site-packages\\sklearn\\svm\\_base.py:977: ConvergenceWarning: Liblinear failed to converge, increase the number of iterations.\n",
      "  \"the number of iterations.\", ConvergenceWarning)\n"
     ]
    },
    {
     "name": "stdout",
     "output_type": "stream",
     "text": [
      "random_state= 17    auc_test = 0.6296115715910937\n",
      "\n"
     ]
    },
    {
     "name": "stderr",
     "output_type": "stream",
     "text": [
      "C:\\Users\\Itshony\\Anaconda3\\lib\\site-packages\\sklearn\\svm\\_base.py:977: ConvergenceWarning: Liblinear failed to converge, increase the number of iterations.\n",
      "  \"the number of iterations.\", ConvergenceWarning)\n"
     ]
    },
    {
     "name": "stdout",
     "output_type": "stream",
     "text": [
      "random_state= 18    auc_test = 0.6922639362912401\n",
      "\n"
     ]
    },
    {
     "name": "stderr",
     "output_type": "stream",
     "text": [
      "C:\\Users\\Itshony\\Anaconda3\\lib\\site-packages\\sklearn\\svm\\_base.py:977: ConvergenceWarning: Liblinear failed to converge, increase the number of iterations.\n",
      "  \"the number of iterations.\", ConvergenceWarning)\n"
     ]
    },
    {
     "name": "stdout",
     "output_type": "stream",
     "text": [
      "random_state= 19    auc_test = 0.6970583455225094\n",
      "\n"
     ]
    },
    {
     "name": "stderr",
     "output_type": "stream",
     "text": [
      "C:\\Users\\Itshony\\Anaconda3\\lib\\site-packages\\sklearn\\svm\\_base.py:977: ConvergenceWarning: Liblinear failed to converge, increase the number of iterations.\n",
      "  \"the number of iterations.\", ConvergenceWarning)\n"
     ]
    },
    {
     "name": "stdout",
     "output_type": "stream",
     "text": [
      "random_state= 20    auc_test = 0.6634162197302129\n",
      "\n"
     ]
    },
    {
     "name": "stderr",
     "output_type": "stream",
     "text": [
      "C:\\Users\\Itshony\\Anaconda3\\lib\\site-packages\\sklearn\\svm\\_base.py:977: ConvergenceWarning: Liblinear failed to converge, increase the number of iterations.\n",
      "  \"the number of iterations.\", ConvergenceWarning)\n"
     ]
    },
    {
     "name": "stdout",
     "output_type": "stream",
     "text": [
      "random_state= 21    auc_test = 0.49902486591906386\n",
      "\n"
     ]
    },
    {
     "name": "stderr",
     "output_type": "stream",
     "text": [
      "C:\\Users\\Itshony\\Anaconda3\\lib\\site-packages\\sklearn\\svm\\_base.py:977: ConvergenceWarning: Liblinear failed to converge, increase the number of iterations.\n",
      "  \"the number of iterations.\", ConvergenceWarning)\n"
     ]
    },
    {
     "name": "stdout",
     "output_type": "stream",
     "text": [
      "random_state= 22    auc_test = 0.6013326832439462\n",
      "\n"
     ]
    },
    {
     "name": "stderr",
     "output_type": "stream",
     "text": [
      "C:\\Users\\Itshony\\Anaconda3\\lib\\site-packages\\sklearn\\svm\\_base.py:977: ConvergenceWarning: Liblinear failed to converge, increase the number of iterations.\n",
      "  \"the number of iterations.\", ConvergenceWarning)\n"
     ]
    },
    {
     "name": "stdout",
     "output_type": "stream",
     "text": [
      "random_state= 23    auc_test = 0.6395254347472777\n",
      "\n"
     ]
    },
    {
     "name": "stderr",
     "output_type": "stream",
     "text": [
      "C:\\Users\\Itshony\\Anaconda3\\lib\\site-packages\\sklearn\\svm\\_base.py:977: ConvergenceWarning: Liblinear failed to converge, increase the number of iterations.\n",
      "  \"the number of iterations.\", ConvergenceWarning)\n"
     ]
    },
    {
     "name": "stdout",
     "output_type": "stream",
     "text": [
      "random_state= 24    auc_test = 0.6876320494067935\n",
      "\n"
     ]
    },
    {
     "name": "stderr",
     "output_type": "stream",
     "text": [
      "C:\\Users\\Itshony\\Anaconda3\\lib\\site-packages\\sklearn\\svm\\_base.py:977: ConvergenceWarning: Liblinear failed to converge, increase the number of iterations.\n",
      "  \"the number of iterations.\", ConvergenceWarning)\n"
     ]
    },
    {
     "name": "stdout",
     "output_type": "stream",
     "text": [
      "random_state= 25    auc_test = 0.747765317731188\n",
      "\n"
     ]
    },
    {
     "name": "stderr",
     "output_type": "stream",
     "text": [
      "C:\\Users\\Itshony\\Anaconda3\\lib\\site-packages\\sklearn\\svm\\_base.py:977: ConvergenceWarning: Liblinear failed to converge, increase the number of iterations.\n",
      "  \"the number of iterations.\", ConvergenceWarning)\n"
     ]
    },
    {
     "name": "stdout",
     "output_type": "stream",
     "text": [
      "random_state= 26    auc_test = 0.6684544124817162\n",
      "\n"
     ]
    },
    {
     "name": "stderr",
     "output_type": "stream",
     "text": [
      "C:\\Users\\Itshony\\Anaconda3\\lib\\site-packages\\sklearn\\svm\\_base.py:977: ConvergenceWarning: Liblinear failed to converge, increase the number of iterations.\n",
      "  \"the number of iterations.\", ConvergenceWarning)\n"
     ]
    },
    {
     "name": "stdout",
     "output_type": "stream",
     "text": [
      "random_state= 27    auc_test = 0.6328620185275475\n",
      "\n"
     ]
    },
    {
     "name": "stderr",
     "output_type": "stream",
     "text": [
      "C:\\Users\\Itshony\\Anaconda3\\lib\\site-packages\\sklearn\\svm\\_base.py:977: ConvergenceWarning: Liblinear failed to converge, increase the number of iterations.\n",
      "  \"the number of iterations.\", ConvergenceWarning)\n"
     ]
    },
    {
     "name": "stdout",
     "output_type": "stream",
     "text": [
      "random_state= 28    auc_test = 0.6128717698683569\n",
      "\n"
     ]
    },
    {
     "name": "stderr",
     "output_type": "stream",
     "text": [
      "C:\\Users\\Itshony\\Anaconda3\\lib\\site-packages\\sklearn\\svm\\_base.py:977: ConvergenceWarning: Liblinear failed to converge, increase the number of iterations.\n",
      "  \"the number of iterations.\", ConvergenceWarning)\n"
     ]
    },
    {
     "name": "stdout",
     "output_type": "stream",
     "text": [
      "random_state= 29    auc_test = 0.5998699821225418\n",
      "\n"
     ]
    },
    {
     "name": "stderr",
     "output_type": "stream",
     "text": [
      "C:\\Users\\Itshony\\Anaconda3\\lib\\site-packages\\sklearn\\svm\\_base.py:977: ConvergenceWarning: Liblinear failed to converge, increase the number of iterations.\n",
      "  \"the number of iterations.\", ConvergenceWarning)\n"
     ]
    },
    {
     "name": "stdout",
     "output_type": "stream",
     "text": [
      "random_state= 30    auc_test = 0.616447261498456\n",
      "\n"
     ]
    },
    {
     "name": "stderr",
     "output_type": "stream",
     "text": [
      "C:\\Users\\Itshony\\Anaconda3\\lib\\site-packages\\sklearn\\svm\\_base.py:977: ConvergenceWarning: Liblinear failed to converge, increase the number of iterations.\n",
      "  \"the number of iterations.\", ConvergenceWarning)\n"
     ]
    },
    {
     "name": "stdout",
     "output_type": "stream",
     "text": [
      "random_state= 31    auc_test = 0.7198114740776856\n",
      "\n"
     ]
    },
    {
     "name": "stderr",
     "output_type": "stream",
     "text": [
      "C:\\Users\\Itshony\\Anaconda3\\lib\\site-packages\\sklearn\\svm\\_base.py:977: ConvergenceWarning: Liblinear failed to converge, increase the number of iterations.\n",
      "  \"the number of iterations.\", ConvergenceWarning)\n"
     ]
    },
    {
     "name": "stdout",
     "output_type": "stream",
     "text": [
      "random_state= 32    auc_test = 0.6447261498456038\n",
      "\n"
     ]
    },
    {
     "name": "stderr",
     "output_type": "stream",
     "text": [
      "C:\\Users\\Itshony\\Anaconda3\\lib\\site-packages\\sklearn\\svm\\_base.py:977: ConvergenceWarning: Liblinear failed to converge, increase the number of iterations.\n",
      "  \"the number of iterations.\", ConvergenceWarning)\n"
     ]
    },
    {
     "name": "stdout",
     "output_type": "stream",
     "text": [
      "random_state= 33    auc_test = 0.6850316918576305\n",
      "\n"
     ]
    },
    {
     "name": "stderr",
     "output_type": "stream",
     "text": [
      "C:\\Users\\Itshony\\Anaconda3\\lib\\site-packages\\sklearn\\svm\\_base.py:977: ConvergenceWarning: Liblinear failed to converge, increase the number of iterations.\n",
      "  \"the number of iterations.\", ConvergenceWarning)\n"
     ]
    },
    {
     "name": "stdout",
     "output_type": "stream",
     "text": [
      "random_state= 34    auc_test = 0.6426133593369088\n",
      "\n"
     ]
    },
    {
     "name": "stderr",
     "output_type": "stream",
     "text": [
      "C:\\Users\\Itshony\\Anaconda3\\lib\\site-packages\\sklearn\\svm\\_base.py:977: ConvergenceWarning: Liblinear failed to converge, increase the number of iterations.\n",
      "  \"the number of iterations.\", ConvergenceWarning)\n"
     ]
    },
    {
     "name": "stdout",
     "output_type": "stream",
     "text": [
      "random_state= 35    auc_test = 0.6231106777181863\n",
      "\n"
     ]
    },
    {
     "name": "stderr",
     "output_type": "stream",
     "text": [
      "C:\\Users\\Itshony\\Anaconda3\\lib\\site-packages\\sklearn\\svm\\_base.py:977: ConvergenceWarning: Liblinear failed to converge, increase the number of iterations.\n",
      "  \"the number of iterations.\", ConvergenceWarning)\n"
     ]
    },
    {
     "name": "stdout",
     "output_type": "stream",
     "text": [
      "random_state= 36    auc_test = 0.6627661303429221\n",
      "\n"
     ]
    },
    {
     "name": "stderr",
     "output_type": "stream",
     "text": [
      "C:\\Users\\Itshony\\Anaconda3\\lib\\site-packages\\sklearn\\svm\\_base.py:977: ConvergenceWarning: Liblinear failed to converge, increase the number of iterations.\n",
      "  \"the number of iterations.\", ConvergenceWarning)\n"
     ]
    },
    {
     "name": "stdout",
     "output_type": "stream",
     "text": [
      "random_state= 37    auc_test = 0.5811799122379327\n",
      "\n"
     ]
    },
    {
     "name": "stderr",
     "output_type": "stream",
     "text": [
      "C:\\Users\\Itshony\\Anaconda3\\lib\\site-packages\\sklearn\\svm\\_base.py:977: ConvergenceWarning: Liblinear failed to converge, increase the number of iterations.\n",
      "  \"the number of iterations.\", ConvergenceWarning)\n"
     ]
    },
    {
     "name": "stdout",
     "output_type": "stream",
     "text": [
      "random_state= 38    auc_test = 0.6431009263773769\n",
      "\n"
     ]
    },
    {
     "name": "stderr",
     "output_type": "stream",
     "text": [
      "C:\\Users\\Itshony\\Anaconda3\\lib\\site-packages\\sklearn\\svm\\_base.py:977: ConvergenceWarning: Liblinear failed to converge, increase the number of iterations.\n",
      "  \"the number of iterations.\", ConvergenceWarning)\n"
     ]
    },
    {
     "name": "stdout",
     "output_type": "stream",
     "text": [
      "random_state= 39    auc_test = 0.7328132618235008\n",
      "\n"
     ]
    },
    {
     "name": "stderr",
     "output_type": "stream",
     "text": [
      "C:\\Users\\Itshony\\Anaconda3\\lib\\site-packages\\sklearn\\svm\\_base.py:977: ConvergenceWarning: Liblinear failed to converge, increase the number of iterations.\n",
      "  \"the number of iterations.\", ConvergenceWarning)\n"
     ]
    },
    {
     "name": "stdout",
     "output_type": "stream",
     "text": [
      "random_state= 40    auc_test = 0.7674305216967333\n",
      "\n"
     ]
    },
    {
     "name": "stderr",
     "output_type": "stream",
     "text": [
      "C:\\Users\\Itshony\\Anaconda3\\lib\\site-packages\\sklearn\\svm\\_base.py:977: ConvergenceWarning: Liblinear failed to converge, increase the number of iterations.\n",
      "  \"the number of iterations.\", ConvergenceWarning)\n"
     ]
    },
    {
     "name": "stdout",
     "output_type": "stream",
     "text": [
      "random_state= 41    auc_test = 0.6146595156834065\n",
      "\n"
     ]
    },
    {
     "name": "stderr",
     "output_type": "stream",
     "text": [
      "C:\\Users\\Itshony\\Anaconda3\\lib\\site-packages\\sklearn\\svm\\_base.py:977: ConvergenceWarning: Liblinear failed to converge, increase the number of iterations.\n",
      "  \"the number of iterations.\", ConvergenceWarning)\n"
     ]
    },
    {
     "name": "stdout",
     "output_type": "stream",
     "text": [
      "random_state= 42    auc_test = 0.6598407281001137\n",
      "\n"
     ]
    },
    {
     "name": "stderr",
     "output_type": "stream",
     "text": [
      "C:\\Users\\Itshony\\Anaconda3\\lib\\site-packages\\sklearn\\svm\\_base.py:977: ConvergenceWarning: Liblinear failed to converge, increase the number of iterations.\n",
      "  \"the number of iterations.\", ConvergenceWarning)\n"
     ]
    },
    {
     "name": "stdout",
     "output_type": "stream",
     "text": [
      "random_state= 43    auc_test = 0.6125467251747114\n",
      "\n"
     ]
    },
    {
     "name": "stderr",
     "output_type": "stream",
     "text": [
      "C:\\Users\\Itshony\\Anaconda3\\lib\\site-packages\\sklearn\\svm\\_base.py:977: ConvergenceWarning: Liblinear failed to converge, increase the number of iterations.\n",
      "  \"the number of iterations.\", ConvergenceWarning)\n"
     ]
    },
    {
     "name": "stdout",
     "output_type": "stream",
     "text": [
      "random_state= 44    auc_test = 0.6293677880708598\n",
      "\n"
     ]
    },
    {
     "name": "stderr",
     "output_type": "stream",
     "text": [
      "C:\\Users\\Itshony\\Anaconda3\\lib\\site-packages\\sklearn\\svm\\_base.py:977: ConvergenceWarning: Liblinear failed to converge, increase the number of iterations.\n",
      "  \"the number of iterations.\", ConvergenceWarning)\n"
     ]
    },
    {
     "name": "stdout",
     "output_type": "stream",
     "text": [
      "random_state= 45    auc_test = 0.5820737851454575\n",
      "\n"
     ]
    },
    {
     "name": "stderr",
     "output_type": "stream",
     "text": [
      "C:\\Users\\Itshony\\Anaconda3\\lib\\site-packages\\sklearn\\svm\\_base.py:977: ConvergenceWarning: Liblinear failed to converge, increase the number of iterations.\n",
      "  \"the number of iterations.\", ConvergenceWarning)\n"
     ]
    },
    {
     "name": "stdout",
     "output_type": "stream",
     "text": [
      "random_state= 46    auc_test = 0.7163985047944091\n",
      "\n"
     ]
    },
    {
     "name": "stderr",
     "output_type": "stream",
     "text": [
      "C:\\Users\\Itshony\\Anaconda3\\lib\\site-packages\\sklearn\\svm\\_base.py:977: ConvergenceWarning: Liblinear failed to converge, increase the number of iterations.\n",
      "  \"the number of iterations.\", ConvergenceWarning)\n"
     ]
    },
    {
     "name": "stdout",
     "output_type": "stream",
     "text": [
      "random_state= 47    auc_test = 0.5828051357061595\n",
      "\n"
     ]
    },
    {
     "name": "stderr",
     "output_type": "stream",
     "text": [
      "C:\\Users\\Itshony\\Anaconda3\\lib\\site-packages\\sklearn\\svm\\_base.py:977: ConvergenceWarning: Liblinear failed to converge, increase the number of iterations.\n",
      "  \"the number of iterations.\", ConvergenceWarning)\n"
     ]
    },
    {
     "name": "stdout",
     "output_type": "stream",
     "text": [
      "random_state= 48    auc_test = 0.6910450186900698\n",
      "\n"
     ]
    },
    {
     "name": "stderr",
     "output_type": "stream",
     "text": [
      "C:\\Users\\Itshony\\Anaconda3\\lib\\site-packages\\sklearn\\svm\\_base.py:977: ConvergenceWarning: Liblinear failed to converge, increase the number of iterations.\n",
      "  \"the number of iterations.\", ConvergenceWarning)\n"
     ]
    },
    {
     "name": "stdout",
     "output_type": "stream",
     "text": [
      "random_state= 49    auc_test = 0.7716561027141232\n",
      "\n"
     ]
    },
    {
     "name": "stderr",
     "output_type": "stream",
     "text": [
      "C:\\Users\\Itshony\\Anaconda3\\lib\\site-packages\\sklearn\\svm\\_base.py:977: ConvergenceWarning: Liblinear failed to converge, increase the number of iterations.\n",
      "  \"the number of iterations.\", ConvergenceWarning)\n"
     ]
    },
    {
     "name": "stdout",
     "output_type": "stream",
     "text": [
      "random_state= 50    auc_test = 0.7266374126442385\n",
      "\n"
     ]
    },
    {
     "name": "stderr",
     "output_type": "stream",
     "text": [
      "C:\\Users\\Itshony\\Anaconda3\\lib\\site-packages\\sklearn\\svm\\_base.py:977: ConvergenceWarning: Liblinear failed to converge, increase the number of iterations.\n",
      "  \"the number of iterations.\", ConvergenceWarning)\n"
     ]
    },
    {
     "name": "stdout",
     "output_type": "stream",
     "text": [
      "random_state= 51    auc_test = 0.7141231919388916\n",
      "\n"
     ]
    },
    {
     "name": "stderr",
     "output_type": "stream",
     "text": [
      "C:\\Users\\Itshony\\Anaconda3\\lib\\site-packages\\sklearn\\svm\\_base.py:977: ConvergenceWarning: Liblinear failed to converge, increase the number of iterations.\n",
      "  \"the number of iterations.\", ConvergenceWarning)\n"
     ]
    },
    {
     "name": "stdout",
     "output_type": "stream",
     "text": [
      "random_state= 52    auc_test = 0.6578904599382415\n",
      "\n"
     ]
    },
    {
     "name": "stderr",
     "output_type": "stream",
     "text": [
      "C:\\Users\\Itshony\\Anaconda3\\lib\\site-packages\\sklearn\\svm\\_base.py:977: ConvergenceWarning: Liblinear failed to converge, increase the number of iterations.\n",
      "  \"the number of iterations.\", ConvergenceWarning)\n"
     ]
    },
    {
     "name": "stdout",
     "output_type": "stream",
     "text": [
      "random_state= 53    auc_test = 0.6398504794409231\n",
      "\n"
     ]
    },
    {
     "name": "stderr",
     "output_type": "stream",
     "text": [
      "C:\\Users\\Itshony\\Anaconda3\\lib\\site-packages\\sklearn\\svm\\_base.py:977: ConvergenceWarning: Liblinear failed to converge, increase the number of iterations.\n",
      "  \"the number of iterations.\", ConvergenceWarning)\n"
     ]
    },
    {
     "name": "stdout",
     "output_type": "stream",
     "text": [
      "random_state= 54    auc_test = 0.5550138143994798\n",
      "\n"
     ]
    },
    {
     "name": "stderr",
     "output_type": "stream",
     "text": [
      "C:\\Users\\Itshony\\Anaconda3\\lib\\site-packages\\sklearn\\svm\\_base.py:977: ConvergenceWarning: Liblinear failed to converge, increase the number of iterations.\n",
      "  \"the number of iterations.\", ConvergenceWarning)\n"
     ]
    },
    {
     "name": "stdout",
     "output_type": "stream",
     "text": [
      "random_state= 55    auc_test = 0.5460750853242321\n",
      "\n"
     ]
    },
    {
     "name": "stderr",
     "output_type": "stream",
     "text": [
      "C:\\Users\\Itshony\\Anaconda3\\lib\\site-packages\\sklearn\\svm\\_base.py:977: ConvergenceWarning: Liblinear failed to converge, increase the number of iterations.\n",
      "  \"the number of iterations.\", ConvergenceWarning)\n"
     ]
    },
    {
     "name": "stdout",
     "output_type": "stream",
     "text": [
      "random_state= 56    auc_test = 0.6548025353486104\n",
      "\n"
     ]
    },
    {
     "name": "stderr",
     "output_type": "stream",
     "text": [
      "C:\\Users\\Itshony\\Anaconda3\\lib\\site-packages\\sklearn\\svm\\_base.py:977: ConvergenceWarning: Liblinear failed to converge, increase the number of iterations.\n",
      "  \"the number of iterations.\", ConvergenceWarning)\n"
     ]
    },
    {
     "name": "stdout",
     "output_type": "stream",
     "text": [
      "random_state= 57    auc_test = 0.6964082561352186\n",
      "\n"
     ]
    },
    {
     "name": "stderr",
     "output_type": "stream",
     "text": [
      "C:\\Users\\Itshony\\Anaconda3\\lib\\site-packages\\sklearn\\svm\\_base.py:977: ConvergenceWarning: Liblinear failed to converge, increase the number of iterations.\n",
      "  \"the number of iterations.\", ConvergenceWarning)\n"
     ]
    },
    {
     "name": "stdout",
     "output_type": "stream",
     "text": [
      "random_state= 58    auc_test = 0.573703884284089\n",
      "\n",
      "random_state= 59    auc_test = 0.5913375589143508\n",
      "\n",
      "random_state= 60    auc_test = 0.6141719486429383\n",
      "\n"
     ]
    },
    {
     "name": "stderr",
     "output_type": "stream",
     "text": [
      "C:\\Users\\Itshony\\Anaconda3\\lib\\site-packages\\sklearn\\svm\\_base.py:977: ConvergenceWarning: Liblinear failed to converge, increase the number of iterations.\n",
      "  \"the number of iterations.\", ConvergenceWarning)\n"
     ]
    },
    {
     "name": "stdout",
     "output_type": "stream",
     "text": [
      "random_state= 61    auc_test = 0.6629286526897449\n",
      "\n"
     ]
    },
    {
     "name": "stderr",
     "output_type": "stream",
     "text": [
      "C:\\Users\\Itshony\\Anaconda3\\lib\\site-packages\\sklearn\\svm\\_base.py:977: ConvergenceWarning: Liblinear failed to converge, increase the number of iterations.\n",
      "  \"the number of iterations.\", ConvergenceWarning)\n"
     ]
    },
    {
     "name": "stdout",
     "output_type": "stream",
     "text": [
      "random_state= 62    auc_test = 0.6023078173248821\n",
      "\n"
     ]
    },
    {
     "name": "stderr",
     "output_type": "stream",
     "text": [
      "C:\\Users\\Itshony\\Anaconda3\\lib\\site-packages\\sklearn\\svm\\_base.py:977: ConvergenceWarning: Liblinear failed to converge, increase the number of iterations.\n",
      "  \"the number of iterations.\", ConvergenceWarning)\n"
     ]
    },
    {
     "name": "stdout",
     "output_type": "stream",
     "text": [
      "random_state= 63    auc_test = 0.7225743539736713\n",
      "\n"
     ]
    },
    {
     "name": "stderr",
     "output_type": "stream",
     "text": [
      "C:\\Users\\Itshony\\Anaconda3\\lib\\site-packages\\sklearn\\svm\\_base.py:977: ConvergenceWarning: Liblinear failed to converge, increase the number of iterations.\n",
      "  \"the number of iterations.\", ConvergenceWarning)\n"
     ]
    },
    {
     "name": "stdout",
     "output_type": "stream",
     "text": [
      "random_state= 64    auc_test = 0.7211116528522672\n",
      "\n"
     ]
    },
    {
     "name": "stderr",
     "output_type": "stream",
     "text": [
      "C:\\Users\\Itshony\\Anaconda3\\lib\\site-packages\\sklearn\\svm\\_base.py:977: ConvergenceWarning: Liblinear failed to converge, increase the number of iterations.\n",
      "  \"the number of iterations.\", ConvergenceWarning)\n"
     ]
    },
    {
     "name": "stdout",
     "output_type": "stream",
     "text": [
      "random_state= 65    auc_test = 0.6343247196489518\n",
      "\n"
     ]
    },
    {
     "name": "stderr",
     "output_type": "stream",
     "text": [
      "C:\\Users\\Itshony\\Anaconda3\\lib\\site-packages\\sklearn\\svm\\_base.py:977: ConvergenceWarning: Liblinear failed to converge, increase the number of iterations.\n",
      "  \"the number of iterations.\", ConvergenceWarning)\n"
     ]
    },
    {
     "name": "stdout",
     "output_type": "stream",
     "text": [
      "random_state= 66    auc_test = 0.6876320494067933\n",
      "\n"
     ]
    },
    {
     "name": "stderr",
     "output_type": "stream",
     "text": [
      "C:\\Users\\Itshony\\Anaconda3\\lib\\site-packages\\sklearn\\svm\\_base.py:977: ConvergenceWarning: Liblinear failed to converge, increase the number of iterations.\n",
      "  \"the number of iterations.\", ConvergenceWarning)\n"
     ]
    },
    {
     "name": "stdout",
     "output_type": "stream",
     "text": [
      "random_state= 67    auc_test = 0.7120104014301967\n",
      "\n"
     ]
    },
    {
     "name": "stderr",
     "output_type": "stream",
     "text": [
      "C:\\Users\\Itshony\\Anaconda3\\lib\\site-packages\\sklearn\\svm\\_base.py:977: ConvergenceWarning: Liblinear failed to converge, increase the number of iterations.\n",
      "  \"the number of iterations.\", ConvergenceWarning)\n"
     ]
    },
    {
     "name": "stdout",
     "output_type": "stream",
     "text": [
      "random_state= 68    auc_test = 0.7058345522509345\n",
      "\n"
     ]
    },
    {
     "name": "stderr",
     "output_type": "stream",
     "text": [
      "C:\\Users\\Itshony\\Anaconda3\\lib\\site-packages\\sklearn\\svm\\_base.py:977: ConvergenceWarning: Liblinear failed to converge, increase the number of iterations.\n",
      "  \"the number of iterations.\", ConvergenceWarning)\n"
     ]
    },
    {
     "name": "stdout",
     "output_type": "stream",
     "text": [
      "random_state= 69    auc_test = 0.7269624573378839\n",
      "\n"
     ]
    },
    {
     "name": "stderr",
     "output_type": "stream",
     "text": [
      "C:\\Users\\Itshony\\Anaconda3\\lib\\site-packages\\sklearn\\svm\\_base.py:977: ConvergenceWarning: Liblinear failed to converge, increase the number of iterations.\n",
      "  \"the number of iterations.\", ConvergenceWarning)\n"
     ]
    },
    {
     "name": "stdout",
     "output_type": "stream",
     "text": [
      "random_state= 70    auc_test = 0.7059970745977573\n",
      "\n"
     ]
    },
    {
     "name": "stderr",
     "output_type": "stream",
     "text": [
      "C:\\Users\\Itshony\\Anaconda3\\lib\\site-packages\\sklearn\\svm\\_base.py:977: ConvergenceWarning: Liblinear failed to converge, increase the number of iterations.\n",
      "  \"the number of iterations.\", ConvergenceWarning)\n"
     ]
    },
    {
     "name": "stdout",
     "output_type": "stream",
     "text": [
      "random_state= 71    auc_test = 0.5990573703884284\n",
      "\n"
     ]
    },
    {
     "name": "stderr",
     "output_type": "stream",
     "text": [
      "C:\\Users\\Itshony\\Anaconda3\\lib\\site-packages\\sklearn\\svm\\_base.py:977: ConvergenceWarning: Liblinear failed to converge, increase the number of iterations.\n",
      "  \"the number of iterations.\", ConvergenceWarning)\n"
     ]
    },
    {
     "name": "stdout",
     "output_type": "stream",
     "text": [
      "random_state= 72    auc_test = 0.6199414919551438\n",
      "\n"
     ]
    },
    {
     "name": "stderr",
     "output_type": "stream",
     "text": [
      "C:\\Users\\Itshony\\Anaconda3\\lib\\site-packages\\sklearn\\svm\\_base.py:977: ConvergenceWarning: Liblinear failed to converge, increase the number of iterations.\n",
      "  \"the number of iterations.\", ConvergenceWarning)\n"
     ]
    },
    {
     "name": "stdout",
     "output_type": "stream",
     "text": [
      "random_state= 73    auc_test = 0.6569153258573053\n",
      "\n"
     ]
    },
    {
     "name": "stderr",
     "output_type": "stream",
     "text": [
      "C:\\Users\\Itshony\\Anaconda3\\lib\\site-packages\\sklearn\\svm\\_base.py:977: ConvergenceWarning: Liblinear failed to converge, increase the number of iterations.\n",
      "  \"the number of iterations.\", ConvergenceWarning)\n"
     ]
    },
    {
     "name": "stdout",
     "output_type": "stream",
     "text": [
      "random_state= 74    auc_test = 0.7116853567365512\n",
      "\n"
     ]
    },
    {
     "name": "stderr",
     "output_type": "stream",
     "text": [
      "C:\\Users\\Itshony\\Anaconda3\\lib\\site-packages\\sklearn\\svm\\_base.py:977: ConvergenceWarning: Liblinear failed to converge, increase the number of iterations.\n",
      "  \"the number of iterations.\", ConvergenceWarning)\n"
     ]
    },
    {
     "name": "stdout",
     "output_type": "stream",
     "text": [
      "random_state= 75    auc_test = 0.6312367950593206\n",
      "\n"
     ]
    },
    {
     "name": "stderr",
     "output_type": "stream",
     "text": [
      "C:\\Users\\Itshony\\Anaconda3\\lib\\site-packages\\sklearn\\svm\\_base.py:977: ConvergenceWarning: Liblinear failed to converge, increase the number of iterations.\n",
      "  \"the number of iterations.\", ConvergenceWarning)\n"
     ]
    },
    {
     "name": "stdout",
     "output_type": "stream",
     "text": [
      "random_state= 76    auc_test = 0.7284251584592881\n",
      "\n"
     ]
    },
    {
     "name": "stderr",
     "output_type": "stream",
     "text": [
      "C:\\Users\\Itshony\\Anaconda3\\lib\\site-packages\\sklearn\\svm\\_base.py:977: ConvergenceWarning: Liblinear failed to converge, increase the number of iterations.\n",
      "  \"the number of iterations.\", ConvergenceWarning)\n"
     ]
    },
    {
     "name": "stdout",
     "output_type": "stream",
     "text": [
      "random_state= 77    auc_test = 0.625873557614172\n",
      "\n"
     ]
    },
    {
     "name": "stderr",
     "output_type": "stream",
     "text": [
      "C:\\Users\\Itshony\\Anaconda3\\lib\\site-packages\\sklearn\\svm\\_base.py:977: ConvergenceWarning: Liblinear failed to converge, increase the number of iterations.\n",
      "  \"the number of iterations.\", ConvergenceWarning)\n"
     ]
    },
    {
     "name": "stdout",
     "output_type": "stream",
     "text": [
      "random_state= 78    auc_test = 0.6195351860880871\n",
      "\n"
     ]
    },
    {
     "name": "stderr",
     "output_type": "stream",
     "text": [
      "C:\\Users\\Itshony\\Anaconda3\\lib\\site-packages\\sklearn\\svm\\_base.py:977: ConvergenceWarning: Liblinear failed to converge, increase the number of iterations.\n",
      "  \"the number of iterations.\", ConvergenceWarning)\n"
     ]
    },
    {
     "name": "stdout",
     "output_type": "stream",
     "text": [
      "random_state= 79    auc_test = 0.559076873070047\n",
      "\n"
     ]
    },
    {
     "name": "stderr",
     "output_type": "stream",
     "text": [
      "C:\\Users\\Itshony\\Anaconda3\\lib\\site-packages\\sklearn\\svm\\_base.py:977: ConvergenceWarning: Liblinear failed to converge, increase the number of iterations.\n",
      "  \"the number of iterations.\", ConvergenceWarning)\n"
     ]
    },
    {
     "name": "stdout",
     "output_type": "stream",
     "text": [
      "random_state= 80    auc_test = 0.6326994961807249\n",
      "\n"
     ]
    },
    {
     "name": "stderr",
     "output_type": "stream",
     "text": [
      "C:\\Users\\Itshony\\Anaconda3\\lib\\site-packages\\sklearn\\svm\\_base.py:977: ConvergenceWarning: Liblinear failed to converge, increase the number of iterations.\n",
      "  \"the number of iterations.\", ConvergenceWarning)\n"
     ]
    },
    {
     "name": "stdout",
     "output_type": "stream",
     "text": [
      "random_state= 81    auc_test = 0.599219892735251\n",
      "\n"
     ]
    },
    {
     "name": "stderr",
     "output_type": "stream",
     "text": [
      "C:\\Users\\Itshony\\Anaconda3\\lib\\site-packages\\sklearn\\svm\\_base.py:977: ConvergenceWarning: Liblinear failed to converge, increase the number of iterations.\n",
      "  \"the number of iterations.\", ConvergenceWarning)\n"
     ]
    },
    {
     "name": "stdout",
     "output_type": "stream",
     "text": [
      "random_state= 82    auc_test = 0.5901999024865919\n",
      "\n"
     ]
    },
    {
     "name": "stderr",
     "output_type": "stream",
     "text": [
      "C:\\Users\\Itshony\\Anaconda3\\lib\\site-packages\\sklearn\\svm\\_base.py:977: ConvergenceWarning: Liblinear failed to converge, increase the number of iterations.\n",
      "  \"the number of iterations.\", ConvergenceWarning)\n"
     ]
    },
    {
     "name": "stdout",
     "output_type": "stream",
     "text": [
      "random_state= 83    auc_test = 0.6756053957419146\n",
      "\n"
     ]
    },
    {
     "name": "stderr",
     "output_type": "stream",
     "text": [
      "C:\\Users\\Itshony\\Anaconda3\\lib\\site-packages\\sklearn\\svm\\_base.py:977: ConvergenceWarning: Liblinear failed to converge, increase the number of iterations.\n",
      "  \"the number of iterations.\", ConvergenceWarning)\n"
     ]
    },
    {
     "name": "stdout",
     "output_type": "stream",
     "text": [
      "random_state= 84    auc_test = 0.6790183650251909\n",
      "\n"
     ]
    },
    {
     "name": "stderr",
     "output_type": "stream",
     "text": [
      "C:\\Users\\Itshony\\Anaconda3\\lib\\site-packages\\sklearn\\svm\\_base.py:977: ConvergenceWarning: Liblinear failed to converge, increase the number of iterations.\n",
      "  \"the number of iterations.\", ConvergenceWarning)\n"
     ]
    },
    {
     "name": "stdout",
     "output_type": "stream",
     "text": [
      "random_state= 85    auc_test = 0.6899886234357224\n",
      "\n"
     ]
    },
    {
     "name": "stderr",
     "output_type": "stream",
     "text": [
      "C:\\Users\\Itshony\\Anaconda3\\lib\\site-packages\\sklearn\\svm\\_base.py:977: ConvergenceWarning: Liblinear failed to converge, increase the number of iterations.\n",
      "  \"the number of iterations.\", ConvergenceWarning)\n"
     ]
    },
    {
     "name": "stdout",
     "output_type": "stream",
     "text": [
      "random_state= 86    auc_test = 0.6000325044693645\n",
      "\n"
     ]
    },
    {
     "name": "stderr",
     "output_type": "stream",
     "text": [
      "C:\\Users\\Itshony\\Anaconda3\\lib\\site-packages\\sklearn\\svm\\_base.py:977: ConvergenceWarning: Liblinear failed to converge, increase the number of iterations.\n",
      "  \"the number of iterations.\", ConvergenceWarning)\n"
     ]
    },
    {
     "name": "stdout",
     "output_type": "stream",
     "text": [
      "random_state= 87    auc_test = 0.6819437672679993\n",
      "\n"
     ]
    },
    {
     "name": "stderr",
     "output_type": "stream",
     "text": [
      "C:\\Users\\Itshony\\Anaconda3\\lib\\site-packages\\sklearn\\svm\\_base.py:977: ConvergenceWarning: Liblinear failed to converge, increase the number of iterations.\n",
      "  \"the number of iterations.\", ConvergenceWarning)\n"
     ]
    },
    {
     "name": "stdout",
     "output_type": "stream",
     "text": [
      "random_state= 88    auc_test = 0.6954331220542825\n",
      "\n"
     ]
    },
    {
     "name": "stderr",
     "output_type": "stream",
     "text": [
      "C:\\Users\\Itshony\\Anaconda3\\lib\\site-packages\\sklearn\\svm\\_base.py:977: ConvergenceWarning: Liblinear failed to converge, increase the number of iterations.\n",
      "  \"the number of iterations.\", ConvergenceWarning)\n"
     ]
    },
    {
     "name": "stdout",
     "output_type": "stream",
     "text": [
      "random_state= 89    auc_test = 0.640988135868682\n",
      "\n"
     ]
    },
    {
     "name": "stderr",
     "output_type": "stream",
     "text": [
      "C:\\Users\\Itshony\\Anaconda3\\lib\\site-packages\\sklearn\\svm\\_base.py:977: ConvergenceWarning: Liblinear failed to converge, increase the number of iterations.\n",
      "  \"the number of iterations.\", ConvergenceWarning)\n"
     ]
    },
    {
     "name": "stdout",
     "output_type": "stream",
     "text": [
      "random_state= 90    auc_test = 0.638875345359987\n",
      "\n"
     ]
    },
    {
     "name": "stderr",
     "output_type": "stream",
     "text": [
      "C:\\Users\\Itshony\\Anaconda3\\lib\\site-packages\\sklearn\\svm\\_base.py:977: ConvergenceWarning: Liblinear failed to converge, increase the number of iterations.\n",
      "  \"the number of iterations.\", ConvergenceWarning)\n"
     ]
    },
    {
     "name": "stdout",
     "output_type": "stream",
     "text": [
      "random_state= 91    auc_test = 0.6916951080773606\n",
      "\n"
     ]
    },
    {
     "name": "stderr",
     "output_type": "stream",
     "text": [
      "C:\\Users\\Itshony\\Anaconda3\\lib\\site-packages\\sklearn\\svm\\_base.py:977: ConvergenceWarning: Liblinear failed to converge, increase the number of iterations.\n",
      "  \"the number of iterations.\", ConvergenceWarning)\n"
     ]
    },
    {
     "name": "stdout",
     "output_type": "stream",
     "text": [
      "random_state= 92    auc_test = 0.7440273037542662\n",
      "\n"
     ]
    },
    {
     "name": "stderr",
     "output_type": "stream",
     "text": [
      "C:\\Users\\Itshony\\Anaconda3\\lib\\site-packages\\sklearn\\svm\\_base.py:977: ConvergenceWarning: Liblinear failed to converge, increase the number of iterations.\n",
      "  \"the number of iterations.\", ConvergenceWarning)\n"
     ]
    },
    {
     "name": "stdout",
     "output_type": "stream",
     "text": [
      "random_state= 93    auc_test = 0.6307492280188526\n",
      "\n"
     ]
    },
    {
     "name": "stderr",
     "output_type": "stream",
     "text": [
      "C:\\Users\\Itshony\\Anaconda3\\lib\\site-packages\\sklearn\\svm\\_base.py:977: ConvergenceWarning: Liblinear failed to converge, increase the number of iterations.\n",
      "  \"the number of iterations.\", ConvergenceWarning)\n"
     ]
    },
    {
     "name": "stdout",
     "output_type": "stream",
     "text": [
      "random_state= 94    auc_test = 0.5907687307004714\n",
      "\n"
     ]
    },
    {
     "name": "stderr",
     "output_type": "stream",
     "text": [
      "C:\\Users\\Itshony\\Anaconda3\\lib\\site-packages\\sklearn\\svm\\_base.py:977: ConvergenceWarning: Liblinear failed to converge, increase the number of iterations.\n",
      "  \"the number of iterations.\", ConvergenceWarning)\n"
     ]
    },
    {
     "name": "stdout",
     "output_type": "stream",
     "text": [
      "random_state= 95    auc_test = 0.5988948480416058\n",
      "\n"
     ]
    },
    {
     "name": "stderr",
     "output_type": "stream",
     "text": [
      "C:\\Users\\Itshony\\Anaconda3\\lib\\site-packages\\sklearn\\svm\\_base.py:977: ConvergenceWarning: Liblinear failed to converge, increase the number of iterations.\n",
      "  \"the number of iterations.\", ConvergenceWarning)\n"
     ]
    },
    {
     "name": "stdout",
     "output_type": "stream",
     "text": [
      "random_state= 96    auc_test = 0.5944254835039818\n",
      "\n"
     ]
    },
    {
     "name": "stderr",
     "output_type": "stream",
     "text": [
      "C:\\Users\\Itshony\\Anaconda3\\lib\\site-packages\\sklearn\\svm\\_base.py:977: ConvergenceWarning: Liblinear failed to converge, increase the number of iterations.\n",
      "  \"the number of iterations.\", ConvergenceWarning)\n"
     ]
    },
    {
     "name": "stdout",
     "output_type": "stream",
     "text": [
      "random_state= 97    auc_test = 0.673330082886397\n",
      "\n"
     ]
    },
    {
     "name": "stderr",
     "output_type": "stream",
     "text": [
      "C:\\Users\\Itshony\\Anaconda3\\lib\\site-packages\\sklearn\\svm\\_base.py:977: ConvergenceWarning: Liblinear failed to converge, increase the number of iterations.\n",
      "  \"the number of iterations.\", ConvergenceWarning)\n"
     ]
    },
    {
     "name": "stdout",
     "output_type": "stream",
     "text": [
      "random_state= 98    auc_test = 0.6780432309442548\n",
      "\n"
     ]
    },
    {
     "name": "stderr",
     "output_type": "stream",
     "text": [
      "C:\\Users\\Itshony\\Anaconda3\\lib\\site-packages\\sklearn\\svm\\_base.py:977: ConvergenceWarning: Liblinear failed to converge, increase the number of iterations.\n",
      "  \"the number of iterations.\", ConvergenceWarning)\n"
     ]
    },
    {
     "name": "stdout",
     "output_type": "stream",
     "text": [
      "random_state= 99    auc_test = 0.6970583455225093\n",
      "\n",
      "random_state= 100    auc_test = 0.6673167560539575\n",
      "\n",
      "평균 =  0.6530131643100927\n"
     ]
    },
    {
     "name": "stderr",
     "output_type": "stream",
     "text": [
      "C:\\Users\\Itshony\\Anaconda3\\lib\\site-packages\\sklearn\\svm\\_base.py:977: ConvergenceWarning: Liblinear failed to converge, increase the number of iterations.\n",
      "  \"the number of iterations.\", ConvergenceWarning)\n"
     ]
    }
   ],
   "source": [
    "from sklearn.model_selection import train_test_split\n",
    "from sklearn.linear_model import LogisticRegression\n",
    "from sklearn.metrics import roc_auc_score\n",
    "from sklearn.preprocessing import MinMaxScaler\n",
    "\n",
    "random_state = []\n",
    "\n",
    "for j in range(1,101): \n",
    "    random_state.append(j)\n",
    "ai = []\n",
    "for rand in random_state:\n",
    "  X_train,X_test,y_train,y_test=train_test_split(x_robust,y,test_size=0.2,random_state= rand,stratify=y)\n",
    "  log_reg = LogisticRegression(random_state=13,solver='liblinear',C=10.0)\n",
    "  log_reg.fit(X_train, y_train)\n",
    "  pred_proba_1 = log_reg.predict_proba(X_test)[:,1]\n",
    "  auc_test = roc_auc_score(y_test, pred_proba_1)\n",
    "  print('random_state=', rand,'  ' ,'auc_test =', auc_test)\n",
    "  print('')\n",
    "  ai.append(auc_test)\n",
    "print(\"평균 = \", np.mean(ai))"
   ]
  },
  {
   "cell_type": "code",
   "execution_count": 105,
   "metadata": {},
   "outputs": [
    {
     "data": {
      "text/plain": [
       "<matplotlib.axes._subplots.AxesSubplot at 0x1b3f77b8ac8>"
      ]
     },
     "execution_count": 105,
     "metadata": {},
     "output_type": "execute_result"
    },
    {
     "data": {
      "image/png": "[encoded data removed]",
      "text/plain": [
       "<Figure size 360x360 with 2 Axes>"
      ]
     },
     "metadata": {},
     "output_type": "display_data"
    }
   ],
   "source": [
    "plt.rcParams['figure.figsize'] = (5, 5)\n",
    "sns.set(style = 'dark', font_scale = 1.4)\n",
    "sns.heatmap(cm, annot = True, annot_kws = {\"size\": 15})\n",
    "\n",
    "# Y축: 실제 값, X축: 예측 값\n",
    "# 실제 값이 1인데 예측도 1로 한 경우는 5개 "
   ]
  },
  {
   "cell_type": "markdown",
   "metadata": {},
   "source": [
    "## >> 결론: StandardScaler(), LogisticRegression 사용"
   ]
  },
  {
   "cell_type": "code",
   "execution_count": 76,
   "metadata": {},
   "outputs": [],
   "source": [
    "# x_std\n",
    "# y"
   ]
  },
  {
   "cell_type": "code",
   "execution_count": 77,
   "metadata": {},
   "outputs": [
    {
     "data": {
      "text/plain": [
       "-1    1463\n",
       " 1     104\n",
       "Name: Pass/Fail, dtype: int64"
      ]
     },
     "execution_count": 77,
     "metadata": {},
     "output_type": "execute_result"
    }
   ],
   "source": [
    "y.value_counts()"
   ]
  },
  {
   "cell_type": "markdown",
   "metadata": {},
   "source": [
    "## 성능비교 (raw_data 에 정규화 진행)\n",
    "\n",
    "### standardScaler\n",
    "- accuracy score 0.8694267515923567\n",
    "- precision_score 0.09908980105370763\n",
    "- recall_score 0.20833333333333334\n",
    "- f1_score 0.19607843137254902"
   ]
  },
  {
   "cell_type": "markdown",
   "metadata": {},
   "source": [
    "## 클래스 불균형 해결\n",
    "\n",
    "- 언더샘플링\n",
    "- 오버샘플링\n",
    "- 언더 샘플링 + 오버샘플링"
   ]
  },
  {
   "cell_type": "code",
   "execution_count": 108,
   "metadata": {},
   "outputs": [],
   "source": [
    "## StandardScaler: 평균과 표준편차 사용. (값이 꼭 0과 1 사이는 아님)"
   ]
  },
  {
   "cell_type": "code",
   "execution_count": 109,
   "metadata": {},
   "outputs": [],
   "source": [
    "# data = pd.concat([pd.DataFrame(std_data),pd.DataFrame(y)], axis=1)"
   ]
  },
  {
   "cell_type": "code",
   "execution_count": 118,
   "metadata": {},
   "outputs": [],
   "source": [
    "# 정규화한 데이터 넣음 \n",
    "# data.head()"
   ]
  },
  {
   "cell_type": "code",
   "execution_count": 11,
   "metadata": {},
   "outputs": [
    {
     "data": {
      "text/plain": [
       "(1567, 591)"
      ]
     },
     "execution_count": 11,
     "metadata": {},
     "output_type": "execute_result"
    }
   ],
   "source": [
    "# deleting the first column\n",
    "\n",
    "data = raw_data.drop(columns = ['Time'], axis = 1)\n",
    "\n",
    "# checking the shape of the data after deleting a column\n",
    "data.shape"
   ]
  },
  {
   "cell_type": "markdown",
   "metadata": {},
   "source": [
    "### 언더샘플링"
   ]
  },
  {
   "cell_type": "code",
   "execution_count": 137,
   "metadata": {},
   "outputs": [
    {
     "name": "stdout",
     "output_type": "stream",
     "text": [
      "104\n"
     ]
    }
   ],
   "source": [
    "# Under Sampling\n",
    "failed_tests = np.array(data[data['Pass/Fail'] == 1].index)\n",
    "no_failed_tests = len(failed_tests)\n",
    "\n",
    "print(no_failed_tests)"
   ]
  },
  {
   "cell_type": "code",
   "execution_count": 138,
   "metadata": {},
   "outputs": [
    {
     "name": "stdout",
     "output_type": "stream",
     "text": [
      "1463\n"
     ]
    }
   ],
   "source": [
    "normal_indices = data[data['Pass/Fail'] == -1]\n",
    "no_normal_indices = len(normal_indices)\n",
    "\n",
    "print(no_normal_indices)"
   ]
  },
  {
   "cell_type": "code",
   "execution_count": 139,
   "metadata": {},
   "outputs": [
    {
     "name": "stdout",
     "output_type": "stream",
     "text": [
      "104\n"
     ]
    }
   ],
   "source": [
    "random_normal_indices = np.random.choice(no_normal_indices, size = no_failed_tests, replace = True)\n",
    "random_normal_indices = np.array(random_normal_indices)\n",
    "\n",
    "print(len(random_normal_indices))"
   ]
  },
  {
   "cell_type": "code",
   "execution_count": 140,
   "metadata": {},
   "outputs": [
    {
     "name": "stdout",
     "output_type": "stream",
     "text": [
      "208\n"
     ]
    }
   ],
   "source": [
    "under_sample = np.concatenate([failed_tests, random_normal_indices])\n",
    "print(len(under_sample))"
   ]
  },
  {
   "cell_type": "code",
   "execution_count": 144,
   "metadata": {},
   "outputs": [],
   "source": [
    "# creating the undersample data\n",
    "\n",
    "undersample_data = data.iloc[under_sample, :]"
   ]
  },
  {
   "cell_type": "code",
   "execution_count": 145,
   "metadata": {},
   "outputs": [
    {
     "data": {
      "text/html": [
       "<div>\n",
       "<style scoped>\n",
       "    .dataframe tbody tr th:only-of-type {\n",
       "        vertical-align: middle;\n",
       "    }\n",
       "\n",
       "    .dataframe tbody tr th {\n",
       "        vertical-align: top;\n",
       "    }\n",
       "\n",
       "    .dataframe thead th {\n",
       "        text-align: right;\n",
       "    }\n",
       "</style>\n",
       "<table border=\"1\" class=\"dataframe\">\n",
       "  <thead>\n",
       "    <tr style=\"text-align: right;\">\n",
       "      <th></th>\n",
       "      <th>0</th>\n",
       "      <th>1</th>\n",
       "      <th>2</th>\n",
       "      <th>3</th>\n",
       "      <th>4</th>\n",
       "      <th>5</th>\n",
       "      <th>6</th>\n",
       "      <th>7</th>\n",
       "      <th>8</th>\n",
       "      <th>9</th>\n",
       "      <th>...</th>\n",
       "      <th>581</th>\n",
       "      <th>582</th>\n",
       "      <th>583</th>\n",
       "      <th>584</th>\n",
       "      <th>585</th>\n",
       "      <th>586</th>\n",
       "      <th>587</th>\n",
       "      <th>588</th>\n",
       "      <th>589</th>\n",
       "      <th>Pass/Fail</th>\n",
       "    </tr>\n",
       "  </thead>\n",
       "  <tbody>\n",
       "    <tr>\n",
       "      <th>2</th>\n",
       "      <td>2932.61</td>\n",
       "      <td>2559.94</td>\n",
       "      <td>2186.4111</td>\n",
       "      <td>1698.0172</td>\n",
       "      <td>1.5102</td>\n",
       "      <td>100.0</td>\n",
       "      <td>95.4878</td>\n",
       "      <td>0.1241</td>\n",
       "      <td>1.4436</td>\n",
       "      <td>0.0041</td>\n",
       "      <td>...</td>\n",
       "      <td>82.860200</td>\n",
       "      <td>0.4958</td>\n",
       "      <td>0.0157</td>\n",
       "      <td>0.0039</td>\n",
       "      <td>3.1745</td>\n",
       "      <td>0.0584</td>\n",
       "      <td>0.0484</td>\n",
       "      <td>0.0148</td>\n",
       "      <td>82.8602</td>\n",
       "      <td>1</td>\n",
       "    </tr>\n",
       "    <tr>\n",
       "      <th>10</th>\n",
       "      <td>2994.05</td>\n",
       "      <td>2548.21</td>\n",
       "      <td>2195.1222</td>\n",
       "      <td>1046.1468</td>\n",
       "      <td>1.3204</td>\n",
       "      <td>100.0</td>\n",
       "      <td>103.3400</td>\n",
       "      <td>0.1223</td>\n",
       "      <td>1.5144</td>\n",
       "      <td>-0.0190</td>\n",
       "      <td>...</td>\n",
       "      <td>57.812200</td>\n",
       "      <td>0.4925</td>\n",
       "      <td>0.0158</td>\n",
       "      <td>0.0041</td>\n",
       "      <td>3.2115</td>\n",
       "      <td>0.0355</td>\n",
       "      <td>0.0205</td>\n",
       "      <td>0.0071</td>\n",
       "      <td>57.8122</td>\n",
       "      <td>1</td>\n",
       "    </tr>\n",
       "    <tr>\n",
       "      <th>11</th>\n",
       "      <td>2928.84</td>\n",
       "      <td>2479.40</td>\n",
       "      <td>2196.2111</td>\n",
       "      <td>1605.7578</td>\n",
       "      <td>0.9959</td>\n",
       "      <td>100.0</td>\n",
       "      <td>97.9156</td>\n",
       "      <td>0.1257</td>\n",
       "      <td>1.4690</td>\n",
       "      <td>0.0170</td>\n",
       "      <td>...</td>\n",
       "      <td>75.507700</td>\n",
       "      <td>0.4987</td>\n",
       "      <td>0.0427</td>\n",
       "      <td>0.0092</td>\n",
       "      <td>8.5646</td>\n",
       "      <td>0.0370</td>\n",
       "      <td>0.0279</td>\n",
       "      <td>0.0081</td>\n",
       "      <td>75.5077</td>\n",
       "      <td>1</td>\n",
       "    </tr>\n",
       "    <tr>\n",
       "      <th>14</th>\n",
       "      <td>2963.97</td>\n",
       "      <td>2629.48</td>\n",
       "      <td>2224.6222</td>\n",
       "      <td>947.7739</td>\n",
       "      <td>1.2924</td>\n",
       "      <td>100.0</td>\n",
       "      <td>104.8489</td>\n",
       "      <td>0.1197</td>\n",
       "      <td>1.4474</td>\n",
       "      <td>0.0144</td>\n",
       "      <td>...</td>\n",
       "      <td>142.908000</td>\n",
       "      <td>0.5077</td>\n",
       "      <td>0.0094</td>\n",
       "      <td>0.0026</td>\n",
       "      <td>1.8483</td>\n",
       "      <td>0.0202</td>\n",
       "      <td>0.0289</td>\n",
       "      <td>0.0084</td>\n",
       "      <td>142.9080</td>\n",
       "      <td>1</td>\n",
       "    </tr>\n",
       "    <tr>\n",
       "      <th>23</th>\n",
       "      <td>2884.74</td>\n",
       "      <td>2514.54</td>\n",
       "      <td>2160.3667</td>\n",
       "      <td>899.9488</td>\n",
       "      <td>1.4022</td>\n",
       "      <td>100.0</td>\n",
       "      <td>105.4978</td>\n",
       "      <td>0.1240</td>\n",
       "      <td>1.5585</td>\n",
       "      <td>-0.0317</td>\n",
       "      <td>...</td>\n",
       "      <td>216.886900</td>\n",
       "      <td>0.4982</td>\n",
       "      <td>0.0099</td>\n",
       "      <td>0.0027</td>\n",
       "      <td>1.9771</td>\n",
       "      <td>0.0098</td>\n",
       "      <td>0.0213</td>\n",
       "      <td>0.0077</td>\n",
       "      <td>216.8869</td>\n",
       "      <td>1</td>\n",
       "    </tr>\n",
       "    <tr>\n",
       "      <th>...</th>\n",
       "      <td>...</td>\n",
       "      <td>...</td>\n",
       "      <td>...</td>\n",
       "      <td>...</td>\n",
       "      <td>...</td>\n",
       "      <td>...</td>\n",
       "      <td>...</td>\n",
       "      <td>...</td>\n",
       "      <td>...</td>\n",
       "      <td>...</td>\n",
       "      <td>...</td>\n",
       "      <td>...</td>\n",
       "      <td>...</td>\n",
       "      <td>...</td>\n",
       "      <td>...</td>\n",
       "      <td>...</td>\n",
       "      <td>...</td>\n",
       "      <td>...</td>\n",
       "      <td>...</td>\n",
       "      <td>...</td>\n",
       "      <td>...</td>\n",
       "    </tr>\n",
       "    <tr>\n",
       "      <th>226</th>\n",
       "      <td>2992.52</td>\n",
       "      <td>2470.14</td>\n",
       "      <td>2197.6444</td>\n",
       "      <td>1247.0334</td>\n",
       "      <td>0.7865</td>\n",
       "      <td>100.0</td>\n",
       "      <td>99.9211</td>\n",
       "      <td>0.1203</td>\n",
       "      <td>1.4703</td>\n",
       "      <td>0.0275</td>\n",
       "      <td>...</td>\n",
       "      <td>59.384000</td>\n",
       "      <td>0.5047</td>\n",
       "      <td>0.0093</td>\n",
       "      <td>0.0033</td>\n",
       "      <td>1.8502</td>\n",
       "      <td>0.0214</td>\n",
       "      <td>0.0127</td>\n",
       "      <td>0.0035</td>\n",
       "      <td>59.3840</td>\n",
       "      <td>-1</td>\n",
       "    </tr>\n",
       "    <tr>\n",
       "      <th>1349</th>\n",
       "      <td>3001.74</td>\n",
       "      <td>2446.55</td>\n",
       "      <td>2207.9555</td>\n",
       "      <td>1283.4368</td>\n",
       "      <td>1.8467</td>\n",
       "      <td>100.0</td>\n",
       "      <td>95.4022</td>\n",
       "      <td>0.1216</td>\n",
       "      <td>1.3997</td>\n",
       "      <td>0.0008</td>\n",
       "      <td>...</td>\n",
       "      <td>97.934373</td>\n",
       "      <td>0.5031</td>\n",
       "      <td>0.0077</td>\n",
       "      <td>0.0022</td>\n",
       "      <td>1.5296</td>\n",
       "      <td>0.0097</td>\n",
       "      <td>0.0098</td>\n",
       "      <td>0.0030</td>\n",
       "      <td>101.2092</td>\n",
       "      <td>-1</td>\n",
       "    </tr>\n",
       "    <tr>\n",
       "      <th>170</th>\n",
       "      <td>2908.06</td>\n",
       "      <td>2465.07</td>\n",
       "      <td>2221.9444</td>\n",
       "      <td>1551.6947</td>\n",
       "      <td>1.5296</td>\n",
       "      <td>100.0</td>\n",
       "      <td>99.2678</td>\n",
       "      <td>0.1222</td>\n",
       "      <td>1.4435</td>\n",
       "      <td>-0.0119</td>\n",
       "      <td>...</td>\n",
       "      <td>47.812300</td>\n",
       "      <td>0.5045</td>\n",
       "      <td>0.0095</td>\n",
       "      <td>0.0025</td>\n",
       "      <td>1.8872</td>\n",
       "      <td>0.0240</td>\n",
       "      <td>0.0115</td>\n",
       "      <td>0.0035</td>\n",
       "      <td>47.8123</td>\n",
       "      <td>-1</td>\n",
       "    </tr>\n",
       "    <tr>\n",
       "      <th>305</th>\n",
       "      <td>3020.71</td>\n",
       "      <td>2483.52</td>\n",
       "      <td>2201.5777</td>\n",
       "      <td>976.4791</td>\n",
       "      <td>0.7679</td>\n",
       "      <td>100.0</td>\n",
       "      <td>99.9956</td>\n",
       "      <td>0.1202</td>\n",
       "      <td>1.3800</td>\n",
       "      <td>-0.0218</td>\n",
       "      <td>...</td>\n",
       "      <td>97.934373</td>\n",
       "      <td>0.5051</td>\n",
       "      <td>0.0143</td>\n",
       "      <td>0.0035</td>\n",
       "      <td>2.8311</td>\n",
       "      <td>0.0187</td>\n",
       "      <td>0.0108</td>\n",
       "      <td>0.0033</td>\n",
       "      <td>58.0827</td>\n",
       "      <td>-1</td>\n",
       "    </tr>\n",
       "    <tr>\n",
       "      <th>315</th>\n",
       "      <td>3019.05</td>\n",
       "      <td>2461.89</td>\n",
       "      <td>2196.6889</td>\n",
       "      <td>1593.1220</td>\n",
       "      <td>1.5925</td>\n",
       "      <td>100.0</td>\n",
       "      <td>99.1133</td>\n",
       "      <td>0.1226</td>\n",
       "      <td>1.4204</td>\n",
       "      <td>0.0011</td>\n",
       "      <td>...</td>\n",
       "      <td>97.934373</td>\n",
       "      <td>0.5019</td>\n",
       "      <td>0.0109</td>\n",
       "      <td>0.0030</td>\n",
       "      <td>2.1740</td>\n",
       "      <td>0.0225</td>\n",
       "      <td>0.0053</td>\n",
       "      <td>0.0015</td>\n",
       "      <td>23.7892</td>\n",
       "      <td>-1</td>\n",
       "    </tr>\n",
       "  </tbody>\n",
       "</table>\n",
       "<p>208 rows × 591 columns</p>\n",
       "</div>"
      ],
      "text/plain": [
       "            0        1          2          3       4      5         6       7  \\\n",
       "2     2932.61  2559.94  2186.4111  1698.0172  1.5102  100.0   95.4878  0.1241   \n",
       "10    2994.05  2548.21  2195.1222  1046.1468  1.3204  100.0  103.3400  0.1223   \n",
       "11    2928.84  2479.40  2196.2111  1605.7578  0.9959  100.0   97.9156  0.1257   \n",
       "14    2963.97  2629.48  2224.6222   947.7739  1.2924  100.0  104.8489  0.1197   \n",
       "23    2884.74  2514.54  2160.3667   899.9488  1.4022  100.0  105.4978  0.1240   \n",
       "...       ...      ...        ...        ...     ...    ...       ...     ...   \n",
       "226   2992.52  2470.14  2197.6444  1247.0334  0.7865  100.0   99.9211  0.1203   \n",
       "1349  3001.74  2446.55  2207.9555  1283.4368  1.8467  100.0   95.4022  0.1216   \n",
       "170   2908.06  2465.07  2221.9444  1551.6947  1.5296  100.0   99.2678  0.1222   \n",
       "305   3020.71  2483.52  2201.5777   976.4791  0.7679  100.0   99.9956  0.1202   \n",
       "315   3019.05  2461.89  2196.6889  1593.1220  1.5925  100.0   99.1133  0.1226   \n",
       "\n",
       "           8       9  ...         581     582     583     584     585     586  \\\n",
       "2     1.4436  0.0041  ...   82.860200  0.4958  0.0157  0.0039  3.1745  0.0584   \n",
       "10    1.5144 -0.0190  ...   57.812200  0.4925  0.0158  0.0041  3.2115  0.0355   \n",
       "11    1.4690  0.0170  ...   75.507700  0.4987  0.0427  0.0092  8.5646  0.0370   \n",
       "14    1.4474  0.0144  ...  142.908000  0.5077  0.0094  0.0026  1.8483  0.0202   \n",
       "23    1.5585 -0.0317  ...  216.886900  0.4982  0.0099  0.0027  1.9771  0.0098   \n",
       "...      ...     ...  ...         ...     ...     ...     ...     ...     ...   \n",
       "226   1.4703  0.0275  ...   59.384000  0.5047  0.0093  0.0033  1.8502  0.0214   \n",
       "1349  1.3997  0.0008  ...   97.934373  0.5031  0.0077  0.0022  1.5296  0.0097   \n",
       "170   1.4435 -0.0119  ...   47.812300  0.5045  0.0095  0.0025  1.8872  0.0240   \n",
       "305   1.3800 -0.0218  ...   97.934373  0.5051  0.0143  0.0035  2.8311  0.0187   \n",
       "315   1.4204  0.0011  ...   97.934373  0.5019  0.0109  0.0030  2.1740  0.0225   \n",
       "\n",
       "         587     588       589  Pass/Fail  \n",
       "2     0.0484  0.0148   82.8602          1  \n",
       "10    0.0205  0.0071   57.8122          1  \n",
       "11    0.0279  0.0081   75.5077          1  \n",
       "14    0.0289  0.0084  142.9080          1  \n",
       "23    0.0213  0.0077  216.8869          1  \n",
       "...      ...     ...       ...        ...  \n",
       "226   0.0127  0.0035   59.3840         -1  \n",
       "1349  0.0098  0.0030  101.2092         -1  \n",
       "170   0.0115  0.0035   47.8123         -1  \n",
       "305   0.0108  0.0033   58.0827         -1  \n",
       "315   0.0053  0.0015   23.7892         -1  \n",
       "\n",
       "[208 rows x 591 columns]"
      ]
     },
     "execution_count": 145,
     "metadata": {},
     "output_type": "execute_result"
    }
   ],
   "source": [
    "undersample_data"
   ]
  },
  {
   "cell_type": "code",
   "execution_count": 146,
   "metadata": {},
   "outputs": [
    {
     "name": "stdout",
     "output_type": "stream",
     "text": [
      "(208, 590)\n",
      "(208, 1)\n"
     ]
    }
   ],
   "source": [
    "# splitting the undersample dataset into x and y sets\n",
    "\n",
    "x = undersample_data.iloc[:, undersample_data.columns != 'Pass/Fail'] \n",
    "y = undersample_data.iloc[:, undersample_data.columns == 'Pass/Fail']\n",
    "\n",
    "print(x.shape)\n",
    "print(y.shape)"
   ]
  },
  {
   "cell_type": "code",
   "execution_count": 147,
   "metadata": {},
   "outputs": [
    {
     "name": "stdout",
     "output_type": "stream",
     "text": [
      "(166, 590)\n",
      "(166, 1)\n",
      "(42, 590)\n",
      "(42, 1)\n"
     ]
    }
   ],
   "source": [
    "from sklearn.model_selection import train_test_split\n",
    "\n",
    "x_train_us, x_test_us, y_train_us, y_test_us = train_test_split(x, y, test_size = 0.2, random_state = 0)\n",
    "\n",
    "print(x_train_us.shape)\n",
    "print(y_train_us.shape)\n",
    "print(x_test_us.shape)\n",
    "print(y_test_us.shape)"
   ]
  },
  {
   "cell_type": "code",
   "execution_count": 159,
   "metadata": {},
   "outputs": [
    {
     "data": {
      "text/plain": [
       " 1    24\n",
       "-1    18\n",
       "Name: Pass/Fail, dtype: int64"
      ]
     },
     "execution_count": 159,
     "metadata": {},
     "output_type": "execute_result"
    }
   ],
   "source": [
    "y_test_us['Pass/Fail'].value_counts()\n",
    "# -1은 정상, +1은 불량 "
   ]
  },
  {
   "cell_type": "markdown",
   "metadata": {},
   "source": [
    "### 언더샘플링 후 정규화"
   ]
  },
  {
   "cell_type": "code",
   "execution_count": 149,
   "metadata": {},
   "outputs": [],
   "source": [
    "# standardization\n",
    "\n",
    "from sklearn.preprocessing import StandardScaler\n",
    "\n",
    "sc = StandardScaler()\n",
    "x_train = sc.fit_transform(x_train_us)\n",
    "x_test = sc.transform(x_test_us)"
   ]
  },
  {
   "cell_type": "code",
   "execution_count": 150,
   "metadata": {},
   "outputs": [
    {
     "name": "stderr",
     "output_type": "stream",
     "text": [
      "C:\\Users\\Itshony\\Anaconda3\\lib\\site-packages\\sklearn\\utils\\validation.py:760: DataConversionWarning: A column-vector y was passed when a 1d array was expected. Please change the shape of y to (n_samples, ), for example using ravel().\n",
      "  y = column_or_1d(y, warn=True)\n"
     ]
    }
   ],
   "source": [
    "from sklearn.linear_model import LogisticRegression\n",
    "\n",
    "log_reg = LogisticRegression(random_state=13, solver='liblinear')\n",
    "log_reg.fit(x_train_us, y_train_us)\n",
    "\n",
    "y_pred = log_reg.predict(x_test_us)"
   ]
  },
  {
   "cell_type": "code",
   "execution_count": 151,
   "metadata": {},
   "outputs": [
    {
     "data": {
      "text/plain": [
       "<matplotlib.axes._subplots.AxesSubplot at 0x1b3f6576208>"
      ]
     },
     "execution_count": 151,
     "metadata": {},
     "output_type": "execute_result"
    },
    {
     "data": {
      "image/png": "[encoded data removed]",
      "text/plain": [
       "<Figure size 360x360 with 2 Axes>"
      ]
     },
     "metadata": {},
     "output_type": "display_data"
    }
   ],
   "source": [
    "from sklearn.metrics import confusion_matrix\n",
    "\n",
    "cm = confusion_matrix(y_test_us, y_pred)\n",
    "\n",
    "\n",
    "plt.rcParams['figure.figsize'] = (5, 5)\n",
    "sns.set(style = 'dark', font_scale = 1.4)\n",
    "sns.heatmap(cm, annot = True, annot_kws = {\"size\": 15})\n",
    "\n",
    "# 0 = -1 = 정상, 1 = +1 = 불량 "
   ]
  },
  {
   "cell_type": "markdown",
   "metadata": {},
   "source": [
    "### 언더샘플링 해석\n",
    "- 1. 불량을 더 잘 분류\n",
    "- 2. 하지만 불량도 정상도 잘 분류해내지 못함 "
   ]
  },
  {
   "cell_type": "markdown",
   "metadata": {},
   "source": [
    "### 오버 샘플링"
   ]
  },
  {
   "cell_type": "code",
   "execution_count": 1,
   "metadata": {},
   "outputs": [
    {
     "name": "stderr",
     "output_type": "stream",
     "text": [
      "C:\\Users\\Itshony\\Anaconda3\\envs\\tensorflow\\lib\\site-packages\\sklearn\\externals\\six.py:31: DeprecationWarning: The module is deprecated in version 0.21 and will be removed in version 0.23 since we've dropped support for Python 2.7. Please rely on the official version of six (https://pypi.org/project/six/).\n",
      "  \"(https://pypi.org/project/six/).\", DeprecationWarning)\n",
      "C:\\Users\\Itshony\\Anaconda3\\envs\\tensorflow\\lib\\site-packages\\sklearn\\externals\\joblib\\__init__.py:15: DeprecationWarning: sklearn.externals.joblib is deprecated in 0.21 and will be removed in 0.23. Please import this functionality directly from joblib, which can be installed with: pip install joblib. If this warning is raised when loading pickled models, you may need to re-serialize those models with scikit-learn 0.21+.\n",
      "  warnings.warn(msg, category=DeprecationWarning)\n"
     ]
    }
   ],
   "source": [
    "from imblearn.over_sampling import SMOTE"
   ]
  },
  {
   "cell_type": "code",
   "execution_count": 14,
   "metadata": {},
   "outputs": [
    {
     "name": "stdout",
     "output_type": "stream",
     "text": [
      "shape of x: (1567, 590)\n",
      "shape of y: (1567,)\n"
     ]
    }
   ],
   "source": [
    "# separating the dependent and independent data\n",
    "x = data.iloc[:,:590]\n",
    "y = data.iloc[:, 590]\n",
    "\n",
    "# getting the shapes of new data sets x and y\n",
    "print(\"shape of x:\", x.shape)\n",
    "print(\"shape of y:\", y.shape)"
   ]
  },
  {
   "cell_type": "code",
   "execution_count": 71,
   "metadata": {},
   "outputs": [],
   "source": [
    "X_train, X_test, y_train, y_test = train_test_split(x, y, test_size=0.2, random_state = 13)"
   ]
  },
  {
   "cell_type": "code",
   "execution_count": 72,
   "metadata": {},
   "outputs": [
    {
     "name": "stdout",
     "output_type": "stream",
     "text": [
      "(2352, 590)\n",
      "(2352,)\n"
     ]
    }
   ],
   "source": [
    "from imblearn.over_sampling import SMOTE\n",
    "\n",
    "x_resample, y_resample  = SMOTE().fit_sample(X_train, y_train.values.ravel())\n",
    "\n",
    "print(x_resample.shape)\n",
    "print(y_resample.shape)"
   ]
  },
  {
   "cell_type": "code",
   "execution_count": 73,
   "metadata": {},
   "outputs": [
    {
     "name": "stdout",
     "output_type": "stream",
     "text": [
      "(1881, 590)\n",
      "(1881,)\n",
      "(471, 590)\n",
      "(471,)\n"
     ]
    }
   ],
   "source": [
    "from sklearn.model_selection import train_test_split\n",
    "\n",
    "x_train_os, x_test_os, y_train_os, y_test_os = train_test_split(x_resample, y_resample, test_size = 0.2, random_state = 0)\n",
    "\n",
    "print(x_train_os.shape)\n",
    "print(y_train_os.shape)\n",
    "print(x_test_os.shape)\n",
    "print(y_test_os.shape)"
   ]
  },
  {
   "cell_type": "markdown",
   "metadata": {},
   "source": [
    "### 정상 불량 별 갯수 - train data set "
   ]
  },
  {
   "cell_type": "code",
   "execution_count": 74,
   "metadata": {},
   "outputs": [],
   "source": [
    "unique, counts = np.unique(y_train_os, return_counts=True)"
   ]
  },
  {
   "cell_type": "code",
   "execution_count": 75,
   "metadata": {},
   "outputs": [
    {
     "data": {
      "text/plain": [
       "{-1: 942, 1: 939}"
      ]
     },
     "execution_count": 75,
     "metadata": {},
     "output_type": "execute_result"
    }
   ],
   "source": [
    "dict(zip(unique, counts))"
   ]
  },
  {
   "cell_type": "markdown",
   "metadata": {},
   "source": [
    "### 정상 불량 별 갯수 - test data set "
   ]
  },
  {
   "cell_type": "code",
   "execution_count": 76,
   "metadata": {},
   "outputs": [],
   "source": [
    "unique, counts = np.unique(y_test_os, return_counts=True)"
   ]
  },
  {
   "cell_type": "code",
   "execution_count": 77,
   "metadata": {},
   "outputs": [
    {
     "data": {
      "text/plain": [
       "{-1: 234, 1: 237}"
      ]
     },
     "execution_count": 77,
     "metadata": {},
     "output_type": "execute_result"
    }
   ],
   "source": [
    "dict(zip(unique, counts))"
   ]
  },
  {
   "cell_type": "code",
   "execution_count": 78,
   "metadata": {},
   "outputs": [],
   "source": [
    "# standardization\n",
    "\n",
    "from sklearn.preprocessing import StandardScaler\n",
    "\n",
    "sc = StandardScaler()\n",
    "x_train_os = sc.fit_transform(x_train_os)\n",
    "x_test_os = sc.transform(x_test_os)"
   ]
  },
  {
   "cell_type": "code",
   "execution_count": 79,
   "metadata": {},
   "outputs": [],
   "source": [
    "from sklearn.linear_model import LogisticRegression\n",
    "\n",
    "log_reg = LogisticRegression(random_state=13, solver='liblinear')\n",
    "log_reg.fit(x_train_os, y_train_os)\n",
    "\n",
    "y_pred = log_reg.predict(x_test_os)"
   ]
  },
  {
   "cell_type": "markdown",
   "metadata": {},
   "source": [
    "### validation"
   ]
  },
  {
   "cell_type": "code",
   "execution_count": 80,
   "metadata": {},
   "outputs": [
    {
     "data": {
      "text/plain": [
       "<matplotlib.axes._subplots.AxesSubplot at 0x2c4a58b8f28>"
      ]
     },
     "execution_count": 80,
     "metadata": {},
     "output_type": "execute_result"
    },
    {
     "data": {
      "image/png": "[encoded data removed]",
      "text/plain": [
       "<Figure size 360x360 with 2 Axes>"
      ]
     },
     "metadata": {},
     "output_type": "display_data"
    }
   ],
   "source": [
    "from sklearn.metrics import confusion_matrix\n",
    "\n",
    "cm = confusion_matrix(y_test_os, y_pred)\n",
    "\n",
    "\n",
    "plt.rcParams['figure.figsize'] = (5, 5)\n",
    "sns.set(style = 'dark', font_scale = 1.4)\n",
    "sns.heatmap(cm, annot = True, annot_kws = {\"size\": 15})\n",
    "\n",
    "# 0 = -1 = 정상, 1 = +1 = 불량 "
   ]
  },
  {
   "cell_type": "code",
   "execution_count": 81,
   "metadata": {},
   "outputs": [
    {
     "name": "stdout",
     "output_type": "stream",
     "text": [
      "accuracy score 0.9278131634819533\n",
      "precision_score 0.8757447757422882\n",
      "recall_score 0.9957805907172996\n",
      "f1_score 0.9328063241106721\n"
     ]
    }
   ],
   "source": [
    "from sklearn.metrics import confusion_matrix, accuracy_score, f1_score, precision_score, recall_score, average_precision_score\n",
    "from sklearn.metrics import accuracy_score\n",
    "\n",
    "print('accuracy score', accuracy_score(y_test_os, y_pred))\n",
    "cm = confusion_matrix(y_test_os, y_pred, labels = [-1,1])\n",
    "print('precision_score', average_precision_score(y_test_os, y_pred))\n",
    "print('recall_score', recall_score(y_test_os, y_pred))\n",
    "print('f1_score',f1_score(y_test_os, y_pred))"
   ]
  },
  {
   "cell_type": "code",
   "execution_count": 83,
   "metadata": {},
   "outputs": [],
   "source": [
    "from sklearn.model_selection import cross_val_score"
   ]
  },
  {
   "cell_type": "code",
   "execution_count": 84,
   "metadata": {},
   "outputs": [
    {
     "name": "stderr",
     "output_type": "stream",
     "text": [
      "C:\\Users\\Itshony\\Anaconda3\\envs\\tensorflow\\lib\\site-packages\\sklearn\\svm\\base.py:929: ConvergenceWarning: Liblinear failed to converge, increase the number of iterations.\n",
      "  \"the number of iterations.\", ConvergenceWarning)\n",
      "C:\\Users\\Itshony\\Anaconda3\\envs\\tensorflow\\lib\\site-packages\\sklearn\\svm\\base.py:929: ConvergenceWarning: Liblinear failed to converge, increase the number of iterations.\n",
      "  \"the number of iterations.\", ConvergenceWarning)\n",
      "C:\\Users\\Itshony\\Anaconda3\\envs\\tensorflow\\lib\\site-packages\\sklearn\\svm\\base.py:929: ConvergenceWarning: Liblinear failed to converge, increase the number of iterations.\n",
      "  \"the number of iterations.\", ConvergenceWarning)\n",
      "C:\\Users\\Itshony\\Anaconda3\\envs\\tensorflow\\lib\\site-packages\\sklearn\\svm\\base.py:929: ConvergenceWarning: Liblinear failed to converge, increase the number of iterations.\n",
      "  \"the number of iterations.\", ConvergenceWarning)\n",
      "C:\\Users\\Itshony\\Anaconda3\\envs\\tensorflow\\lib\\site-packages\\sklearn\\svm\\base.py:929: ConvergenceWarning: Liblinear failed to converge, increase the number of iterations.\n",
      "  \"the number of iterations.\", ConvergenceWarning)\n"
     ]
    },
    {
     "data": {
      "text/plain": [
       "array([0.91097699, 0.90604954, 0.88022426, 0.87856453, 0.88442833])"
      ]
     },
     "execution_count": 84,
     "metadata": {},
     "output_type": "execute_result"
    }
   ],
   "source": [
    "scores = cross_val_score(log_reg, x_resample, y_resample, cv = 5,scoring='f1_macro')\n",
    "scores"
   ]
  },
  {
   "cell_type": "markdown",
   "metadata": {},
   "source": [
    "### test"
   ]
  },
  {
   "cell_type": "code",
   "execution_count": 85,
   "metadata": {},
   "outputs": [],
   "source": [
    "y_pred_test = log_reg.predict(X_test)"
   ]
  },
  {
   "cell_type": "code",
   "execution_count": 86,
   "metadata": {},
   "outputs": [
    {
     "data": {
      "text/plain": [
       "<matplotlib.axes._subplots.AxesSubplot at 0x2c4a59250b8>"
      ]
     },
     "execution_count": 86,
     "metadata": {},
     "output_type": "execute_result"
    },
    {
     "data": {
      "image/png": "[encoded data removed]",
      "text/plain": [
       "<Figure size 360x360 with 2 Axes>"
      ]
     },
     "metadata": {},
     "output_type": "display_data"
    }
   ],
   "source": [
    "from sklearn.metrics import confusion_matrix\n",
    "\n",
    "cm = confusion_matrix(y_test, y_pred_test)\n",
    "\n",
    "\n",
    "plt.rcParams['figure.figsize'] = (5, 5)\n",
    "sns.set(style = 'dark', font_scale = 1.4)\n",
    "sns.heatmap(cm, annot = True, annot_kws = {\"size\": 15})\n",
    "\n",
    "# 0 = -1 = 정상, 1 = +1 = 불량 "
   ]
  },
  {
   "cell_type": "code",
   "execution_count": 87,
   "metadata": {},
   "outputs": [
    {
     "name": "stdout",
     "output_type": "stream",
     "text": [
      "accuracy score 0.8980891719745223\n",
      "precision_score 0.09607873974469869\n",
      "recall_score 0.07407407407407407\n",
      "f1_score 0.1111111111111111\n"
     ]
    }
   ],
   "source": [
    "from sklearn.metrics import confusion_matrix, accuracy_score, f1_score, precision_score, recall_score, average_precision_score\n",
    "from sklearn.metrics import accuracy_score\n",
    "\n",
    "print('accuracy score', accuracy_score(y_test, y_pred_test))\n",
    "cm = confusion_matrix(y_test, y_pred_test, labels = [-1,1])\n",
    "print('precision_score', average_precision_score(y_test, y_pred_test))\n",
    "print('recall_score', recall_score(y_test, y_pred_test))\n",
    "print('f1_score',f1_score(y_test, y_pred_test))"
   ]
  },
  {
   "cell_type": "markdown",
   "metadata": {},
   "source": [
    "### 오버샘플링 해석\n",
    "- 0 = -1 = 정상, 1 = +1 = 불량 \n",
    "\n",
    "#### validation 확인\n",
    "- 오히려 정상을 잘 분류해준다 (307 중 45개를 잘못 분류)\n",
    "- 그러나 불량을 잘 분류해준다. \n",
    "\n",
    "#### test 확인\n",
    "- 하지만 test 확인 결과 오버피팅. \n",
    "- f1-score 가 너무 안 나옴"
   ]
  },
  {
   "cell_type": "markdown",
   "metadata": {},
   "source": [
    "### >> 언더샘플링은 오히려 성능을 더 떨어뜨릴 것 같다. \n",
    "### >> 오버샘플링만은 답이 아님 다른 전처리 과정 후 오버샘플링, 언더 샘플링 같이 진행해도 좋을 것 같음"
   ]
  },
  {
   "cell_type": "code",
   "execution_count": 11,
   "metadata": {},
   "outputs": [],
   "source": [
    "from sklearn.preprocessing import StandardScaler\n",
    "from sklearn.model_selection import train_test_split\n",
    "from sklearn.linear_model import LogisticRegression"
   ]
  },
  {
   "cell_type": "code",
   "execution_count": 12,
   "metadata": {},
   "outputs": [],
   "source": [
    "data = pd.read_csv(\"uci-secom_norm.csv\")"
   ]
  },
  {
   "cell_type": "code",
   "execution_count": 17,
   "metadata": {},
   "outputs": [],
   "source": [
    "X = data.loc[:,'0':'589']\n",
    "y = data.loc[:,'Pass/Fail']"
   ]
  },
  {
   "cell_type": "code",
   "execution_count": 20,
   "metadata": {},
   "outputs": [],
   "source": [
    "X_train, X_test, y_train, y_test  = train_test_split(X,y, test_size = 0.2, random_state=13)"
   ]
  },
  {
   "cell_type": "code",
   "execution_count": 21,
   "metadata": {},
   "outputs": [
    {
     "data": {
      "text/plain": [
       "LogisticRegression(C=1.0, class_weight=None, dual=False, fit_intercept=True,\n",
       "                   intercept_scaling=1, l1_ratio=None, max_iter=100,\n",
       "                   multi_class='warn', n_jobs=None, penalty='l2',\n",
       "                   random_state=13, solver='liblinear', tol=0.0001, verbose=0,\n",
       "                   warm_start=False)"
      ]
     },
     "execution_count": 21,
     "metadata": {},
     "output_type": "execute_result"
    }
   ],
   "source": [
    "log_reg = LogisticRegression(random_state=13,solver='liblinear')\n",
    "log_reg.fit(X_train, y_train)"
   ]
  },
  {
   "cell_type": "code",
   "execution_count": 22,
   "metadata": {},
   "outputs": [],
   "source": [
    "y_pred = log_reg.predict(X_test)"
   ]
  },
  {
   "cell_type": "markdown",
   "metadata": {},
   "source": [
    "### Roc"
   ]
  },
  {
   "cell_type": "code",
   "execution_count": 27,
   "metadata": {},
   "outputs": [],
   "source": [
    "from sklearn.metrics import roc_auc_score\n",
    "from sklearn.metrics import roc_curve"
   ]
  },
  {
   "cell_type": "code",
   "execution_count": 37,
   "metadata": {},
   "outputs": [],
   "source": [
    "roc_auc  = roc_auc_score(y_test, log_reg.decision_function(X_test))"
   ]
  },
  {
   "cell_type": "code",
   "execution_count": 38,
   "metadata": {},
   "outputs": [],
   "source": [
    "# decision_function: 불확실성을 추정 = 확률로 표현 \n",
    "false_positive_rate, true_positive_rate, thresholds = roc_curve(y_test, log_reg.decision_function(X_test))"
   ]
  },
  {
   "cell_type": "code",
   "execution_count": 39,
   "metadata": {
    "scrolled": true
   },
   "outputs": [
    {
     "data": {
      "image/png": "[encoded data removed]",
      "text/plain": [
       "<Figure size 432x288 with 1 Axes>"
      ]
     },
     "metadata": {},
     "output_type": "display_data"
    }
   ],
   "source": [
    "plt.title('Receiver Operating Characteristic')\n",
    "plt.xlabel('False Positive Rate(1 - Specificity)')\n",
    "plt.ylabel('True Positive Rate(Sensitivity)')\n",
    "\n",
    "plt.plot(false_positive_rate, true_positive_rate, 'b', label='Log_reg (AUC = %0.2f)'% roc_auc)\n",
    "plt.plot([0,1],[1,1],'y--')\n",
    "plt.plot([0,1],[0,1],'r--')\n",
    "\n",
    "plt.legend(loc='lower right')\n",
    "plt.show()"
   ]
  },
  {
   "cell_type": "markdown",
   "metadata": {},
   "source": [
    "### PCA "
   ]
  },
  {
   "cell_type": "code",
   "execution_count": 40,
   "metadata": {},
   "outputs": [],
   "source": [
    "from sklearn.decomposition import PCA \n",
    "pca = PCA()"
   ]
  },
  {
   "cell_type": "markdown",
   "metadata": {},
   "source": [
    "- 차원을 축소하기 전에 훈련 세트의 분산을 95%로 유지하는 데 필요한 최소한의 차원 수 계산"
   ]
  },
  {
   "cell_type": "code",
   "execution_count": 42,
   "metadata": {},
   "outputs": [
    {
     "data": {
      "text/plain": [
       "PCA(copy=True, iterated_power='auto', n_components=None, random_state=None,\n",
       "    svd_solver='auto', tol=0.0, whiten=False)"
      ]
     },
     "execution_count": 42,
     "metadata": {},
     "output_type": "execute_result"
    }
   ],
   "source": [
    "pca.fit(X_train)"
   ]
  },
  {
   "cell_type": "code",
   "execution_count": 43,
   "metadata": {},
   "outputs": [],
   "source": [
    "cumsum = np.cumsum(pca.explained_variance_ratio_)\n",
    "d = np.argmax(cumsum>=0.95)+1 "
   ]
  },
  {
   "cell_type": "code",
   "execution_count": 45,
   "metadata": {},
   "outputs": [],
   "source": [
    "pca = PCA(n_components = 0.95)\n",
    "X_reduced = pca.fit_transform(X_train)"
   ]
  },
  {
   "cell_type": "code",
   "execution_count": 54,
   "metadata": {},
   "outputs": [
    {
     "data": {
      "text/html": [
       "<div>\n",
       "<style scoped>\n",
       "    .dataframe tbody tr th:only-of-type {\n",
       "        vertical-align: middle;\n",
       "    }\n",
       "\n",
       "    .dataframe tbody tr th {\n",
       "        vertical-align: top;\n",
       "    }\n",
       "\n",
       "    .dataframe thead th {\n",
       "        text-align: right;\n",
       "    }\n",
       "</style>\n",
       "<table border=\"1\" class=\"dataframe\">\n",
       "  <thead>\n",
       "    <tr style=\"text-align: right;\">\n",
       "      <th></th>\n",
       "      <th>0</th>\n",
       "      <th>1</th>\n",
       "      <th>2</th>\n",
       "      <th>3</th>\n",
       "      <th>4</th>\n",
       "      <th>5</th>\n",
       "      <th>6</th>\n",
       "      <th>7</th>\n",
       "      <th>8</th>\n",
       "      <th>9</th>\n",
       "      <th>...</th>\n",
       "      <th>156</th>\n",
       "      <th>157</th>\n",
       "      <th>158</th>\n",
       "      <th>159</th>\n",
       "      <th>160</th>\n",
       "      <th>161</th>\n",
       "      <th>162</th>\n",
       "      <th>163</th>\n",
       "      <th>164</th>\n",
       "      <th>165</th>\n",
       "    </tr>\n",
       "  </thead>\n",
       "  <tbody>\n",
       "    <tr>\n",
       "      <th>0</th>\n",
       "      <td>-0.572192</td>\n",
       "      <td>1.342328</td>\n",
       "      <td>0.228332</td>\n",
       "      <td>-4.396426</td>\n",
       "      <td>1.040192</td>\n",
       "      <td>0.668275</td>\n",
       "      <td>-2.287355</td>\n",
       "      <td>-1.328905</td>\n",
       "      <td>-2.874730</td>\n",
       "      <td>-1.322266</td>\n",
       "      <td>...</td>\n",
       "      <td>-1.801248</td>\n",
       "      <td>0.808397</td>\n",
       "      <td>1.294970</td>\n",
       "      <td>-1.800097</td>\n",
       "      <td>-0.859032</td>\n",
       "      <td>-0.375495</td>\n",
       "      <td>-0.616316</td>\n",
       "      <td>-0.359063</td>\n",
       "      <td>-0.015165</td>\n",
       "      <td>0.468712</td>\n",
       "    </tr>\n",
       "    <tr>\n",
       "      <th>1</th>\n",
       "      <td>0.485574</td>\n",
       "      <td>-1.141776</td>\n",
       "      <td>0.243781</td>\n",
       "      <td>-0.936086</td>\n",
       "      <td>0.366758</td>\n",
       "      <td>-0.063498</td>\n",
       "      <td>-1.808345</td>\n",
       "      <td>-4.077129</td>\n",
       "      <td>0.350519</td>\n",
       "      <td>-4.937790</td>\n",
       "      <td>...</td>\n",
       "      <td>-1.613310</td>\n",
       "      <td>-0.726289</td>\n",
       "      <td>-0.007445</td>\n",
       "      <td>-1.408605</td>\n",
       "      <td>0.851748</td>\n",
       "      <td>0.582335</td>\n",
       "      <td>0.527185</td>\n",
       "      <td>0.626662</td>\n",
       "      <td>-0.581502</td>\n",
       "      <td>0.264057</td>\n",
       "    </tr>\n",
       "    <tr>\n",
       "      <th>2</th>\n",
       "      <td>0.780410</td>\n",
       "      <td>-1.950361</td>\n",
       "      <td>-0.289944</td>\n",
       "      <td>1.653971</td>\n",
       "      <td>-0.398065</td>\n",
       "      <td>-0.179089</td>\n",
       "      <td>2.911551</td>\n",
       "      <td>1.883662</td>\n",
       "      <td>-1.940251</td>\n",
       "      <td>-0.431356</td>\n",
       "      <td>...</td>\n",
       "      <td>-0.333097</td>\n",
       "      <td>0.687374</td>\n",
       "      <td>-0.913463</td>\n",
       "      <td>-0.848254</td>\n",
       "      <td>-0.695524</td>\n",
       "      <td>-0.256944</td>\n",
       "      <td>-0.102403</td>\n",
       "      <td>-1.252506</td>\n",
       "      <td>2.716914</td>\n",
       "      <td>1.366516</td>\n",
       "    </tr>\n",
       "    <tr>\n",
       "      <th>3</th>\n",
       "      <td>-0.791111</td>\n",
       "      <td>-3.345710</td>\n",
       "      <td>-0.182575</td>\n",
       "      <td>2.267048</td>\n",
       "      <td>-1.026086</td>\n",
       "      <td>-2.454650</td>\n",
       "      <td>-3.160582</td>\n",
       "      <td>0.896193</td>\n",
       "      <td>1.926859</td>\n",
       "      <td>-1.266678</td>\n",
       "      <td>...</td>\n",
       "      <td>-0.581805</td>\n",
       "      <td>-1.063355</td>\n",
       "      <td>0.355531</td>\n",
       "      <td>-1.422822</td>\n",
       "      <td>-0.112665</td>\n",
       "      <td>1.078162</td>\n",
       "      <td>0.041553</td>\n",
       "      <td>-0.806740</td>\n",
       "      <td>-0.325634</td>\n",
       "      <td>0.065048</td>\n",
       "    </tr>\n",
       "    <tr>\n",
       "      <th>4</th>\n",
       "      <td>1.286133</td>\n",
       "      <td>-0.464612</td>\n",
       "      <td>-0.235039</td>\n",
       "      <td>0.782468</td>\n",
       "      <td>0.112255</td>\n",
       "      <td>-3.050975</td>\n",
       "      <td>-6.258849</td>\n",
       "      <td>0.712762</td>\n",
       "      <td>0.111945</td>\n",
       "      <td>-1.254833</td>\n",
       "      <td>...</td>\n",
       "      <td>0.437675</td>\n",
       "      <td>-0.899334</td>\n",
       "      <td>0.145751</td>\n",
       "      <td>-0.204881</td>\n",
       "      <td>0.409104</td>\n",
       "      <td>0.420025</td>\n",
       "      <td>-0.904584</td>\n",
       "      <td>0.054091</td>\n",
       "      <td>1.312060</td>\n",
       "      <td>-0.078999</td>\n",
       "    </tr>\n",
       "  </tbody>\n",
       "</table>\n",
       "<p>5 rows × 166 columns</p>\n",
       "</div>"
      ],
      "text/plain": [
       "        0         1         2         3         4         5         6    \\\n",
       "0 -0.572192  1.342328  0.228332 -4.396426  1.040192  0.668275 -2.287355   \n",
       "1  0.485574 -1.141776  0.243781 -0.936086  0.366758 -0.063498 -1.808345   \n",
       "2  0.780410 -1.950361 -0.289944  1.653971 -0.398065 -0.179089  2.911551   \n",
       "3 -0.791111 -3.345710 -0.182575  2.267048 -1.026086 -2.454650 -3.160582   \n",
       "4  1.286133 -0.464612 -0.235039  0.782468  0.112255 -3.050975 -6.258849   \n",
       "\n",
       "        7         8         9      ...          156       157       158  \\\n",
       "0 -1.328905 -2.874730 -1.322266    ...    -1.801248  0.808397  1.294970   \n",
       "1 -4.077129  0.350519 -4.937790    ...    -1.613310 -0.726289 -0.007445   \n",
       "2  1.883662 -1.940251 -0.431356    ...    -0.333097  0.687374 -0.913463   \n",
       "3  0.896193  1.926859 -1.266678    ...    -0.581805 -1.063355  0.355531   \n",
       "4  0.712762  0.111945 -1.254833    ...     0.437675 -0.899334  0.145751   \n",
       "\n",
       "        159       160       161       162       163       164       165  \n",
       "0 -1.800097 -0.859032 -0.375495 -0.616316 -0.359063 -0.015165  0.468712  \n",
       "1 -1.408605  0.851748  0.582335  0.527185  0.626662 -0.581502  0.264057  \n",
       "2 -0.848254 -0.695524 -0.256944 -0.102403 -1.252506  2.716914  1.366516  \n",
       "3 -1.422822 -0.112665  1.078162  0.041553 -0.806740 -0.325634  0.065048  \n",
       "4 -0.204881  0.409104  0.420025 -0.904584  0.054091  1.312060 -0.078999  \n",
       "\n",
       "[5 rows x 166 columns]"
      ]
     },
     "execution_count": 54,
     "metadata": {},
     "output_type": "execute_result"
    }
   ],
   "source": [
    "pd.DataFrame(X_reduced).head()"
   ]
  },
  {
   "cell_type": "markdown",
   "metadata": {},
   "source": [
    "### 하나의 값만 가지고 있는 열 삭제\n",
    "\n",
    "- 모든 열이 하나의 값만 가지고 있으므로 의미없는 열에 해당 "
   ]
  },
  {
   "cell_type": "code",
   "execution_count": 98,
   "metadata": {},
   "outputs": [],
   "source": [
    "unique_columns = []\n",
    "for i in data.columns:\n",
    "    tmp = data['{}'.format(i)].unique() # data[i].unique()\n",
    "    if len(tmp) == 1:\n",
    "        unique_columns.append(i)"
   ]
  },
  {
   "cell_type": "code",
   "execution_count": 135,
   "metadata": {},
   "outputs": [
    {
     "data": {
      "text/plain": [
       "116"
      ]
     },
     "execution_count": 135,
     "metadata": {},
     "output_type": "execute_result"
    }
   ],
   "source": [
    "len(unique_columns)"
   ]
  },
  {
   "cell_type": "code",
   "execution_count": 111,
   "metadata": {},
   "outputs": [],
   "source": [
    "# data.drop(unique_columns, axis='columns', inplace=True)"
   ]
  },
  {
   "cell_type": "code",
   "execution_count": 118,
   "metadata": {},
   "outputs": [
    {
     "data": {
      "text/plain": [
       "Index(['0', '1', '2', '3', '4', '6', '7', '8', '9', '10',\n",
       "       ...\n",
       "       '581', '582', '583', '584', '585', '586', '587', '588', '589',\n",
       "       'Pass/Fail'],\n",
       "      dtype='object', length=475)"
      ]
     },
     "execution_count": 118,
     "metadata": {},
     "output_type": "execute_result"
    }
   ],
   "source": [
    "data.columns"
   ]
  },
  {
   "cell_type": "code",
   "execution_count": 120,
   "metadata": {},
   "outputs": [],
   "source": [
    "data.to_csv(\"uni_secom_unique.csv\", index=False)"
   ]
  },
  {
   "cell_type": "code",
   "execution_count": 127,
   "metadata": {},
   "outputs": [],
   "source": [
    "X = data.loc[:,'0':'589']\n",
    "y = data.loc[:,'Pass/Fail']"
   ]
  },
  {
   "cell_type": "code",
   "execution_count": 128,
   "metadata": {},
   "outputs": [],
   "source": [
    "X_train, X_test, y_train, y_test  = train_test_split(X,y, test_size = 0.2, random_state=13)"
   ]
  },
  {
   "cell_type": "markdown",
   "metadata": {},
   "source": [
    "- 값을 하나만 가지고 있는 열을 지운 데이터 셋의 성능 파악 "
   ]
  },
  {
   "cell_type": "code",
   "execution_count": 136,
   "metadata": {},
   "outputs": [
    {
     "data": {
      "text/plain": [
       "LogisticRegression(C=1.0, class_weight=None, dual=False, fit_intercept=True,\n",
       "                   intercept_scaling=1, l1_ratio=None, max_iter=100,\n",
       "                   multi_class='warn', n_jobs=None, penalty='l2',\n",
       "                   random_state=13, solver='liblinear', tol=0.0001, verbose=0,\n",
       "                   warm_start=False)"
      ]
     },
     "execution_count": 136,
     "metadata": {},
     "output_type": "execute_result"
    }
   ],
   "source": [
    "log_reg = LogisticRegression(random_state=13,solver='liblinear')\n",
    "log_reg.fit(X_train, y_train)"
   ]
  },
  {
   "cell_type": "code",
   "execution_count": 137,
   "metadata": {},
   "outputs": [],
   "source": [
    "y_pred = log_reg.predict(X_test)"
   ]
  },
  {
   "cell_type": "code",
   "execution_count": 138,
   "metadata": {},
   "outputs": [],
   "source": [
    "from sklearn.metrics import roc_auc_score\n",
    "from sklearn.metrics import roc_curve"
   ]
  },
  {
   "cell_type": "code",
   "execution_count": 139,
   "metadata": {},
   "outputs": [],
   "source": [
    "roc_auc  = roc_auc_score(y_test, log_reg.decision_function(X_test))"
   ]
  },
  {
   "cell_type": "code",
   "execution_count": 140,
   "metadata": {},
   "outputs": [],
   "source": [
    "# decision_function: 불확실성을 추정 = 확률로 표현 \n",
    "false_positive_rate, true_positive_rate, thresholds = roc_curve(y_test, log_reg.decision_function(X_test))"
   ]
  },
  {
   "cell_type": "code",
   "execution_count": 141,
   "metadata": {},
   "outputs": [
    {
     "data": {
      "image/png": "[encoded data removed]",
      "text/plain": [
       "<Figure size 432x288 with 1 Axes>"
      ]
     },
     "metadata": {},
     "output_type": "display_data"
    }
   ],
   "source": [
    "plt.title('Receiver Operating Characteristic')\n",
    "plt.xlabel('False Positive Rate(1 - Specificity)')\n",
    "plt.ylabel('True Positive Rate(Sensitivity)')\n",
    "\n",
    "plt.plot(false_positive_rate, true_positive_rate, 'b', label='Log_reg (AUC = %0.2f)'% roc_auc)\n",
    "plt.plot([0,1],[1,1],'y--')\n",
    "plt.plot([0,1],[0,1],'r--')\n",
    "\n",
    "plt.legend(loc='lower right')\n",
    "plt.show()"
   ]
  },
  {
   "cell_type": "markdown",
   "metadata": {},
   "source": [
    "- 열 삭제 전과 후의 차이 없음 "
   ]
  },
  {
   "cell_type": "markdown",
   "metadata": {},
   "source": [
    "## @ 변수 중요도 파악 "
   ]
  },
  {
   "cell_type": "code",
   "execution_count": 129,
   "metadata": {},
   "outputs": [],
   "source": [
    "from sklearn.ensemble import RandomForestClassifier \n",
    "\n",
    "model = RandomForestClassifier(n_estimators=100, random_state=10, n_jobs=-1)"
   ]
  },
  {
   "cell_type": "code",
   "execution_count": 130,
   "metadata": {},
   "outputs": [],
   "source": [
    "features = list(X_train.columns)"
   ]
  },
  {
   "cell_type": "code",
   "execution_count": 131,
   "metadata": {},
   "outputs": [
    {
     "data": {
      "text/html": [
       "<div>\n",
       "<style scoped>\n",
       "    .dataframe tbody tr th:only-of-type {\n",
       "        vertical-align: middle;\n",
       "    }\n",
       "\n",
       "    .dataframe tbody tr th {\n",
       "        vertical-align: top;\n",
       "    }\n",
       "\n",
       "    .dataframe thead th {\n",
       "        text-align: right;\n",
       "    }\n",
       "</style>\n",
       "<table border=\"1\" class=\"dataframe\">\n",
       "  <thead>\n",
       "    <tr style=\"text-align: right;\">\n",
       "      <th></th>\n",
       "      <th>feature</th>\n",
       "      <th>importance</th>\n",
       "    </tr>\n",
       "  </thead>\n",
       "  <tbody>\n",
       "    <tr>\n",
       "      <th>0</th>\n",
       "      <td>0</td>\n",
       "      <td>0.002726</td>\n",
       "    </tr>\n",
       "    <tr>\n",
       "      <th>1</th>\n",
       "      <td>1</td>\n",
       "      <td>0.001736</td>\n",
       "    </tr>\n",
       "    <tr>\n",
       "      <th>2</th>\n",
       "      <td>2</td>\n",
       "      <td>0.006266</td>\n",
       "    </tr>\n",
       "    <tr>\n",
       "      <th>3</th>\n",
       "      <td>3</td>\n",
       "      <td>0.000749</td>\n",
       "    </tr>\n",
       "    <tr>\n",
       "      <th>4</th>\n",
       "      <td>4</td>\n",
       "      <td>0.002711</td>\n",
       "    </tr>\n",
       "    <tr>\n",
       "      <th>5</th>\n",
       "      <td>6</td>\n",
       "      <td>0.001400</td>\n",
       "    </tr>\n",
       "    <tr>\n",
       "      <th>6</th>\n",
       "      <td>7</td>\n",
       "      <td>0.001363</td>\n",
       "    </tr>\n",
       "    <tr>\n",
       "      <th>7</th>\n",
       "      <td>8</td>\n",
       "      <td>0.001503</td>\n",
       "    </tr>\n",
       "    <tr>\n",
       "      <th>8</th>\n",
       "      <td>9</td>\n",
       "      <td>0.002214</td>\n",
       "    </tr>\n",
       "    <tr>\n",
       "      <th>9</th>\n",
       "      <td>10</td>\n",
       "      <td>0.002215</td>\n",
       "    </tr>\n",
       "  </tbody>\n",
       "</table>\n",
       "</div>"
      ],
      "text/plain": [
       "  feature  importance\n",
       "0       0    0.002726\n",
       "1       1    0.001736\n",
       "2       2    0.006266\n",
       "3       3    0.000749\n",
       "4       4    0.002711\n",
       "5       6    0.001400\n",
       "6       7    0.001363\n",
       "7       8    0.001503\n",
       "8       9    0.002214\n",
       "9      10    0.002215"
      ]
     },
     "execution_count": 131,
     "metadata": {},
     "output_type": "execute_result"
    }
   ],
   "source": [
    "model.fit(X_train, y_train)\n",
    "\n",
    "# feature importances into a dataframe\n",
    "feature_importances = pd.DataFrame({'feature': features, 'importance': model.feature_importances_})\n",
    "feature_importances.head(10)"
   ]
  },
  {
   "cell_type": "code",
   "execution_count": 134,
   "metadata": {},
   "outputs": [
    {
     "data": {
      "text/plain": [
       "474"
      ]
     },
     "execution_count": 134,
     "metadata": {},
     "output_type": "execute_result"
    }
   ],
   "source": [
    "len(feature_importances)"
   ]
  },
  {
   "cell_type": "code",
   "execution_count": 132,
   "metadata": {},
   "outputs": [],
   "source": [
    "def plot_feature_importances(df, n = 10, threshold = None):\n",
    "    \"\"\"Plots n most important features. Also plots the cumulative importance if\n",
    "    threshold is specified and prints the number of features needed to reach threshold cumulative importance.\n",
    "    Intended for use with any tree-based feature importances. \n",
    "    \n",
    "    Args:\n",
    "        df (dataframe): Dataframe of feature importances. Columns must be \"feature\" and \"importance\".\n",
    "    \n",
    "        n (int): Number of most important features to plot. Default is 15.\n",
    "    \n",
    "        threshold (float): Threshold for cumulative importance plot. If not provided, no plot is made. Default is None.\n",
    "        \n",
    "    Returns:\n",
    "        df (dataframe): Dataframe ordered by feature importances with a normalized column (sums to 1) \n",
    "                        and a cumulative importance column\n",
    "    \n",
    "    Note:\n",
    "    \n",
    "        * Normalization in this case means sums to 1. \n",
    "        * Cumulative importance is calculated by summing features from most to least important\n",
    "        * A threshold of 0.9 will show the most important features needed to reach 90% of cumulative importance\n",
    "    \n",
    "    \"\"\"\n",
    "    plt.style.use('fivethirtyeight')\n",
    "    \n",
    "    # Sort features with most important at the head\n",
    "    df = df.sort_values('importance', ascending = False).reset_index(drop = True)\n",
    "    \n",
    "    # Normalize the feature importances to add up to one and calculate cumulative importance\n",
    "    df['importance_normalized'] = df['importance'] / df['importance'].sum()\n",
    "    df['cumulative_importance'] = np.cumsum(df['importance_normalized'])\n",
    "    \n",
    "    plt.rcParams['font.size'] = 12\n",
    "    \n",
    "    # Bar plot of n most important features\n",
    "    df.loc[:n, :].plot.barh(y = 'importance_normalized', \n",
    "                            x = 'feature', color = 'darkgreen', \n",
    "                            edgecolor = 'k', figsize = (12, 8),\n",
    "                            legend = False, linewidth = 2)\n",
    "\n",
    "    plt.xlabel('Normalized Importance', size = 18); plt.ylabel(''); \n",
    "    plt.title('{} Most Important Features'.format(n), size = 18)\n",
    "    plt.gca().invert_yaxis()\n",
    "    \n",
    "    \n",
    "    if threshold:\n",
    "        # Cumulative importance plot\n",
    "        plt.figure(figsize = (8, 6))\n",
    "        plt.plot(list(range(len(df))), df['cumulative_importance'], 'b-')\n",
    "        plt.xlabel('Number of Features', size = 16); plt.ylabel('Cumulative Importance', size = 16); \n",
    "        plt.title('Cumulative Feature Importance', size = 18);\n",
    "        \n",
    "        # Number of features needed for threshold cumulative importance\n",
    "        # This is the index (will need to add 1 for the actual number)\n",
    "        importance_index = np.min(np.where(df['cumulative_importance'] > threshold))\n",
    "        \n",
    "        # Add vertical line to plot\n",
    "        plt.vlines(importance_index + 1, ymin = 0, ymax = 1.05, linestyles = '--', colors = 'red')\n",
    "        plt.show();\n",
    "        \n",
    "        print('{} features required for {:.0f}% of cumulative importance.'.format(importance_index + 1, \n",
    "                                                                                  100 * threshold))\n",
    "    \n",
    "    return df"
   ]
  },
  {
   "cell_type": "code",
   "execution_count": 133,
   "metadata": {
    "scrolled": true
   },
   "outputs": [
    {
     "data": {
      "image/png": "[encoded data removed]",
      "text/plain": [
       "<Figure size 864x576 with 1 Axes>"
      ]
     },
     "metadata": {},
     "output_type": "display_data"
    },
    {
     "data": {
      "image/png": "[encoded data removed]",
      "text/plain": [
       "<Figure size 576x432 with 1 Axes>"
      ]
     },
     "metadata": {},
     "output_type": "display_data"
    },
    {
     "name": "stdout",
     "output_type": "stream",
     "text": [
      "378 features required for 95% of cumulative importance.\n"
     ]
    }
   ],
   "source": [
    "norm_fi = plot_feature_importances(feature_importances, threshold=0.95)"
   ]
  },
  {
   "cell_type": "markdown",
   "metadata": {},
   "source": [
    "180개 기능 중 106개 기능만 있으면 90%를 차지할 수 있다는 점이 흥미롭다. 이것은 우리가 몇몇 특징들을 제거할 수 있을지도 모른다는 것을 말해준다. 그러나, 특징적인 수입들은 우리에게 특징의 어느 방향이 중요한지 말해주지 않는다(예를 들어, 우리는 교육을 많이 받거나 적게 받는 것이 더 심각한 빈곤으로 이어지는지를 알려주기 위해 이것을 사용할 수 없다) 그들은 우리에게 관련성이 있다고 여겨지는 모델이 어떤 특징인지만 알려준다."
   ]
  },
  {
   "cell_type": "markdown",
   "metadata": {},
   "source": [
    "### 중요도 상위 400개가 있는 데이터 셋의 성능 평가 "
   ]
  },
  {
   "cell_type": "code",
   "execution_count": 143,
   "metadata": {},
   "outputs": [],
   "source": [
    "tmp_df = data.copy()"
   ]
  },
  {
   "cell_type": "code",
   "execution_count": 145,
   "metadata": {},
   "outputs": [
    {
     "data": {
      "text/html": [
       "<div>\n",
       "<style scoped>\n",
       "    .dataframe tbody tr th:only-of-type {\n",
       "        vertical-align: middle;\n",
       "    }\n",
       "\n",
       "    .dataframe tbody tr th {\n",
       "        vertical-align: top;\n",
       "    }\n",
       "\n",
       "    .dataframe thead th {\n",
       "        text-align: right;\n",
       "    }\n",
       "</style>\n",
       "<table border=\"1\" class=\"dataframe\">\n",
       "  <thead>\n",
       "    <tr style=\"text-align: right;\">\n",
       "      <th></th>\n",
       "      <th>feature</th>\n",
       "      <th>importance</th>\n",
       "    </tr>\n",
       "  </thead>\n",
       "  <tbody>\n",
       "    <tr>\n",
       "      <th>0</th>\n",
       "      <td>0</td>\n",
       "      <td>0.002726</td>\n",
       "    </tr>\n",
       "    <tr>\n",
       "      <th>1</th>\n",
       "      <td>1</td>\n",
       "      <td>0.001736</td>\n",
       "    </tr>\n",
       "    <tr>\n",
       "      <th>2</th>\n",
       "      <td>2</td>\n",
       "      <td>0.006266</td>\n",
       "    </tr>\n",
       "    <tr>\n",
       "      <th>3</th>\n",
       "      <td>3</td>\n",
       "      <td>0.000749</td>\n",
       "    </tr>\n",
       "    <tr>\n",
       "      <th>4</th>\n",
       "      <td>4</td>\n",
       "      <td>0.002711</td>\n",
       "    </tr>\n",
       "  </tbody>\n",
       "</table>\n",
       "</div>"
      ],
      "text/plain": [
       "  feature  importance\n",
       "0       0    0.002726\n",
       "1       1    0.001736\n",
       "2       2    0.006266\n",
       "3       3    0.000749\n",
       "4       4    0.002711"
      ]
     },
     "execution_count": 145,
     "metadata": {},
     "output_type": "execute_result"
    }
   ],
   "source": [
    "feature_importances.head()"
   ]
  },
  {
   "cell_type": "code",
   "execution_count": 171,
   "metadata": {},
   "outputs": [],
   "source": [
    "low_importance = []\n",
    "low_importance = feature_importances.sort_values('importance', ascending = True).head(74)['feature']"
   ]
  },
  {
   "cell_type": "code",
   "execution_count": 178,
   "metadata": {},
   "outputs": [],
   "source": [
    "low_feature_num = pd.DataFrame(low_importance)['feature']"
   ]
  },
  {
   "cell_type": "code",
   "execution_count": 179,
   "metadata": {},
   "outputs": [],
   "source": [
    "data.drop(low_feature_num, axis='columns', inplace=True)"
   ]
  },
  {
   "cell_type": "code",
   "execution_count": 183,
   "metadata": {},
   "outputs": [
    {
     "data": {
      "text/plain": [
       "Index(['0', '1', '2', '4', '6', '7', '8', '9', '10', '11',\n",
       "       ...\n",
       "       '579', '580', '582', '583', '584', '585', '586', '587', '588',\n",
       "       'Pass/Fail'],\n",
       "      dtype='object', length=401)"
      ]
     },
     "execution_count": 183,
     "metadata": {},
     "output_type": "execute_result"
    }
   ],
   "source": [
    "data.columns"
   ]
  },
  {
   "cell_type": "markdown",
   "metadata": {},
   "source": [
    "### 성능평가"
   ]
  },
  {
   "cell_type": "code",
   "execution_count": 215,
   "metadata": {},
   "outputs": [],
   "source": [
    "X = data.loc[:,'0':'588']\n",
    "y = data.loc[:,'Pass/Fail']"
   ]
  },
  {
   "cell_type": "code",
   "execution_count": 216,
   "metadata": {},
   "outputs": [
    {
     "data": {
      "text/plain": [
       "Index(['0', '1', '2', '4', '6', '7', '8', '9', '10', '11',\n",
       "       ...\n",
       "       '578', '579', '580', '582', '583', '584', '585', '586', '587', '588'],\n",
       "      dtype='object', length=400)"
      ]
     },
     "execution_count": 216,
     "metadata": {},
     "output_type": "execute_result"
    }
   ],
   "source": [
    "X.columns"
   ]
  },
  {
   "cell_type": "code",
   "execution_count": 217,
   "metadata": {},
   "outputs": [],
   "source": [
    "X_train, X_test, y_train, y_test  = train_test_split(X,y, test_size = 0.2, random_state=13)"
   ]
  },
  {
   "cell_type": "code",
   "execution_count": 218,
   "metadata": {},
   "outputs": [
    {
     "data": {
      "text/plain": [
       "LogisticRegression(C=1.0, class_weight=None, dual=False, fit_intercept=True,\n",
       "                   intercept_scaling=1, l1_ratio=None, max_iter=100,\n",
       "                   multi_class='warn', n_jobs=None, penalty='l2',\n",
       "                   random_state=13, solver='liblinear', tol=0.0001, verbose=0,\n",
       "                   warm_start=False)"
      ]
     },
     "execution_count": 218,
     "metadata": {},
     "output_type": "execute_result"
    }
   ],
   "source": [
    "log_reg = LogisticRegression(random_state=13,solver='liblinear')\n",
    "log_reg.fit(X_train, y_train)"
   ]
  },
  {
   "cell_type": "code",
   "execution_count": 219,
   "metadata": {},
   "outputs": [],
   "source": [
    "y_pred = log_reg.predict(X_test)"
   ]
  },
  {
   "cell_type": "code",
   "execution_count": 220,
   "metadata": {},
   "outputs": [
    {
     "data": {
      "text/plain": [
       "0.7648728868241064"
      ]
     },
     "execution_count": 220,
     "metadata": {},
     "output_type": "execute_result"
    }
   ],
   "source": [
    "roc_auc  = roc_auc_score(y_test, log_reg.decision_function(X_test))\n",
    "roc_auc"
   ]
  },
  {
   "cell_type": "code",
   "execution_count": 221,
   "metadata": {},
   "outputs": [
    {
     "data": {
      "text/plain": [
       "0.5629758678539166"
      ]
     },
     "execution_count": 221,
     "metadata": {},
     "output_type": "execute_result"
    }
   ],
   "source": [
    "roc_auc1  = roc_auc_score(y_test, y_pred)\n",
    "roc_auc1"
   ]
  },
  {
   "cell_type": "code",
   "execution_count": 223,
   "metadata": {},
   "outputs": [
    {
     "data": {
      "image/png": "[encoded data removed]",
      "text/plain": [
       "<Figure size 432x288 with 1 Axes>"
      ]
     },
     "metadata": {},
     "output_type": "display_data"
    }
   ],
   "source": [
    "from sklearn.metrics import roc_auc_score\n",
    "from sklearn.metrics import roc_curve\n",
    "\n",
    "roc_auc  = roc_auc_score(y_test, log_reg.decision_function(X_test))\n",
    "\n",
    "# decision_function: 불확실성을 추정 = 확률로 표현 \n",
    "false_positive_rate, true_positive_rate, thresholds = roc_curve(y_test, log_reg.decision_function(X_test))\n",
    "\n",
    "plt.title('Receiver Operating Characteristic')\n",
    "plt.xlabel('False Positive Rate(1 - Specificity)')\n",
    "plt.ylabel('True Positive Rate(Sensitivity)')\n",
    "\n",
    "plt.plot(false_positive_rate, true_positive_rate, 'b', label='Log_reg (AUC = %0.2f)'% roc_auc)\n",
    "plt.plot([0,1],[1,1],'y--')\n",
    "plt.plot([0,1],[0,1],'r--')\n",
    "\n",
    "plt.legend(loc='lower right')\n",
    "plt.show()"
   ]
  },
  {
   "cell_type": "markdown",
   "metadata": {},
   "source": [
    "- 성능 올라감 !!! ( 확률로 추정한 기준 )\n",
    "- 0.72 >> 0.76"
   ]
  },
  {
   "cell_type": "code",
   "execution_count": 193,
   "metadata": {},
   "outputs": [],
   "source": [
    "from sklearn.metrics import confusion_matrix, accuracy_score, precision_score\n",
    "from sklearn.metrics import recall_score, f1_score, roc_auc_score\n",
    "\n",
    "def get_clf_eval(y_test, pred):\n",
    "  acc = accuracy_score(y_test, pred)\n",
    "  pre = precision_score(y_test, pred)\n",
    "  re = recall_score(y_test, pred)\n",
    "  f1 = f1_score(y_test, pred)\n",
    "  auc = roc_auc_score(y_test, pred)\n",
    "\n",
    "  return acc, pre, re, f1, auc "
   ]
  },
  {
   "cell_type": "code",
   "execution_count": 194,
   "metadata": {},
   "outputs": [],
   "source": [
    "def print_clf_eval(y_test, pred):\n",
    "  confusion = confusion_matrix(y_test, pred)\n",
    "  acc, pre, re, f1, auc = get_clf_eval(y_test, pred)\n",
    "\n",
    "  print('=> 오차행렬')\n",
    "  print(confusion)\n",
    "  print('=========')\n",
    "\n",
    "  print('accuracy: {0:.4f}, precision: {1:.4f}'.format(acc,pre))\n",
    "  print('recall: {0:.4f},F1: {1:.4f},AUC: {2:.4f}'.format(re,f1,auc))"
   ]
  },
  {
   "cell_type": "code",
   "execution_count": 195,
   "metadata": {},
   "outputs": [
    {
     "name": "stdout",
     "output_type": "stream",
     "text": [
      "=> 오차행렬\n",
      "[[270  17]\n",
      " [ 22   5]]\n",
      "=========\n",
      "accuracy: 0.8758, precision: 0.2273\n",
      "recall: 0.1852,F1: 0.2041,AUC: 0.5630\n"
     ]
    }
   ],
   "source": [
    "print_clf_eval(y_test, y_pred)"
   ]
  },
  {
   "cell_type": "markdown",
   "metadata": {},
   "source": [
    "- 여전히 불량에 대한 분류를 잘 못함! \n",
    "- 오버 샘플링은 필요해보임 \n",
    "- 그러나 변수 간 상관관계 혹은 변수 조합 조사 후 오버 샘플링 할 예정\n",
    "- 오버 샘플링 할 때 정상인 샘플의 수만큼 오버샘플링 하는게 아니라 \n",
    "- 적당히 많게 오버 샘플링 진행을 할 것 "
   ]
  },
  {
   "cell_type": "code",
   "execution_count": 198,
   "metadata": {},
   "outputs": [
    {
     "data": {
      "text/plain": [
       "-1    287\n",
       " 1     27\n",
       "Name: Pass/Fail, dtype: int64"
      ]
     },
     "execution_count": 198,
     "metadata": {},
     "output_type": "execute_result"
    }
   ],
   "source": [
    "y_test.value_counts()"
   ]
  },
  {
   "cell_type": "markdown",
   "metadata": {},
   "source": [
    "### 교차검증"
   ]
  },
  {
   "cell_type": "code",
   "execution_count": 234,
   "metadata": {},
   "outputs": [
    {
     "data": {
      "text/plain": [
       "array([0.6494393 , 0.5694783 , 0.52202178, 0.55675147, 0.63664384])"
      ]
     },
     "execution_count": 234,
     "metadata": {},
     "output_type": "execute_result"
    }
   ],
   "source": [
    "from sklearn.model_selection import cross_val_score\n",
    "\n",
    "scores = cross_val_score(log_reg, X,y, cv=5, scoring='roc_auc')\n",
    "scores"
   ]
  },
  {
   "cell_type": "code",
   "execution_count": 236,
   "metadata": {},
   "outputs": [
    {
     "data": {
      "text/plain": [
       "0.586866936498289"
      ]
     },
     "execution_count": 236,
     "metadata": {},
     "output_type": "execute_result"
    }
   ],
   "source": [
    "np.mean(scores)"
   ]
  },
  {
   "cell_type": "markdown",
   "metadata": {},
   "source": [
    "## @상관관계 조사 "
   ]
  },
  {
   "cell_type": "code",
   "execution_count": 237,
   "metadata": {},
   "outputs": [],
   "source": [
    "# Create correlation matrix\n",
    "corr_matrix = data.corr()"
   ]
  },
  {
   "cell_type": "code",
   "execution_count": 238,
   "metadata": {},
   "outputs": [],
   "source": [
    "# select upper triangle of correlation matrix\n",
    "\n",
    "upper = corr_matrix.where(np.triu(np.ones(corr_matrix.shape),k=1).astype(np.bool))"
   ]
  },
  {
   "cell_type": "code",
   "execution_count": 243,
   "metadata": {},
   "outputs": [
    {
     "data": {
      "text/plain": [
       "146"
      ]
     },
     "execution_count": 243,
     "metadata": {},
     "output_type": "execute_result"
    }
   ],
   "source": [
    "# Find index of feature columns with correlation greate than 0.95\n",
    "# 변수 간 상관관계 조사 = 서로 상관관계가 0.95보다 큰 column 뽑아내기 \n",
    "to_drop = [column for column in upper.columns if any(abs(upper[column]) > 0.95)]\n",
    "len(to_drop)"
   ]
  },
  {
   "cell_type": "code",
   "execution_count": 255,
   "metadata": {},
   "outputs": [],
   "source": [
    "# corr_matrix.loc[corr_matrix['Pass/Fail'].abs() > 0.0, corr_matrix['Pass/Fail'].abs() > 0.0]"
   ]
  },
  {
   "cell_type": "code",
   "execution_count": 258,
   "metadata": {},
   "outputs": [
    {
     "data": {
      "text/plain": [
       "Pass/Fail    1.000000\n",
       "59           0.155771\n",
       "103          0.151196\n",
       "510          0.131587\n",
       "348          0.130108\n",
       "431          0.120304\n",
       "434          0.111609\n",
       "430          0.109569\n",
       "435          0.108573\n",
       "21           0.107997\n",
       "436          0.106426\n",
       "129          0.103351\n",
       "210          0.102488\n",
       "298          0.102055\n",
       "163          0.099876\n",
       "Name: Pass/Fail, dtype: float64"
      ]
     },
     "execution_count": 258,
     "metadata": {},
     "output_type": "execute_result"
    }
   ],
   "source": [
    "corr_matrix['Pass/Fail'].abs().sort_values(ascending=False).head(15)"
   ]
  },
  {
   "cell_type": "code",
   "execution_count": 259,
   "metadata": {},
   "outputs": [
    {
     "data": {
      "text/html": [
       "<div>\n",
       "<style scoped>\n",
       "    .dataframe tbody tr th:only-of-type {\n",
       "        vertical-align: middle;\n",
       "    }\n",
       "\n",
       "    .dataframe tbody tr th {\n",
       "        vertical-align: top;\n",
       "    }\n",
       "\n",
       "    .dataframe thead th {\n",
       "        text-align: right;\n",
       "    }\n",
       "</style>\n",
       "<table border=\"1\" class=\"dataframe\">\n",
       "  <thead>\n",
       "    <tr style=\"text-align: right;\">\n",
       "      <th></th>\n",
       "      <th>21</th>\n",
       "      <th>59</th>\n",
       "      <th>103</th>\n",
       "      <th>129</th>\n",
       "      <th>210</th>\n",
       "      <th>298</th>\n",
       "      <th>348</th>\n",
       "      <th>430</th>\n",
       "      <th>431</th>\n",
       "      <th>434</th>\n",
       "      <th>435</th>\n",
       "      <th>436</th>\n",
       "      <th>510</th>\n",
       "      <th>Pass/Fail</th>\n",
       "    </tr>\n",
       "  </thead>\n",
       "  <tbody>\n",
       "    <tr>\n",
       "      <th>21</th>\n",
       "      <td>1.000000</td>\n",
       "      <td>-0.026307</td>\n",
       "      <td>0.022183</td>\n",
       "      <td>-0.078437</td>\n",
       "      <td>-0.003069</td>\n",
       "      <td>0.621514</td>\n",
       "      <td>-0.001649</td>\n",
       "      <td>0.674305</td>\n",
       "      <td>0.595582</td>\n",
       "      <td>0.631860</td>\n",
       "      <td>0.644550</td>\n",
       "      <td>0.638651</td>\n",
       "      <td>0.059851</td>\n",
       "      <td>0.107997</td>\n",
       "    </tr>\n",
       "    <tr>\n",
       "      <th>59</th>\n",
       "      <td>-0.026307</td>\n",
       "      <td>1.000000</td>\n",
       "      <td>0.287722</td>\n",
       "      <td>0.190543</td>\n",
       "      <td>0.137609</td>\n",
       "      <td>0.089933</td>\n",
       "      <td>0.142836</td>\n",
       "      <td>0.072240</td>\n",
       "      <td>0.095420</td>\n",
       "      <td>0.091144</td>\n",
       "      <td>0.085272</td>\n",
       "      <td>0.084576</td>\n",
       "      <td>0.217680</td>\n",
       "      <td>0.155771</td>\n",
       "    </tr>\n",
       "    <tr>\n",
       "      <th>103</th>\n",
       "      <td>0.022183</td>\n",
       "      <td>0.287722</td>\n",
       "      <td>1.000000</td>\n",
       "      <td>0.277127</td>\n",
       "      <td>0.126764</td>\n",
       "      <td>0.145362</td>\n",
       "      <td>0.153242</td>\n",
       "      <td>0.148998</td>\n",
       "      <td>0.169148</td>\n",
       "      <td>0.150095</td>\n",
       "      <td>0.148186</td>\n",
       "      <td>0.148108</td>\n",
       "      <td>0.609697</td>\n",
       "      <td>0.151196</td>\n",
       "    </tr>\n",
       "    <tr>\n",
       "      <th>129</th>\n",
       "      <td>-0.078437</td>\n",
       "      <td>0.190543</td>\n",
       "      <td>0.277127</td>\n",
       "      <td>1.000000</td>\n",
       "      <td>0.085650</td>\n",
       "      <td>0.026033</td>\n",
       "      <td>0.113664</td>\n",
       "      <td>0.053295</td>\n",
       "      <td>0.088214</td>\n",
       "      <td>0.050707</td>\n",
       "      <td>0.053475</td>\n",
       "      <td>0.055148</td>\n",
       "      <td>0.149298</td>\n",
       "      <td>0.103351</td>\n",
       "    </tr>\n",
       "    <tr>\n",
       "      <th>210</th>\n",
       "      <td>-0.003069</td>\n",
       "      <td>0.137609</td>\n",
       "      <td>0.126764</td>\n",
       "      <td>0.085650</td>\n",
       "      <td>1.000000</td>\n",
       "      <td>0.039999</td>\n",
       "      <td>0.949733</td>\n",
       "      <td>0.030914</td>\n",
       "      <td>0.048505</td>\n",
       "      <td>0.046410</td>\n",
       "      <td>0.046619</td>\n",
       "      <td>0.046244</td>\n",
       "      <td>0.066699</td>\n",
       "      <td>0.102488</td>\n",
       "    </tr>\n",
       "    <tr>\n",
       "      <th>298</th>\n",
       "      <td>0.621514</td>\n",
       "      <td>0.089933</td>\n",
       "      <td>0.145362</td>\n",
       "      <td>0.026033</td>\n",
       "      <td>0.039999</td>\n",
       "      <td>1.000000</td>\n",
       "      <td>0.044927</td>\n",
       "      <td>0.842164</td>\n",
       "      <td>0.825372</td>\n",
       "      <td>0.885728</td>\n",
       "      <td>0.860458</td>\n",
       "      <td>0.857012</td>\n",
       "      <td>0.141004</td>\n",
       "      <td>0.102055</td>\n",
       "    </tr>\n",
       "    <tr>\n",
       "      <th>348</th>\n",
       "      <td>-0.001649</td>\n",
       "      <td>0.142836</td>\n",
       "      <td>0.153242</td>\n",
       "      <td>0.113664</td>\n",
       "      <td>0.949733</td>\n",
       "      <td>0.044927</td>\n",
       "      <td>1.000000</td>\n",
       "      <td>0.037779</td>\n",
       "      <td>0.057312</td>\n",
       "      <td>0.050981</td>\n",
       "      <td>0.050440</td>\n",
       "      <td>0.049986</td>\n",
       "      <td>0.079128</td>\n",
       "      <td>0.130108</td>\n",
       "    </tr>\n",
       "    <tr>\n",
       "      <th>430</th>\n",
       "      <td>0.674305</td>\n",
       "      <td>0.072240</td>\n",
       "      <td>0.148998</td>\n",
       "      <td>0.053295</td>\n",
       "      <td>0.030914</td>\n",
       "      <td>0.842164</td>\n",
       "      <td>0.037779</td>\n",
       "      <td>1.000000</td>\n",
       "      <td>0.899213</td>\n",
       "      <td>0.948040</td>\n",
       "      <td>0.951673</td>\n",
       "      <td>0.953723</td>\n",
       "      <td>0.138906</td>\n",
       "      <td>0.109569</td>\n",
       "    </tr>\n",
       "    <tr>\n",
       "      <th>431</th>\n",
       "      <td>0.595582</td>\n",
       "      <td>0.095420</td>\n",
       "      <td>0.169148</td>\n",
       "      <td>0.088214</td>\n",
       "      <td>0.048505</td>\n",
       "      <td>0.825372</td>\n",
       "      <td>0.057312</td>\n",
       "      <td>0.899213</td>\n",
       "      <td>1.000000</td>\n",
       "      <td>0.933359</td>\n",
       "      <td>0.929544</td>\n",
       "      <td>0.932598</td>\n",
       "      <td>0.139180</td>\n",
       "      <td>0.120304</td>\n",
       "    </tr>\n",
       "    <tr>\n",
       "      <th>434</th>\n",
       "      <td>0.631860</td>\n",
       "      <td>0.091144</td>\n",
       "      <td>0.150095</td>\n",
       "      <td>0.050707</td>\n",
       "      <td>0.046410</td>\n",
       "      <td>0.885728</td>\n",
       "      <td>0.050981</td>\n",
       "      <td>0.948040</td>\n",
       "      <td>0.933359</td>\n",
       "      <td>1.000000</td>\n",
       "      <td>0.993665</td>\n",
       "      <td>0.992333</td>\n",
       "      <td>0.128726</td>\n",
       "      <td>0.111609</td>\n",
       "    </tr>\n",
       "    <tr>\n",
       "      <th>435</th>\n",
       "      <td>0.644550</td>\n",
       "      <td>0.085272</td>\n",
       "      <td>0.148186</td>\n",
       "      <td>0.053475</td>\n",
       "      <td>0.046619</td>\n",
       "      <td>0.860458</td>\n",
       "      <td>0.050440</td>\n",
       "      <td>0.951673</td>\n",
       "      <td>0.929544</td>\n",
       "      <td>0.993665</td>\n",
       "      <td>1.000000</td>\n",
       "      <td>0.996216</td>\n",
       "      <td>0.128324</td>\n",
       "      <td>0.108573</td>\n",
       "    </tr>\n",
       "    <tr>\n",
       "      <th>436</th>\n",
       "      <td>0.638651</td>\n",
       "      <td>0.084576</td>\n",
       "      <td>0.148108</td>\n",
       "      <td>0.055148</td>\n",
       "      <td>0.046244</td>\n",
       "      <td>0.857012</td>\n",
       "      <td>0.049986</td>\n",
       "      <td>0.953723</td>\n",
       "      <td>0.932598</td>\n",
       "      <td>0.992333</td>\n",
       "      <td>0.996216</td>\n",
       "      <td>1.000000</td>\n",
       "      <td>0.127060</td>\n",
       "      <td>0.106426</td>\n",
       "    </tr>\n",
       "    <tr>\n",
       "      <th>510</th>\n",
       "      <td>0.059851</td>\n",
       "      <td>0.217680</td>\n",
       "      <td>0.609697</td>\n",
       "      <td>0.149298</td>\n",
       "      <td>0.066699</td>\n",
       "      <td>0.141004</td>\n",
       "      <td>0.079128</td>\n",
       "      <td>0.138906</td>\n",
       "      <td>0.139180</td>\n",
       "      <td>0.128726</td>\n",
       "      <td>0.128324</td>\n",
       "      <td>0.127060</td>\n",
       "      <td>1.000000</td>\n",
       "      <td>0.131587</td>\n",
       "    </tr>\n",
       "    <tr>\n",
       "      <th>Pass/Fail</th>\n",
       "      <td>0.107997</td>\n",
       "      <td>0.155771</td>\n",
       "      <td>0.151196</td>\n",
       "      <td>0.103351</td>\n",
       "      <td>0.102488</td>\n",
       "      <td>0.102055</td>\n",
       "      <td>0.130108</td>\n",
       "      <td>0.109569</td>\n",
       "      <td>0.120304</td>\n",
       "      <td>0.111609</td>\n",
       "      <td>0.108573</td>\n",
       "      <td>0.106426</td>\n",
       "      <td>0.131587</td>\n",
       "      <td>1.000000</td>\n",
       "    </tr>\n",
       "  </tbody>\n",
       "</table>\n",
       "</div>"
      ],
      "text/plain": [
       "                 21        59       103       129       210       298  \\\n",
       "21         1.000000 -0.026307  0.022183 -0.078437 -0.003069  0.621514   \n",
       "59        -0.026307  1.000000  0.287722  0.190543  0.137609  0.089933   \n",
       "103        0.022183  0.287722  1.000000  0.277127  0.126764  0.145362   \n",
       "129       -0.078437  0.190543  0.277127  1.000000  0.085650  0.026033   \n",
       "210       -0.003069  0.137609  0.126764  0.085650  1.000000  0.039999   \n",
       "298        0.621514  0.089933  0.145362  0.026033  0.039999  1.000000   \n",
       "348       -0.001649  0.142836  0.153242  0.113664  0.949733  0.044927   \n",
       "430        0.674305  0.072240  0.148998  0.053295  0.030914  0.842164   \n",
       "431        0.595582  0.095420  0.169148  0.088214  0.048505  0.825372   \n",
       "434        0.631860  0.091144  0.150095  0.050707  0.046410  0.885728   \n",
       "435        0.644550  0.085272  0.148186  0.053475  0.046619  0.860458   \n",
       "436        0.638651  0.084576  0.148108  0.055148  0.046244  0.857012   \n",
       "510        0.059851  0.217680  0.609697  0.149298  0.066699  0.141004   \n",
       "Pass/Fail  0.107997  0.155771  0.151196  0.103351  0.102488  0.102055   \n",
       "\n",
       "                348       430       431       434       435       436  \\\n",
       "21        -0.001649  0.674305  0.595582  0.631860  0.644550  0.638651   \n",
       "59         0.142836  0.072240  0.095420  0.091144  0.085272  0.084576   \n",
       "103        0.153242  0.148998  0.169148  0.150095  0.148186  0.148108   \n",
       "129        0.113664  0.053295  0.088214  0.050707  0.053475  0.055148   \n",
       "210        0.949733  0.030914  0.048505  0.046410  0.046619  0.046244   \n",
       "298        0.044927  0.842164  0.825372  0.885728  0.860458  0.857012   \n",
       "348        1.000000  0.037779  0.057312  0.050981  0.050440  0.049986   \n",
       "430        0.037779  1.000000  0.899213  0.948040  0.951673  0.953723   \n",
       "431        0.057312  0.899213  1.000000  0.933359  0.929544  0.932598   \n",
       "434        0.050981  0.948040  0.933359  1.000000  0.993665  0.992333   \n",
       "435        0.050440  0.951673  0.929544  0.993665  1.000000  0.996216   \n",
       "436        0.049986  0.953723  0.932598  0.992333  0.996216  1.000000   \n",
       "510        0.079128  0.138906  0.139180  0.128726  0.128324  0.127060   \n",
       "Pass/Fail  0.130108  0.109569  0.120304  0.111609  0.108573  0.106426   \n",
       "\n",
       "                510  Pass/Fail  \n",
       "21         0.059851   0.107997  \n",
       "59         0.217680   0.155771  \n",
       "103        0.609697   0.151196  \n",
       "129        0.149298   0.103351  \n",
       "210        0.066699   0.102488  \n",
       "298        0.141004   0.102055  \n",
       "348        0.079128   0.130108  \n",
       "430        0.138906   0.109569  \n",
       "431        0.139180   0.120304  \n",
       "434        0.128726   0.111609  \n",
       "435        0.128324   0.108573  \n",
       "436        0.127060   0.106426  \n",
       "510        1.000000   0.131587  \n",
       "Pass/Fail  0.131587   1.000000  "
      ]
     },
     "execution_count": 259,
     "metadata": {},
     "output_type": "execute_result"
    }
   ],
   "source": [
    "corr_matrix.loc[corr_matrix['Pass/Fail'].abs() > 0.1, corr_matrix['Pass/Fail'].abs() > 0.1]"
   ]
  },
  {
   "cell_type": "markdown",
   "metadata": {},
   "source": [
    "- 'Pass/Fail' 과 상관관계가 0.1 이상인 변수들 간의 상관관계"
   ]
  },
  {
   "cell_type": "markdown",
   "metadata": {},
   "source": [
    "### 상관관계가 0.001 이하인 변수 제거 "
   ]
  },
  {
   "cell_type": "code",
   "execution_count": 276,
   "metadata": {},
   "outputs": [],
   "source": [
    "corr_low_index = corr_matrix.loc[corr_matrix['Pass/Fail'].abs() < 0.001, corr_matrix['Pass/Fail'].abs() > 0.001].index"
   ]
  },
  {
   "cell_type": "code",
   "execution_count": 277,
   "metadata": {},
   "outputs": [
    {
     "data": {
      "text/plain": [
       "Index(['2', '105', '108', '132', '291', '427', '429', '456'], dtype='object')"
      ]
     },
     "execution_count": 277,
     "metadata": {},
     "output_type": "execute_result"
    }
   ],
   "source": [
    "corr_low_index"
   ]
  },
  {
   "cell_type": "code",
   "execution_count": 272,
   "metadata": {},
   "outputs": [],
   "source": [
    "corr_data = data.copy()"
   ]
  },
  {
   "cell_type": "code",
   "execution_count": 278,
   "metadata": {},
   "outputs": [],
   "source": [
    "corr_data.drop(corr_low_index, axis='columns', inplace=True)"
   ]
  },
  {
   "cell_type": "markdown",
   "metadata": {},
   "source": [
    "### 성능평가 "
   ]
  },
  {
   "cell_type": "code",
   "execution_count": 281,
   "metadata": {},
   "outputs": [],
   "source": [
    "X = corr_data.loc[:,'0':'588']\n",
    "y = corr_data.loc[:,'Pass/Fail']"
   ]
  },
  {
   "cell_type": "code",
   "execution_count": 286,
   "metadata": {},
   "outputs": [
    {
     "data": {
      "text/plain": [
       "0.745128403664989"
      ]
     },
     "execution_count": 286,
     "metadata": {},
     "output_type": "execute_result"
    }
   ],
   "source": [
    "X_train, X_test, y_train, y_test  = train_test_split(X,y, test_size = 0.2, random_state=13)\n",
    "\n",
    "log_reg = LogisticRegression(random_state=13,solver='liblinear')\n",
    "log_reg.fit(X_train, y_train)\n",
    "\n",
    "y_pred = log_reg.predict(X_test)\n",
    "\n",
    "roc_auc  = roc_auc_score(y_test, log_reg.decision_function(X_test))\n",
    "roc_auc"
   ]
  },
  {
   "cell_type": "code",
   "execution_count": 287,
   "metadata": {},
   "outputs": [
    {
     "data": {
      "text/plain": [
       "0.5849787069299265"
      ]
     },
     "execution_count": 287,
     "metadata": {},
     "output_type": "execute_result"
    }
   ],
   "source": [
    "roc_auc1  = roc_auc_score(y_test, y_pred)\n",
    "roc_auc1"
   ]
  },
  {
   "cell_type": "code",
   "execution_count": 284,
   "metadata": {},
   "outputs": [
    {
     "data": {
      "image/png": "[encoded data removed]",
      "text/plain": [
       "<Figure size 432x288 with 1 Axes>"
      ]
     },
     "metadata": {},
     "output_type": "display_data"
    }
   ],
   "source": [
    "from sklearn.metrics import roc_auc_score\n",
    "from sklearn.metrics import roc_curve\n",
    "\n",
    "roc_auc  = roc_auc_score(y_test, log_reg.decision_function(X_test))\n",
    "\n",
    "# decision_function: 불확실성을 추정 = 확률로 표현 \n",
    "false_positive_rate, true_positive_rate, thresholds = roc_curve(y_test, log_reg.decision_function(X_test))\n",
    "\n",
    "plt.title('Receiver Operating Characteristic')\n",
    "plt.xlabel('False Positive Rate(1 - Specificity)')\n",
    "plt.ylabel('True Positive Rate(Sensitivity)')\n",
    "\n",
    "plt.plot(false_positive_rate, true_positive_rate, 'b', label='Log_reg (AUC = %0.2f)'% roc_auc)\n",
    "plt.plot([0,1],[1,1],'y--')\n",
    "plt.plot([0,1],[0,1],'r--')\n",
    "\n",
    "plt.legend(loc='lower right')\n",
    "plt.show()"
   ]
  },
  {
   "cell_type": "code",
   "execution_count": 285,
   "metadata": {},
   "outputs": [
    {
     "name": "stdout",
     "output_type": "stream",
     "text": [
      "=> 오차행렬\n",
      "[[272  15]\n",
      " [ 21   6]]\n",
      "=========\n",
      "accuracy: 0.8854, precision: 0.2857\n",
      "recall: 0.2222,F1: 0.2500,AUC: 0.5850\n"
     ]
    }
   ],
   "source": [
    "print_clf_eval(y_test, y_pred)"
   ]
  },
  {
   "cell_type": "code",
   "execution_count": 288,
   "metadata": {},
   "outputs": [
    {
     "data": {
      "text/plain": [
       "array([0.64440111, 0.55631399, 0.48577929, 0.54435747, 0.61369863])"
      ]
     },
     "execution_count": 288,
     "metadata": {},
     "output_type": "execute_result"
    }
   ],
   "source": [
    "from sklearn.model_selection import cross_val_score\n",
    "\n",
    "scores = cross_val_score(log_reg, X,y, cv=5, scoring='roc_auc')\n",
    "scores"
   ]
  },
  {
   "cell_type": "code",
   "execution_count": 289,
   "metadata": {},
   "outputs": [
    {
     "data": {
      "text/plain": [
       "0.568910098426205"
      ]
     },
     "execution_count": 289,
     "metadata": {},
     "output_type": "execute_result"
    }
   ],
   "source": [
    "np.mean(scores)"
   ]
  },
  {
   "cell_type": "markdown",
   "metadata": {},
   "source": [
    "- auc 성능 저하. but 불량을 불량으로 맞추는 건수가 1개 늘음"
   ]
  },
  {
   "cell_type": "markdown",
   "metadata": {},
   "source": [
    "- 상관관계가 낮은 변수를 제거 하기 보다는 변수 간 상관관계가 높은 변수 쌍 중 하나를 제거하는 게 필요해보임 "
   ]
  },
  {
   "cell_type": "markdown",
   "metadata": {},
   "source": [
    "### 변수 간 상관관계 조사 "
   ]
  },
  {
   "cell_type": "code",
   "execution_count": 290,
   "metadata": {},
   "outputs": [
    {
     "data": {
      "text/plain": [
       "['27',\n",
       " '104',\n",
       " '105',\n",
       " '106',\n",
       " '127',\n",
       " '140',\n",
       " '148',\n",
       " '152',\n",
       " '165',\n",
       " '249',\n",
       " '271',\n",
       " '272',\n",
       " '274',\n",
       " '275',\n",
       " '277',\n",
       " '280',\n",
       " '281',\n",
       " '282',\n",
       " '283',\n",
       " '285',\n",
       " '286',\n",
       " '287',\n",
       " '288',\n",
       " '289',\n",
       " '290',\n",
       " '291',\n",
       " '293',\n",
       " '294',\n",
       " '295',\n",
       " '296',\n",
       " '297',\n",
       " '298',\n",
       " '299',\n",
       " '300',\n",
       " '301',\n",
       " '302',\n",
       " '303',\n",
       " '304',\n",
       " '305',\n",
       " '306',\n",
       " '308',\n",
       " '310',\n",
       " '311',\n",
       " '318',\n",
       " '319',\n",
       " '321',\n",
       " '323',\n",
       " '324',\n",
       " '332',\n",
       " '333',\n",
       " '335',\n",
       " '338',\n",
       " '339',\n",
       " '340',\n",
       " '341',\n",
       " '343',\n",
       " '344',\n",
       " '346',\n",
       " '349',\n",
       " '350',\n",
       " '351',\n",
       " '352',\n",
       " '354',\n",
       " '355',\n",
       " '359',\n",
       " '360',\n",
       " '361',\n",
       " '362',\n",
       " '363',\n",
       " '365',\n",
       " '366',\n",
       " '377',\n",
       " '386',\n",
       " '387',\n",
       " '388',\n",
       " '389',\n",
       " '391',\n",
       " '392',\n",
       " '405',\n",
       " '406',\n",
       " '407',\n",
       " '408',\n",
       " '409',\n",
       " '410',\n",
       " '411',\n",
       " '415',\n",
       " '416',\n",
       " '417',\n",
       " '420',\n",
       " '421',\n",
       " '424',\n",
       " '425',\n",
       " '426',\n",
       " '427',\n",
       " '428',\n",
       " '429',\n",
       " '435',\n",
       " '436',\n",
       " '437',\n",
       " '440',\n",
       " '441',\n",
       " '442',\n",
       " '444',\n",
       " '446',\n",
       " '453',\n",
       " '455',\n",
       " '456',\n",
       " '457',\n",
       " '459',\n",
       " '467',\n",
       " '469',\n",
       " '470',\n",
       " '475',\n",
       " '477',\n",
       " '479',\n",
       " '490',\n",
       " '491',\n",
       " '493',\n",
       " '494',\n",
       " '495',\n",
       " '497',\n",
       " '519',\n",
       " '520',\n",
       " '522',\n",
       " '523',\n",
       " '524',\n",
       " '525',\n",
       " '526',\n",
       " '539',\n",
       " '540',\n",
       " '541',\n",
       " '552',\n",
       " '553',\n",
       " '554',\n",
       " '556',\n",
       " '557',\n",
       " '561',\n",
       " '567',\n",
       " '574',\n",
       " '575',\n",
       " '576',\n",
       " '577',\n",
       " '580',\n",
       " '584',\n",
       " '585',\n",
       " '588']"
      ]
     },
     "execution_count": 290,
     "metadata": {},
     "output_type": "execute_result"
    }
   ],
   "source": [
    "to_drop"
   ]
  },
  {
   "cell_type": "code",
   "execution_count": 292,
   "metadata": {},
   "outputs": [
    {
     "data": {
      "text/html": [
       "<div>\n",
       "<style scoped>\n",
       "    .dataframe tbody tr th:only-of-type {\n",
       "        vertical-align: middle;\n",
       "    }\n",
       "\n",
       "    .dataframe tbody tr th {\n",
       "        vertical-align: top;\n",
       "    }\n",
       "\n",
       "    .dataframe thead th {\n",
       "        text-align: right;\n",
       "    }\n",
       "</style>\n",
       "<table border=\"1\" class=\"dataframe\">\n",
       "  <thead>\n",
       "    <tr style=\"text-align: right;\">\n",
       "      <th></th>\n",
       "      <th>25</th>\n",
       "      <th>27</th>\n",
       "    </tr>\n",
       "  </thead>\n",
       "  <tbody>\n",
       "    <tr>\n",
       "      <th>25</th>\n",
       "      <td>1.000000</td>\n",
       "      <td>0.980375</td>\n",
       "    </tr>\n",
       "    <tr>\n",
       "      <th>27</th>\n",
       "      <td>0.980375</td>\n",
       "      <td>1.000000</td>\n",
       "    </tr>\n",
       "  </tbody>\n",
       "</table>\n",
       "</div>"
      ],
      "text/plain": [
       "          25        27\n",
       "25  1.000000  0.980375\n",
       "27  0.980375  1.000000"
      ]
     },
     "execution_count": 292,
     "metadata": {},
     "output_type": "execute_result"
    }
   ],
   "source": [
    "corr_matrix.loc[corr_matrix['27'].abs() > 0.8, corr_matrix['27'].abs() > 0.8]"
   ]
  },
  {
   "cell_type": "code",
   "execution_count": 296,
   "metadata": {
    "scrolled": true
   },
   "outputs": [
    {
     "data": {
      "text/plain": [
       "-0.03637940636792051"
      ]
     },
     "execution_count": 296,
     "metadata": {},
     "output_type": "execute_result"
    }
   ],
   "source": [
    "corr_matrix['Pass/Fail']['25']"
   ]
  },
  {
   "cell_type": "code",
   "execution_count": 297,
   "metadata": {},
   "outputs": [
    {
     "data": {
      "text/plain": [
       "-0.029205821139617994"
      ]
     },
     "execution_count": 297,
     "metadata": {},
     "output_type": "execute_result"
    }
   ],
   "source": [
    "corr_matrix['Pass/Fail']['27']"
   ]
  },
  {
   "cell_type": "markdown",
   "metadata": {},
   "source": [
    "- '25' 보다 Pass/Fail과의 상관관계가 작은 변수 '27' 제거 "
   ]
  },
  {
   "cell_type": "code",
   "execution_count": null,
   "metadata": {},
   "outputs": [],
   "source": [
    "for i in to_drop:\n",
    "    corr_matrix.loc[corr_matrix[i].abs() > 0.9, corr_matrix[i].abs() > 0.9]"
   ]
  }
 ],
 "metadata": {
  "kernelspec": {
   "display_name": "Python 3",
   "language": "python",
   "name": "python3"
  },
  "language_info": {
   "codemirror_mode": {
    "name": "ipython",
    "version": 3
   },
   "file_extension": ".py",
   "mimetype": "text/x-python",
   "name": "python",
   "nbconvert_exporter": "python",
   "pygments_lexer": "ipython3",
   "version": "3.7.7"
  }
 },
 "nbformat": 4,
 "nbformat_minor": 4
}
