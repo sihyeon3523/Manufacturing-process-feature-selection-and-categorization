{
 "cells": [
  {
   "cell_type": "code",
   "execution_count": 2,
   "metadata": {},
   "outputs": [],
   "source": [
    "import pandas as pd\n",
    "import numpy as np"
   ]
  },
  {
   "cell_type": "code",
   "execution_count": 3,
   "metadata": {},
   "outputs": [],
   "source": [
    "import matplotlib.pyplot as plt\n",
    "import seaborn as sns"
   ]
  },
  {
   "cell_type": "code",
   "execution_count": 4,
   "metadata": {},
   "outputs": [],
   "source": [
    "data = pd.read_csv('data_final.csv')"
   ]
  },
  {
   "cell_type": "code",
   "execution_count": 5,
   "metadata": {},
   "outputs": [],
   "source": [
    "data = data.drop('Unnamed: 0', axis=1)"
   ]
  },
  {
   "cell_type": "code",
   "execution_count": 6,
   "metadata": {},
   "outputs": [
    {
     "data": {
      "text/html": [
       "<div>\n",
       "<style scoped>\n",
       "    .dataframe tbody tr th:only-of-type {\n",
       "        vertical-align: middle;\n",
       "    }\n",
       "\n",
       "    .dataframe tbody tr th {\n",
       "        vertical-align: top;\n",
       "    }\n",
       "\n",
       "    .dataframe thead th {\n",
       "        text-align: right;\n",
       "    }\n",
       "</style>\n",
       "<table border=\"1\" class=\"dataframe\">\n",
       "  <thead>\n",
       "    <tr style=\"text-align: right;\">\n",
       "      <th></th>\n",
       "      <th>0</th>\n",
       "      <th>19</th>\n",
       "      <th>20</th>\n",
       "      <th>25</th>\n",
       "      <th>31</th>\n",
       "      <th>40</th>\n",
       "      <th>43</th>\n",
       "      <th>52</th>\n",
       "      <th>58</th>\n",
       "      <th>61</th>\n",
       "      <th>...</th>\n",
       "      <th>318</th>\n",
       "      <th>321</th>\n",
       "      <th>329</th>\n",
       "      <th>341</th>\n",
       "      <th>356</th>\n",
       "      <th>365</th>\n",
       "      <th>367</th>\n",
       "      <th>368</th>\n",
       "      <th>373</th>\n",
       "      <th>Pass/Fail</th>\n",
       "    </tr>\n",
       "  </thead>\n",
       "  <tbody>\n",
       "    <tr>\n",
       "      <th>0</th>\n",
       "      <td>0.469231</td>\n",
       "      <td>0.242124</td>\n",
       "      <td>0.797675</td>\n",
       "      <td>0.398104</td>\n",
       "      <td>0.121293</td>\n",
       "      <td>0.319010</td>\n",
       "      <td>0.411986</td>\n",
       "      <td>0.138291</td>\n",
       "      <td>0.221741</td>\n",
       "      <td>0.762021</td>\n",
       "      <td>...</td>\n",
       "      <td>0.155453</td>\n",
       "      <td>0.041580</td>\n",
       "      <td>0.014323</td>\n",
       "      <td>0.000000</td>\n",
       "      <td>0.229765</td>\n",
       "      <td>0.150986</td>\n",
       "      <td>0.112244</td>\n",
       "      <td>0.709375</td>\n",
       "      <td>0.151239</td>\n",
       "      <td>-1</td>\n",
       "    </tr>\n",
       "    <tr>\n",
       "      <th>1</th>\n",
       "      <td>0.575003</td>\n",
       "      <td>0.238978</td>\n",
       "      <td>0.712274</td>\n",
       "      <td>0.964903</td>\n",
       "      <td>0.139530</td>\n",
       "      <td>0.360565</td>\n",
       "      <td>0.535243</td>\n",
       "      <td>0.151144</td>\n",
       "      <td>0.204983</td>\n",
       "      <td>0.833427</td>\n",
       "      <td>...</td>\n",
       "      <td>0.229751</td>\n",
       "      <td>0.039419</td>\n",
       "      <td>0.014288</td>\n",
       "      <td>0.000000</td>\n",
       "      <td>0.115285</td>\n",
       "      <td>0.102807</td>\n",
       "      <td>0.068396</td>\n",
       "      <td>0.753125</td>\n",
       "      <td>0.220339</td>\n",
       "      <td>-1</td>\n",
       "    </tr>\n",
       "    <tr>\n",
       "      <th>2</th>\n",
       "      <td>0.308868</td>\n",
       "      <td>0.238104</td>\n",
       "      <td>0.738940</td>\n",
       "      <td>0.989554</td>\n",
       "      <td>0.067069</td>\n",
       "      <td>0.340259</td>\n",
       "      <td>0.408149</td>\n",
       "      <td>0.267903</td>\n",
       "      <td>0.175564</td>\n",
       "      <td>0.727359</td>\n",
       "      <td>...</td>\n",
       "      <td>0.172564</td>\n",
       "      <td>0.037459</td>\n",
       "      <td>0.025803</td>\n",
       "      <td>0.244275</td>\n",
       "      <td>0.983876</td>\n",
       "      <td>0.077769</td>\n",
       "      <td>0.050771</td>\n",
       "      <td>0.562500</td>\n",
       "      <td>0.589309</td>\n",
       "      <td>1</td>\n",
       "    </tr>\n",
       "    <tr>\n",
       "      <th>3</th>\n",
       "      <td>0.400385</td>\n",
       "      <td>0.235237</td>\n",
       "      <td>0.724308</td>\n",
       "      <td>0.955045</td>\n",
       "      <td>0.068333</td>\n",
       "      <td>0.340259</td>\n",
       "      <td>0.447084</td>\n",
       "      <td>0.270716</td>\n",
       "      <td>0.168451</td>\n",
       "      <td>0.750309</td>\n",
       "      <td>...</td>\n",
       "      <td>0.139495</td>\n",
       "      <td>0.052237</td>\n",
       "      <td>0.016615</td>\n",
       "      <td>0.000000</td>\n",
       "      <td>0.434376</td>\n",
       "      <td>0.055956</td>\n",
       "      <td>0.043312</td>\n",
       "      <td>0.662500</td>\n",
       "      <td>0.152542</td>\n",
       "      <td>-1</td>\n",
       "    </tr>\n",
       "    <tr>\n",
       "      <th>4</th>\n",
       "      <td>0.471367</td>\n",
       "      <td>0.234118</td>\n",
       "      <td>0.720752</td>\n",
       "      <td>0.949862</td>\n",
       "      <td>0.073974</td>\n",
       "      <td>1.000000</td>\n",
       "      <td>0.328147</td>\n",
       "      <td>0.084682</td>\n",
       "      <td>0.350179</td>\n",
       "      <td>0.738046</td>\n",
       "      <td>...</td>\n",
       "      <td>0.162191</td>\n",
       "      <td>0.024435</td>\n",
       "      <td>0.015655</td>\n",
       "      <td>0.000000</td>\n",
       "      <td>0.138504</td>\n",
       "      <td>0.090288</td>\n",
       "      <td>0.069148</td>\n",
       "      <td>0.068750</td>\n",
       "      <td>0.152542</td>\n",
       "      <td>-1</td>\n",
       "    </tr>\n",
       "  </tbody>\n",
       "</table>\n",
       "<p>5 rows × 56 columns</p>\n",
       "</div>"
      ],
      "text/plain": [
       "          0        19        20        25        31        40        43  \\\n",
       "0  0.469231  0.242124  0.797675  0.398104  0.121293  0.319010  0.411986   \n",
       "1  0.575003  0.238978  0.712274  0.964903  0.139530  0.360565  0.535243   \n",
       "2  0.308868  0.238104  0.738940  0.989554  0.067069  0.340259  0.408149   \n",
       "3  0.400385  0.235237  0.724308  0.955045  0.068333  0.340259  0.447084   \n",
       "4  0.471367  0.234118  0.720752  0.949862  0.073974  1.000000  0.328147   \n",
       "\n",
       "         52        58        61    ...           318       321       329  \\\n",
       "0  0.138291  0.221741  0.762021    ...      0.155453  0.041580  0.014323   \n",
       "1  0.151144  0.204983  0.833427    ...      0.229751  0.039419  0.014288   \n",
       "2  0.267903  0.175564  0.727359    ...      0.172564  0.037459  0.025803   \n",
       "3  0.270716  0.168451  0.750309    ...      0.139495  0.052237  0.016615   \n",
       "4  0.084682  0.350179  0.738046    ...      0.162191  0.024435  0.015655   \n",
       "\n",
       "        341       356       365       367       368       373  Pass/Fail  \n",
       "0  0.000000  0.229765  0.150986  0.112244  0.709375  0.151239         -1  \n",
       "1  0.000000  0.115285  0.102807  0.068396  0.753125  0.220339         -1  \n",
       "2  0.244275  0.983876  0.077769  0.050771  0.562500  0.589309          1  \n",
       "3  0.000000  0.434376  0.055956  0.043312  0.662500  0.152542         -1  \n",
       "4  0.000000  0.138504  0.090288  0.069148  0.068750  0.152542         -1  \n",
       "\n",
       "[5 rows x 56 columns]"
      ]
     },
     "execution_count": 6,
     "metadata": {},
     "output_type": "execute_result"
    }
   ],
   "source": [
    "data.head()"
   ]
  },
  {
   "cell_type": "code",
   "execution_count": 14,
   "metadata": {},
   "outputs": [
    {
     "data": {
      "text/plain": [
       "<matplotlib.axes._subplots.AxesSubplot at 0x20c4c7b1408>"
      ]
     },
     "execution_count": 14,
     "metadata": {},
     "output_type": "execute_result"
    },
    {
     "data": {
      "image/png": "[encoded data removed]",
      "text/plain": [
       "<Figure size 1440x1080 with 2 Axes>"
      ]
     },
     "metadata": {
      "needs_background": "light"
     },
     "output_type": "display_data"
    }
   ],
   "source": [
    "colormap = plt.cm.PuBu \n",
    "plt.figure(figsize=(20, 15)) \n",
    "plt.title(\"Correlation of Semiconductor Features\", y = 1.05, size = 15)\n",
    "sns.heatmap(data.corr(), linewidths = 0.1, vmax = 1.0, square = True, cmap = colormap, linecolor = \"white\", annot = False)"
   ]
  },
  {
   "cell_type": "code",
   "execution_count": 40,
   "metadata": {},
   "outputs": [
    {
     "data": {
      "text/plain": [
       "Pass/Fail    1.000000\n",
       "52           0.156008\n",
       "81           0.151230\n",
       "293          0.119936\n",
       "19           0.108333\n",
       "102          0.102799\n",
       "213          0.101672\n",
       "132          0.099506\n",
       "97           0.094168\n",
       "129          0.089233\n",
       "Name: Pass/Fail, dtype: float64"
      ]
     },
     "execution_count": 40,
     "metadata": {},
     "output_type": "execute_result"
    }
   ],
   "source": [
    "(data.corr()['Pass/Fail']).sort_values(ascending=False).head(10)"
   ]
  },
  {
   "cell_type": "code",
   "execution_count": 46,
   "metadata": {},
   "outputs": [
    {
     "data": {
      "text/plain": [
       "-1    1463\n",
       " 1     104\n",
       "Name: Pass/Fail, dtype: int64"
      ]
     },
     "execution_count": 46,
     "metadata": {},
     "output_type": "execute_result"
    }
   ],
   "source": [
    "data['Pass/Fail'].value_counts()"
   ]
  },
  {
   "cell_type": "markdown",
   "metadata": {},
   "source": [
    "# Null 처리\n",
    "- 하나라도 null이 있는 열: 538"
   ]
  },
  {
   "cell_type": "code",
   "execution_count": 120,
   "metadata": {},
   "outputs": [],
   "source": [
    "data_before = pd.read_csv('uci-secom.csv')"
   ]
  },
  {
   "cell_type": "code",
   "execution_count": 121,
   "metadata": {},
   "outputs": [],
   "source": [
    "data_before = data_before.drop('Time', axis=1)"
   ]
  },
  {
   "cell_type": "code",
   "execution_count": 122,
   "metadata": {},
   "outputs": [],
   "source": [
    "null = []\n",
    "Not_null = []\n",
    "null = data_before.isnull().sum()\n",
    "\n",
    "for i in null.index:\n",
    "    if null[i] == 0:\n",
    "        Not_null.append(i)"
   ]
  },
  {
   "cell_type": "code",
   "execution_count": 123,
   "metadata": {},
   "outputs": [],
   "source": [
    "null = data_before.isnull().sum()\n",
    "null = null.drop(Not_null)"
   ]
  },
  {
   "cell_type": "code",
   "execution_count": 125,
   "metadata": {},
   "outputs": [],
   "source": [
    "null = pd.DataFrame(null)"
   ]
  },
  {
   "cell_type": "code",
   "execution_count": 127,
   "metadata": {},
   "outputs": [],
   "source": [
    "null['전체비율'] = 100"
   ]
  },
  {
   "cell_type": "code",
   "execution_count": 128,
   "metadata": {},
   "outputs": [],
   "source": [
    "null.rename(columns = {0:'Null 수'}, inplace = True)"
   ]
  },
  {
   "cell_type": "code",
   "execution_count": 130,
   "metadata": {},
   "outputs": [
    {
     "data": {
      "text/html": [
       "<div>\n",
       "<style scoped>\n",
       "    .dataframe tbody tr th:only-of-type {\n",
       "        vertical-align: middle;\n",
       "    }\n",
       "\n",
       "    .dataframe tbody tr th {\n",
       "        vertical-align: top;\n",
       "    }\n",
       "\n",
       "    .dataframe thead th {\n",
       "        text-align: right;\n",
       "    }\n",
       "</style>\n",
       "<table border=\"1\" class=\"dataframe\">\n",
       "  <thead>\n",
       "    <tr style=\"text-align: right;\">\n",
       "      <th></th>\n",
       "      <th>Null 수</th>\n",
       "      <th>전체비율</th>\n",
       "    </tr>\n",
       "  </thead>\n",
       "  <tbody>\n",
       "    <tr>\n",
       "      <th>0</th>\n",
       "      <td>6</td>\n",
       "      <td>100</td>\n",
       "    </tr>\n",
       "    <tr>\n",
       "      <th>1</th>\n",
       "      <td>7</td>\n",
       "      <td>100</td>\n",
       "    </tr>\n",
       "    <tr>\n",
       "      <th>2</th>\n",
       "      <td>14</td>\n",
       "      <td>100</td>\n",
       "    </tr>\n",
       "    <tr>\n",
       "      <th>3</th>\n",
       "      <td>14</td>\n",
       "      <td>100</td>\n",
       "    </tr>\n",
       "    <tr>\n",
       "      <th>4</th>\n",
       "      <td>14</td>\n",
       "      <td>100</td>\n",
       "    </tr>\n",
       "  </tbody>\n",
       "</table>\n",
       "</div>"
      ],
      "text/plain": [
       "   Null 수  전체비율\n",
       "0       6   100\n",
       "1       7   100\n",
       "2      14   100\n",
       "3      14   100\n",
       "4      14   100"
      ]
     },
     "execution_count": 130,
     "metadata": {},
     "output_type": "execute_result"
    }
   ],
   "source": [
    "null.head()"
   ]
  },
  {
   "cell_type": "code",
   "execution_count": 168,
   "metadata": {},
   "outputs": [
    {
     "data": {
      "text/plain": [
       "Index(['0', '1', '2', '3', '4', '5', '6', '7', '8', '9',\n",
       "       ...\n",
       "       '580', '581', '582', '583', '584', '585', '586', '587', '588', '589'],\n",
       "      dtype='object', length=538)"
      ]
     },
     "execution_count": 168,
     "metadata": {},
     "output_type": "execute_result"
    }
   ],
   "source": [
    "null.index"
   ]
  },
  {
   "cell_type": "code",
   "execution_count": 133,
   "metadata": {},
   "outputs": [
    {
     "data": {
      "text/plain": [
       "1567"
      ]
     },
     "execution_count": 133,
     "metadata": {},
     "output_type": "execute_result"
    }
   ],
   "source": [
    "len(data_before)"
   ]
  },
  {
   "cell_type": "code",
   "execution_count": 163,
   "metadata": {},
   "outputs": [],
   "source": [
    "null = null.astype(float)"
   ]
  },
  {
   "cell_type": "code",
   "execution_count": 166,
   "metadata": {},
   "outputs": [],
   "source": [
    "for i in null.index:\n",
    "    null['전체비율'][i] = (null['Null 수'][i]/len(data_before))*100"
   ]
  },
  {
   "cell_type": "code",
   "execution_count": 170,
   "metadata": {},
   "outputs": [
    {
     "data": {
      "text/html": [
       "<div>\n",
       "<style scoped>\n",
       "    .dataframe tbody tr th:only-of-type {\n",
       "        vertical-align: middle;\n",
       "    }\n",
       "\n",
       "    .dataframe tbody tr th {\n",
       "        vertical-align: top;\n",
       "    }\n",
       "\n",
       "    .dataframe thead th {\n",
       "        text-align: right;\n",
       "    }\n",
       "</style>\n",
       "<table border=\"1\" class=\"dataframe\">\n",
       "  <thead>\n",
       "    <tr style=\"text-align: right;\">\n",
       "      <th></th>\n",
       "      <th>Null 수</th>\n",
       "      <th>전체비율</th>\n",
       "    </tr>\n",
       "  </thead>\n",
       "  <tbody>\n",
       "    <tr>\n",
       "      <th>0</th>\n",
       "      <td>6.0</td>\n",
       "      <td>0.382897</td>\n",
       "    </tr>\n",
       "    <tr>\n",
       "      <th>1</th>\n",
       "      <td>7.0</td>\n",
       "      <td>0.446713</td>\n",
       "    </tr>\n",
       "    <tr>\n",
       "      <th>2</th>\n",
       "      <td>14.0</td>\n",
       "      <td>0.893427</td>\n",
       "    </tr>\n",
       "    <tr>\n",
       "      <th>3</th>\n",
       "      <td>14.0</td>\n",
       "      <td>0.893427</td>\n",
       "    </tr>\n",
       "    <tr>\n",
       "      <th>4</th>\n",
       "      <td>14.0</td>\n",
       "      <td>0.893427</td>\n",
       "    </tr>\n",
       "  </tbody>\n",
       "</table>\n",
       "</div>"
      ],
      "text/plain": [
       "   Null 수      전체비율\n",
       "0     6.0  0.382897\n",
       "1     7.0  0.446713\n",
       "2    14.0  0.893427\n",
       "3    14.0  0.893427\n",
       "4    14.0  0.893427"
      ]
     },
     "execution_count": 170,
     "metadata": {},
     "output_type": "execute_result"
    }
   ],
   "source": [
    "null.head()"
   ]
  },
  {
   "cell_type": "markdown",
   "metadata": {},
   "source": [
    "## null값이 전체 행의 40%를 차지하는 열 제거\n",
    "- 32개 열 제거\n",
    "- 506개 열이 남음 "
   ]
  },
  {
   "cell_type": "code",
   "execution_count": 182,
   "metadata": {},
   "outputs": [],
   "source": [
    "null_40 = []\n",
    "\n",
    "for i in null.index:\n",
    "    if null['전체비율'][i] > 40 :\n",
    "        null_40.append(i)"
   ]
  },
  {
   "cell_type": "code",
   "execution_count": 183,
   "metadata": {},
   "outputs": [
    {
     "data": {
      "text/plain": [
       "32"
      ]
     },
     "execution_count": 183,
     "metadata": {},
     "output_type": "execute_result"
    }
   ],
   "source": [
    "len(null_40)"
   ]
  },
  {
   "cell_type": "code",
   "execution_count": 184,
   "metadata": {},
   "outputs": [
    {
     "data": {
      "text/plain": [
       "['72',\n",
       " '73',\n",
       " '85',\n",
       " '109',\n",
       " '110',\n",
       " '111',\n",
       " '112',\n",
       " '157',\n",
       " '158',\n",
       " '220',\n",
       " '244',\n",
       " '245',\n",
       " '246',\n",
       " '247',\n",
       " '292',\n",
       " '293',\n",
       " '345',\n",
       " '346',\n",
       " '358',\n",
       " '382',\n",
       " '383',\n",
       " '384',\n",
       " '385',\n",
       " '492',\n",
       " '516',\n",
       " '517',\n",
       " '518',\n",
       " '519',\n",
       " '578',\n",
       " '579',\n",
       " '580',\n",
       " '581']"
      ]
     },
     "execution_count": 184,
     "metadata": {},
     "output_type": "execute_result"
    }
   ],
   "source": [
    "null_40"
   ]
  },
  {
   "cell_type": "code",
   "execution_count": 190,
   "metadata": {},
   "outputs": [],
   "source": [
    "null = null.drop(null_40, axis=0 )"
   ]
  },
  {
   "cell_type": "code",
   "execution_count": 193,
   "metadata": {},
   "outputs": [
    {
     "data": {
      "text/plain": [
       "Index(['0', '1', '2', '3', '4', '5', '6', '7', '8', '9',\n",
       "       ...\n",
       "       '568', '569', '582', '583', '584', '585', '586', '587', '588', '589'],\n",
       "      dtype='object', length=506)"
      ]
     },
     "execution_count": 193,
     "metadata": {},
     "output_type": "execute_result"
    }
   ],
   "source": [
    "null.index"
   ]
  },
  {
   "cell_type": "code",
   "execution_count": 196,
   "metadata": {},
   "outputs": [
    {
     "data": {
      "text/plain": [
       "Text(0, 0.5, 'Column')"
      ]
     },
     "execution_count": 196,
     "metadata": {},
     "output_type": "execute_result"
    },
    {
     "data": {
      "image/png": "[encoded data removed]",
      "text/plain": [
       "<Figure size 864x576 with 1 Axes>"
      ]
     },
     "metadata": {
      "needs_background": "light"
     },
     "output_type": "display_data"
    }
   ],
   "source": [
    "plt.figure(figsize=(12,8))\n",
    "plt.scatter(null['전체비율'],null.index)\n",
    "plt.xlabel('The rate of null',fontsize=15)\n",
    "plt.ylabel('Column',fontsize=15)"
   ]
  },
  {
   "cell_type": "markdown",
   "metadata": {},
   "source": [
    "## 전체 행의 15% 이상의 null값을 가지는 열\n",
    "- 범주형 변수인지 숫자형 변수인지 알 수 없어 null값을 대체하는데 한계가 존재 \n",
    "- 범주형 변수일 경우 최빈값으로 결측치를 처리하는게 좋다고 판단\n",
    "- 숫자형 변수일 경우 평균값으로 결측치를 처리하는게 좋다고 판단\n",
    "- 하지만 40% 이상 null값이 있는 열 제거, 하나의 값만 존재하는 열 제거 후, 값의 분포를 살펴보면 범주형 변수는 없음을 확인 \n",
    "\n",
    "\n",
    "\n",
    "- 15% 이상의 null값을 가지는 열 수: 20개 \n",
    "- 20개 변수 제거 \n",
    "- 486개 변수 남음"
   ]
  },
  {
   "cell_type": "code",
   "execution_count": 198,
   "metadata": {},
   "outputs": [],
   "source": [
    "null_15 = []\n",
    "\n",
    "for i in null.index:\n",
    "    if null['전체비율'][i] > 15 :\n",
    "        null_15.append(i)"
   ]
  },
  {
   "cell_type": "code",
   "execution_count": 213,
   "metadata": {},
   "outputs": [
    {
     "data": {
      "text/plain": [
       "20"
      ]
     },
     "execution_count": 213,
     "metadata": {},
     "output_type": "execute_result"
    }
   ],
   "source": [
    "len(null_15)"
   ]
  },
  {
   "cell_type": "code",
   "execution_count": 199,
   "metadata": {},
   "outputs": [
    {
     "data": {
      "text/plain": [
       "['546',\n",
       " '547',\n",
       " '548',\n",
       " '549',\n",
       " '550',\n",
       " '551',\n",
       " '552',\n",
       " '553',\n",
       " '554',\n",
       " '555',\n",
       " '556',\n",
       " '557',\n",
       " '562',\n",
       " '563',\n",
       " '564',\n",
       " '565',\n",
       " '566',\n",
       " '567',\n",
       " '568',\n",
       " '569']"
      ]
     },
     "execution_count": 199,
     "metadata": {},
     "output_type": "execute_result"
    }
   ],
   "source": [
    "null_15"
   ]
  },
  {
   "cell_type": "code",
   "execution_count": 203,
   "metadata": {},
   "outputs": [
    {
     "data": {
      "text/html": [
       "<div>\n",
       "<style scoped>\n",
       "    .dataframe tbody tr th:only-of-type {\n",
       "        vertical-align: middle;\n",
       "    }\n",
       "\n",
       "    .dataframe tbody tr th {\n",
       "        vertical-align: top;\n",
       "    }\n",
       "\n",
       "    .dataframe thead th {\n",
       "        text-align: right;\n",
       "    }\n",
       "</style>\n",
       "<table border=\"1\" class=\"dataframe\">\n",
       "  <thead>\n",
       "    <tr style=\"text-align: right;\">\n",
       "      <th></th>\n",
       "      <th>546</th>\n",
       "      <th>547</th>\n",
       "      <th>548</th>\n",
       "      <th>549</th>\n",
       "      <th>550</th>\n",
       "      <th>551</th>\n",
       "      <th>552</th>\n",
       "      <th>553</th>\n",
       "      <th>554</th>\n",
       "      <th>555</th>\n",
       "      <th>556</th>\n",
       "      <th>557</th>\n",
       "    </tr>\n",
       "  </thead>\n",
       "  <tbody>\n",
       "    <tr>\n",
       "      <th>0</th>\n",
       "      <td>1.0616</td>\n",
       "      <td>395.570</td>\n",
       "      <td>75.752</td>\n",
       "      <td>0.4234</td>\n",
       "      <td>12.93</td>\n",
       "      <td>0.78</td>\n",
       "      <td>0.1827</td>\n",
       "      <td>5.7349</td>\n",
       "      <td>0.3363</td>\n",
       "      <td>39.8842</td>\n",
       "      <td>3.2687</td>\n",
       "      <td>1.0297</td>\n",
       "    </tr>\n",
       "    <tr>\n",
       "      <th>1</th>\n",
       "      <td>1.3526</td>\n",
       "      <td>408.798</td>\n",
       "      <td>74.640</td>\n",
       "      <td>0.7193</td>\n",
       "      <td>16.00</td>\n",
       "      <td>1.33</td>\n",
       "      <td>0.2829</td>\n",
       "      <td>7.1196</td>\n",
       "      <td>0.4989</td>\n",
       "      <td>53.1836</td>\n",
       "      <td>3.9139</td>\n",
       "      <td>1.7819</td>\n",
       "    </tr>\n",
       "    <tr>\n",
       "      <th>2</th>\n",
       "      <td>0.7942</td>\n",
       "      <td>411.136</td>\n",
       "      <td>74.654</td>\n",
       "      <td>0.1832</td>\n",
       "      <td>16.16</td>\n",
       "      <td>0.85</td>\n",
       "      <td>0.0857</td>\n",
       "      <td>7.1619</td>\n",
       "      <td>0.3752</td>\n",
       "      <td>23.0713</td>\n",
       "      <td>3.9306</td>\n",
       "      <td>1.1386</td>\n",
       "    </tr>\n",
       "    <tr>\n",
       "      <th>3</th>\n",
       "      <td>1.1650</td>\n",
       "      <td>372.822</td>\n",
       "      <td>72.442</td>\n",
       "      <td>1.8804</td>\n",
       "      <td>131.68</td>\n",
       "      <td>39.33</td>\n",
       "      <td>0.6812</td>\n",
       "      <td>56.9303</td>\n",
       "      <td>17.4781</td>\n",
       "      <td>161.4081</td>\n",
       "      <td>35.3198</td>\n",
       "      <td>54.2917</td>\n",
       "    </tr>\n",
       "    <tr>\n",
       "      <th>4</th>\n",
       "      <td>1.4636</td>\n",
       "      <td>399.914</td>\n",
       "      <td>79.156</td>\n",
       "      <td>1.0388</td>\n",
       "      <td>19.63</td>\n",
       "      <td>1.98</td>\n",
       "      <td>0.4287</td>\n",
       "      <td>9.7608</td>\n",
       "      <td>0.8311</td>\n",
       "      <td>70.9706</td>\n",
       "      <td>4.9086</td>\n",
       "      <td>2.5014</td>\n",
       "    </tr>\n",
       "  </tbody>\n",
       "</table>\n",
       "</div>"
      ],
      "text/plain": [
       "      546      547     548     549     550    551     552      553      554  \\\n",
       "0  1.0616  395.570  75.752  0.4234   12.93   0.78  0.1827   5.7349   0.3363   \n",
       "1  1.3526  408.798  74.640  0.7193   16.00   1.33  0.2829   7.1196   0.4989   \n",
       "2  0.7942  411.136  74.654  0.1832   16.16   0.85  0.0857   7.1619   0.3752   \n",
       "3  1.1650  372.822  72.442  1.8804  131.68  39.33  0.6812  56.9303  17.4781   \n",
       "4  1.4636  399.914  79.156  1.0388   19.63   1.98  0.4287   9.7608   0.8311   \n",
       "\n",
       "        555      556      557  \n",
       "0   39.8842   3.2687   1.0297  \n",
       "1   53.1836   3.9139   1.7819  \n",
       "2   23.0713   3.9306   1.1386  \n",
       "3  161.4081  35.3198  54.2917  \n",
       "4   70.9706   4.9086   2.5014  "
      ]
     },
     "execution_count": 203,
     "metadata": {},
     "output_type": "execute_result"
    }
   ],
   "source": [
    "(data_before.loc[:,\"546\":\"557\"]).head()\n",
    "# 범주형 변수 아님, 수치형 변수 "
   ]
  },
  {
   "cell_type": "code",
   "execution_count": 206,
   "metadata": {},
   "outputs": [
    {
     "data": {
      "text/html": [
       "<div>\n",
       "<style scoped>\n",
       "    .dataframe tbody tr th:only-of-type {\n",
       "        vertical-align: middle;\n",
       "    }\n",
       "\n",
       "    .dataframe tbody tr th {\n",
       "        vertical-align: top;\n",
       "    }\n",
       "\n",
       "    .dataframe thead th {\n",
       "        text-align: right;\n",
       "    }\n",
       "</style>\n",
       "<table border=\"1\" class=\"dataframe\">\n",
       "  <thead>\n",
       "    <tr style=\"text-align: right;\">\n",
       "      <th></th>\n",
       "      <th>562</th>\n",
       "      <th>563</th>\n",
       "      <th>564</th>\n",
       "      <th>565</th>\n",
       "      <th>566</th>\n",
       "      <th>567</th>\n",
       "      <th>568</th>\n",
       "      <th>569</th>\n",
       "    </tr>\n",
       "  </thead>\n",
       "  <tbody>\n",
       "    <tr>\n",
       "      <th>0</th>\n",
       "      <td>NaN</td>\n",
       "      <td>NaN</td>\n",
       "      <td>NaN</td>\n",
       "      <td>NaN</td>\n",
       "      <td>NaN</td>\n",
       "      <td>NaN</td>\n",
       "      <td>NaN</td>\n",
       "      <td>NaN</td>\n",
       "    </tr>\n",
       "    <tr>\n",
       "      <th>1</th>\n",
       "      <td>NaN</td>\n",
       "      <td>NaN</td>\n",
       "      <td>NaN</td>\n",
       "      <td>NaN</td>\n",
       "      <td>NaN</td>\n",
       "      <td>NaN</td>\n",
       "      <td>NaN</td>\n",
       "      <td>NaN</td>\n",
       "    </tr>\n",
       "    <tr>\n",
       "      <th>2</th>\n",
       "      <td>267.064</td>\n",
       "      <td>0.9032</td>\n",
       "      <td>1.10</td>\n",
       "      <td>0.6219</td>\n",
       "      <td>0.4122</td>\n",
       "      <td>0.2562</td>\n",
       "      <td>0.4119</td>\n",
       "      <td>68.8489</td>\n",
       "    </tr>\n",
       "    <tr>\n",
       "      <th>3</th>\n",
       "      <td>268.228</td>\n",
       "      <td>0.6511</td>\n",
       "      <td>7.32</td>\n",
       "      <td>0.1630</td>\n",
       "      <td>3.5611</td>\n",
       "      <td>0.0670</td>\n",
       "      <td>2.7290</td>\n",
       "      <td>25.0363</td>\n",
       "    </tr>\n",
       "    <tr>\n",
       "      <th>4</th>\n",
       "      <td>NaN</td>\n",
       "      <td>NaN</td>\n",
       "      <td>NaN</td>\n",
       "      <td>NaN</td>\n",
       "      <td>NaN</td>\n",
       "      <td>NaN</td>\n",
       "      <td>NaN</td>\n",
       "      <td>NaN</td>\n",
       "    </tr>\n",
       "  </tbody>\n",
       "</table>\n",
       "</div>"
      ],
      "text/plain": [
       "       562     563   564     565     566     567     568      569\n",
       "0      NaN     NaN   NaN     NaN     NaN     NaN     NaN      NaN\n",
       "1      NaN     NaN   NaN     NaN     NaN     NaN     NaN      NaN\n",
       "2  267.064  0.9032  1.10  0.6219  0.4122  0.2562  0.4119  68.8489\n",
       "3  268.228  0.6511  7.32  0.1630  3.5611  0.0670  2.7290  25.0363\n",
       "4      NaN     NaN   NaN     NaN     NaN     NaN     NaN      NaN"
      ]
     },
     "execution_count": 206,
     "metadata": {},
     "output_type": "execute_result"
    }
   ],
   "source": [
    "(data_before.loc[:,\"562\":\"569\"]).head()\n",
    "# 범주형 변수 아님, 수치형 변수 "
   ]
  },
  {
   "cell_type": "code",
   "execution_count": 209,
   "metadata": {},
   "outputs": [],
   "source": [
    "null = null.drop(null_15, axis=0)"
   ]
  },
  {
   "cell_type": "code",
   "execution_count": 200,
   "metadata": {},
   "outputs": [
    {
     "data": {
      "text/plain": [
       "Text(0.5, 1.0, '564 vs Pass/Fail')"
      ]
     },
     "execution_count": 200,
     "metadata": {},
     "output_type": "execute_result"
    },
    {
     "data": {
      "image/png": "[encoded data removed]",
      "text/plain": [
       "<Figure size 1440x1224 with 9 Axes>"
      ]
     },
     "metadata": {
      "needs_background": "light"
     },
     "output_type": "display_data"
    }
   ],
   "source": [
    "f, axes = plt.subplots(ncols=3, nrows=3, figsize=(20,17))\n",
    "\n",
    "sns.boxplot(x='Pass/Fail',y='546',data=data_before, ax=axes[0][0])\n",
    "axes[0][0].set_title('546 vs Pass/Fail')\n",
    "\n",
    "sns.boxplot(x='Pass/Fail',y='547',data=data_before, ax=axes[0][1])\n",
    "axes[0][1].set_title('547 vs Pass/Fail')\n",
    "\n",
    "sns.boxplot(x='Pass/Fail',y='548',data=data_before, ax=axes[0][2])\n",
    "axes[0][2].set_title('548 vs Pass/Fail')\n",
    "\n",
    "sns.boxplot(x='Pass/Fail',y='549',data=data_before, ax=axes[1][0])\n",
    "axes[1][0].set_title('549 vs Pass/Fail')\n",
    "\n",
    "sns.boxplot(x='Pass/Fail',y='550',data=data_before, ax=axes[1][1])\n",
    "axes[1][1].set_title('550 vs Pass/Fail')\n",
    "\n",
    "sns.boxplot(x='Pass/Fail',y='551',data=data_before, ax=axes[1][2])\n",
    "axes[1][2].set_title('551 vs Pass/Fail')\n",
    "\n",
    "sns.boxplot(x='Pass/Fail',y='552',data=data_before, ax=axes[2][0])\n",
    "axes[2][0].set_title('552 vs Pass/Fail')\n",
    "\n",
    "sns.boxplot(x='Pass/Fail',y='553',data=data_before, ax=axes[2][1])\n",
    "axes[2][1].set_title('553 vs Pass/Fail')\n",
    "\n",
    "sns.boxplot(x='Pass/Fail',y='564',data=data_before, ax=axes[2][2])\n",
    "axes[2][2].set_title('564 vs Pass/Fail')\n",
    "\n",
    "# Pass, Fail에 따른 값의 분포가 모든 변수에서 차이가 없음\n",
    "# 즉, Pass/Fail의 특성을 반영하지 못하는 변수임을 의미 \n",
    "# 15% 이상의 결측치를 가지는 변수 제거 \n",
    "# 이외의 변수들은 5% 이하의 결측치를 갖고, 수치형 변수이므로 median으로 결측치 처리 진행 "
   ]
  },
  {
   "cell_type": "markdown",
   "metadata": {},
   "source": [
    "## 전체 행의 15% 이상의 결측치를 갖는 변수 제거\n",
    "- 5% 이하의 결측치를 갖는 변수 excel로 확인 결과 모두 수치형 변수 \n",
    "- median으로 결측치 처리 진행"
   ]
  },
  {
   "cell_type": "code",
   "execution_count": 224,
   "metadata": {},
   "outputs": [],
   "source": [
    "# 총 590개의 열 존재\n",
    "# 40% 이상인 열 제거 : 32개 제거 -> 558개 변수 남음\n",
    "# 15% 이상인 열 제거 : 20개 제거 -> 538개 변수 남음 "
   ]
  },
  {
   "cell_type": "code",
   "execution_count": 221,
   "metadata": {},
   "outputs": [],
   "source": [
    "# data_before = data_before.drop(null_40, axis=1)"
   ]
  },
  {
   "cell_type": "code",
   "execution_count": 222,
   "metadata": {},
   "outputs": [],
   "source": [
    "data_before = data_before.drop(null_15, axis=1)"
   ]
  },
  {
   "cell_type": "code",
   "execution_count": 223,
   "metadata": {},
   "outputs": [
    {
     "name": "stdout",
     "output_type": "stream",
     "text": [
      "<class 'pandas.core.frame.DataFrame'>\n",
      "RangeIndex: 1567 entries, 0 to 1566\n",
      "Columns: 539 entries, 0 to Pass/Fail\n",
      "dtypes: float64(538), int64(1)\n",
      "memory usage: 6.4 MB\n"
     ]
    }
   ],
   "source": [
    "data_before.info()"
   ]
  },
  {
   "cell_type": "markdown",
   "metadata": {},
   "source": [
    "## 전체 행의 5% 이하의 null값을 가지는 열 대체 \n",
    "- 5% 이하의 결측치를 갖는 변수 excel로 확인 결과 모두 수치형 변수 \n",
    "- median으로 결측치 처리 진행"
   ]
  },
  {
   "cell_type": "code",
   "execution_count": 228,
   "metadata": {},
   "outputs": [],
   "source": [
    "data_before.replace(np.nan, data_before.median(), inplace=True)"
   ]
  },
  {
   "cell_type": "code",
   "execution_count": 229,
   "metadata": {},
   "outputs": [
    {
     "data": {
      "text/plain": [
       "False"
      ]
     },
     "execution_count": 229,
     "metadata": {},
     "output_type": "execute_result"
    }
   ],
   "source": [
    "data_before.isnull().any().any()"
   ]
  },
  {
   "cell_type": "markdown",
   "metadata": {},
   "source": [
    "# 행의 값이 모두 같은 열 제거 \n",
    "- 의미없는 행이라고 판단. 제거 진행 \n",
    "- 행의 값이 1개로 같은 경우 모두 제거: 107개 열 제거 -> 431개 변수 남음\n",
    "- 행의 값이 2개인 경우 어떻게 처리해야할지 고민 "
   ]
  },
  {
   "cell_type": "code",
   "execution_count": 281,
   "metadata": {},
   "outputs": [
    {
     "name": "stdout",
     "output_type": "stream",
     "text": [
      "5\n",
      "[100.]\n",
      "13\n",
      "[0.]\n",
      "42\n",
      "[70.]\n",
      "49\n",
      "[1.]\n",
      "52\n",
      "[0.         0.15185354]\n",
      "69\n",
      "[1.]\n",
      "74\n",
      "[0.     4.1955]\n",
      "97\n",
      "[0.         0.52238806]\n",
      "141\n",
      "[0.]\n",
      "149\n",
      "[0.]\n",
      "178\n",
      "[0.         0.13513514]\n",
      "179\n",
      "[0.]\n",
      "186\n",
      "[0.]\n",
      "189\n",
      "[0.]\n",
      "190\n",
      "[0.]\n",
      "191\n",
      "[0.]\n",
      "192\n",
      "[0.]\n",
      "193\n",
      "[0.]\n",
      "194\n",
      "[0.]\n",
      "206\n",
      "[0. 2.]\n",
      "209\n",
      "[ 0.   46.15]\n",
      "226\n",
      "[0.]\n",
      "229\n",
      "[0.]\n",
      "230\n",
      "[0.]\n",
      "231\n",
      "[0.         0.36607371]\n",
      "232\n",
      "[0.]\n",
      "233\n",
      "[0.]\n",
      "234\n",
      "[0.        0.0428513]\n",
      "235\n",
      "[0.]\n",
      "236\n",
      "[0.]\n",
      "237\n",
      "[0.]\n",
      "240\n",
      "[0.]\n",
      "241\n",
      "[0.         0.01840445]\n",
      "242\n",
      "[0.]\n",
      "243\n",
      "[0.         0.01301986]\n",
      "256\n",
      "[0.]\n",
      "257\n",
      "[0.]\n",
      "258\n",
      "[0.]\n",
      "259\n",
      "[0.]\n",
      "260\n",
      "[0.]\n",
      "261\n",
      "[0.]\n",
      "262\n",
      "[0.]\n",
      "263\n",
      "[0.]\n",
      "264\n",
      "[0.]\n",
      "265\n",
      "[0.]\n",
      "266\n",
      "[0.]\n",
      "276\n",
      "[0.]\n",
      "284\n",
      "[0.]\n",
      "313\n",
      "[0.]\n",
      "314\n",
      "[0.]\n",
      "315\n",
      "[0.]\n",
      "322\n",
      "[0.]\n",
      "325\n",
      "[0.]\n",
      "326\n",
      "[0.]\n",
      "327\n",
      "[0.]\n",
      "328\n",
      "[0.]\n",
      "329\n",
      "[0.         0.01233779]\n",
      "330\n",
      "[0.]\n",
      "342\n",
      "[0.     0.4472]\n",
      "347\n",
      "[ 0.     13.9147]\n",
      "364\n",
      "[0.]\n",
      "369\n",
      "[0.]\n",
      "370\n",
      "[0.]\n",
      "371\n",
      "[0.]\n",
      "372\n",
      "[0.]\n",
      "373\n",
      "[0.         0.15123859]\n",
      "374\n",
      "[0.]\n",
      "375\n",
      "[0.]\n",
      "378\n",
      "[0.]\n",
      "379\n",
      "[0.]\n",
      "380\n",
      "[0.]\n",
      "381\n",
      "[0.]\n",
      "394\n",
      "[0.]\n",
      "395\n",
      "[0.]\n",
      "396\n",
      "[0.]\n",
      "397\n",
      "[0.]\n",
      "398\n",
      "[0.]\n",
      "399\n",
      "[0.]\n",
      "400\n",
      "[0.]\n",
      "401\n",
      "[0.]\n",
      "402\n",
      "[0.]\n",
      "403\n",
      "[0.]\n",
      "404\n",
      "[0.]\n",
      "414\n",
      "[0.]\n",
      "422\n",
      "[0.]\n",
      "449\n",
      "[0.]\n",
      "450\n",
      "[0.]\n",
      "451\n",
      "[0.]\n",
      "458\n",
      "[0.]\n",
      "461\n",
      "[0.]\n",
      "462\n",
      "[0.]\n",
      "463\n",
      "[0.]\n",
      "464\n",
      "[0.]\n",
      "465\n",
      "[0.]\n",
      "466\n",
      "[0.]\n",
      "478\n",
      "[  0. 200.]\n",
      "481\n",
      "[0.]\n",
      "498\n",
      "[0.]\n",
      "501\n",
      "[0.]\n",
      "502\n",
      "[0.]\n",
      "503\n",
      "[0.]\n",
      "504\n",
      "[0.]\n",
      "505\n",
      "[0.]\n",
      "506\n",
      "[0.]\n",
      "507\n",
      "[0.]\n",
      "508\n",
      "[0.]\n",
      "509\n",
      "[0.]\n",
      "512\n",
      "[0.]\n",
      "513\n",
      "[0.]\n",
      "514\n",
      "[0.]\n",
      "515\n",
      "[0.]\n",
      "521\n",
      "[   0.     1000.      907.91    776.2169  158.2158  604.2009  718.604\n",
      "  553.2097  474.6376]\n",
      "528\n",
      "[0.]\n",
      "529\n",
      "[0.]\n",
      "530\n",
      "[0.]\n",
      "531\n",
      "[0.]\n",
      "532\n",
      "[0.]\n",
      "533\n",
      "[0.]\n",
      "534\n",
      "[0.]\n",
      "535\n",
      "[0.]\n",
      "536\n",
      "[0.]\n",
      "537\n",
      "[0.]\n",
      "538\n",
      "[0.]\n",
      "Pass/Fail\n",
      "[-1  1]\n"
     ]
    }
   ],
   "source": [
    "for i in data_before.columns:\n",
    "    tmp =  data_before[i].unique() # data[i].unique()\n",
    "    if len(tmp) < 10 :\n",
    "        print(i)\n",
    "        print(tmp)"
   ]
  },
  {
   "cell_type": "code",
   "execution_count": 287,
   "metadata": {},
   "outputs": [
    {
     "name": "stdout",
     "output_type": "stream",
     "text": [
      "52\n",
      "[0.         0.15185354]\n",
      "74\n",
      "[0.     4.1955]\n",
      "97\n",
      "[0.         0.52238806]\n",
      "178\n",
      "[0.         0.13513514]\n",
      "206\n",
      "[0. 2.]\n",
      "209\n",
      "[ 0.   46.15]\n",
      "231\n",
      "[0.         0.36607371]\n",
      "234\n",
      "[0.        0.0428513]\n",
      "241\n",
      "[0.         0.01840445]\n",
      "243\n",
      "[0.         0.01301986]\n",
      "329\n",
      "[0.         0.01233779]\n",
      "342\n",
      "[0.     0.4472]\n",
      "347\n",
      "[ 0.     13.9147]\n",
      "373\n",
      "[0.         0.15123859]\n",
      "478\n",
      "[  0. 200.]\n",
      "Pass/Fail\n",
      "[-1  1]\n"
     ]
    }
   ],
   "source": [
    "# 변수의 값이 두개인 열 15개 존재 \n",
    "columns_have_2 = []\n",
    "for i in data_before.columns:\n",
    "    tmp =  data_before[i].unique() # data[i].unique()\n",
    "    if len(tmp) == 2:\n",
    "        print(i)\n",
    "        print(tmp)\n",
    "        columns_have_2.append(i)"
   ]
  },
  {
   "cell_type": "code",
   "execution_count": 290,
   "metadata": {},
   "outputs": [],
   "source": [
    "columns_have_2.remove('Pass/Fail')"
   ]
  },
  {
   "cell_type": "code",
   "execution_count": 291,
   "metadata": {},
   "outputs": [
    {
     "data": {
      "text/plain": [
       "['52',\n",
       " '74',\n",
       " '97',\n",
       " '178',\n",
       " '206',\n",
       " '209',\n",
       " '231',\n",
       " '234',\n",
       " '241',\n",
       " '243',\n",
       " '329',\n",
       " '342',\n",
       " '347',\n",
       " '373',\n",
       " '478']"
      ]
     },
     "execution_count": 291,
     "metadata": {},
     "output_type": "execute_result"
    }
   ],
   "source": [
    "columns_have_2"
   ]
  },
  {
   "cell_type": "code",
   "execution_count": 276,
   "metadata": {},
   "outputs": [
    {
     "name": "stdout",
     "output_type": "stream",
     "text": [
      "5\n",
      "[100.]\n",
      "13\n",
      "[0.]\n",
      "42\n",
      "[70.]\n",
      "49\n",
      "[1.]\n",
      "69\n",
      "[1.]\n",
      "141\n",
      "[0.]\n",
      "149\n",
      "[0.]\n",
      "179\n",
      "[0.]\n",
      "186\n",
      "[0.]\n",
      "189\n",
      "[0.]\n",
      "190\n",
      "[0.]\n",
      "191\n",
      "[0.]\n",
      "192\n",
      "[0.]\n",
      "193\n",
      "[0.]\n",
      "194\n",
      "[0.]\n",
      "226\n",
      "[0.]\n",
      "229\n",
      "[0.]\n",
      "230\n",
      "[0.]\n",
      "232\n",
      "[0.]\n",
      "233\n",
      "[0.]\n",
      "235\n",
      "[0.]\n",
      "236\n",
      "[0.]\n",
      "237\n",
      "[0.]\n",
      "240\n",
      "[0.]\n",
      "242\n",
      "[0.]\n",
      "256\n",
      "[0.]\n",
      "257\n",
      "[0.]\n",
      "258\n",
      "[0.]\n",
      "259\n",
      "[0.]\n",
      "260\n",
      "[0.]\n",
      "261\n",
      "[0.]\n",
      "262\n",
      "[0.]\n",
      "263\n",
      "[0.]\n",
      "264\n",
      "[0.]\n",
      "265\n",
      "[0.]\n",
      "266\n",
      "[0.]\n",
      "276\n",
      "[0.]\n",
      "284\n",
      "[0.]\n",
      "313\n",
      "[0.]\n",
      "314\n",
      "[0.]\n",
      "315\n",
      "[0.]\n",
      "322\n",
      "[0.]\n",
      "325\n",
      "[0.]\n",
      "326\n",
      "[0.]\n",
      "327\n",
      "[0.]\n",
      "328\n",
      "[0.]\n",
      "330\n",
      "[0.]\n",
      "364\n",
      "[0.]\n",
      "369\n",
      "[0.]\n",
      "370\n",
      "[0.]\n",
      "371\n",
      "[0.]\n",
      "372\n",
      "[0.]\n",
      "374\n",
      "[0.]\n",
      "375\n",
      "[0.]\n",
      "378\n",
      "[0.]\n",
      "379\n",
      "[0.]\n",
      "380\n",
      "[0.]\n",
      "381\n",
      "[0.]\n",
      "394\n",
      "[0.]\n",
      "395\n",
      "[0.]\n",
      "396\n",
      "[0.]\n",
      "397\n",
      "[0.]\n",
      "398\n",
      "[0.]\n",
      "399\n",
      "[0.]\n",
      "400\n",
      "[0.]\n",
      "401\n",
      "[0.]\n",
      "402\n",
      "[0.]\n",
      "403\n",
      "[0.]\n",
      "404\n",
      "[0.]\n",
      "414\n",
      "[0.]\n",
      "422\n",
      "[0.]\n",
      "449\n",
      "[0.]\n",
      "450\n",
      "[0.]\n",
      "451\n",
      "[0.]\n",
      "458\n",
      "[0.]\n",
      "461\n",
      "[0.]\n",
      "462\n",
      "[0.]\n",
      "463\n",
      "[0.]\n",
      "464\n",
      "[0.]\n",
      "465\n",
      "[0.]\n",
      "466\n",
      "[0.]\n",
      "481\n",
      "[0.]\n",
      "498\n",
      "[0.]\n",
      "501\n",
      "[0.]\n",
      "502\n",
      "[0.]\n",
      "503\n",
      "[0.]\n",
      "504\n",
      "[0.]\n",
      "505\n",
      "[0.]\n",
      "506\n",
      "[0.]\n",
      "507\n",
      "[0.]\n",
      "508\n",
      "[0.]\n",
      "509\n",
      "[0.]\n",
      "512\n",
      "[0.]\n",
      "513\n",
      "[0.]\n",
      "514\n",
      "[0.]\n",
      "515\n",
      "[0.]\n",
      "528\n",
      "[0.]\n",
      "529\n",
      "[0.]\n",
      "530\n",
      "[0.]\n",
      "531\n",
      "[0.]\n",
      "532\n",
      "[0.]\n",
      "533\n",
      "[0.]\n",
      "534\n",
      "[0.]\n",
      "535\n",
      "[0.]\n",
      "536\n",
      "[0.]\n",
      "537\n",
      "[0.]\n",
      "538\n",
      "[0.]\n"
     ]
    }
   ],
   "source": [
    "unique_columns = []\n",
    "for i in data_before.columns:\n",
    "    tmp =  data_before[i].unique() # data[i].unique()\n",
    "    if len(tmp) < 2:\n",
    "        print(i)\n",
    "        print(tmp)\n",
    "        unique_columns.append(i)"
   ]
  },
  {
   "cell_type": "code",
   "execution_count": 277,
   "metadata": {},
   "outputs": [
    {
     "data": {
      "text/plain": [
       "['5',\n",
       " '13',\n",
       " '42',\n",
       " '49',\n",
       " '69',\n",
       " '141',\n",
       " '149',\n",
       " '179',\n",
       " '186',\n",
       " '189',\n",
       " '190',\n",
       " '191',\n",
       " '192',\n",
       " '193',\n",
       " '194',\n",
       " '226',\n",
       " '229',\n",
       " '230',\n",
       " '232',\n",
       " '233',\n",
       " '235',\n",
       " '236',\n",
       " '237',\n",
       " '240',\n",
       " '242',\n",
       " '256',\n",
       " '257',\n",
       " '258',\n",
       " '259',\n",
       " '260',\n",
       " '261',\n",
       " '262',\n",
       " '263',\n",
       " '264',\n",
       " '265',\n",
       " '266',\n",
       " '276',\n",
       " '284',\n",
       " '313',\n",
       " '314',\n",
       " '315',\n",
       " '322',\n",
       " '325',\n",
       " '326',\n",
       " '327',\n",
       " '328',\n",
       " '330',\n",
       " '364',\n",
       " '369',\n",
       " '370',\n",
       " '371',\n",
       " '372',\n",
       " '374',\n",
       " '375',\n",
       " '378',\n",
       " '379',\n",
       " '380',\n",
       " '381',\n",
       " '394',\n",
       " '395',\n",
       " '396',\n",
       " '397',\n",
       " '398',\n",
       " '399',\n",
       " '400',\n",
       " '401',\n",
       " '402',\n",
       " '403',\n",
       " '404',\n",
       " '414',\n",
       " '422',\n",
       " '449',\n",
       " '450',\n",
       " '451',\n",
       " '458',\n",
       " '461',\n",
       " '462',\n",
       " '463',\n",
       " '464',\n",
       " '465',\n",
       " '466',\n",
       " '481',\n",
       " '498',\n",
       " '501',\n",
       " '502',\n",
       " '503',\n",
       " '504',\n",
       " '505',\n",
       " '506',\n",
       " '507',\n",
       " '508',\n",
       " '509',\n",
       " '512',\n",
       " '513',\n",
       " '514',\n",
       " '515',\n",
       " '528',\n",
       " '529',\n",
       " '530',\n",
       " '531',\n",
       " '532',\n",
       " '533',\n",
       " '534',\n",
       " '535',\n",
       " '536',\n",
       " '537',\n",
       " '538']"
      ]
     },
     "execution_count": 277,
     "metadata": {},
     "output_type": "execute_result"
    }
   ],
   "source": [
    "unique_columns"
   ]
  },
  {
   "cell_type": "code",
   "execution_count": 278,
   "metadata": {},
   "outputs": [
    {
     "data": {
      "text/plain": [
       "107"
      ]
     },
     "execution_count": 278,
     "metadata": {},
     "output_type": "execute_result"
    }
   ],
   "source": [
    "len(unique_columns)"
   ]
  },
  {
   "cell_type": "code",
   "execution_count": 284,
   "metadata": {},
   "outputs": [],
   "source": [
    "data_before = data_before.drop(unique_columns, axis=1)"
   ]
  },
  {
   "cell_type": "code",
   "execution_count": 286,
   "metadata": {},
   "outputs": [
    {
     "name": "stdout",
     "output_type": "stream",
     "text": [
      "<class 'pandas.core.frame.DataFrame'>\n",
      "RangeIndex: 1567 entries, 0 to 1566\n",
      "Columns: 432 entries, 0 to Pass/Fail\n",
      "dtypes: float64(431), int64(1)\n",
      "memory usage: 5.2 MB\n"
     ]
    }
   ],
   "source": [
    "data_before.info()"
   ]
  },
  {
   "cell_type": "code",
   "execution_count": 292,
   "metadata": {},
   "outputs": [],
   "source": [
    "data_before.to_csv('data_before.csv')"
   ]
  },
  {
   "cell_type": "code",
   "execution_count": 1,
   "metadata": {},
   "outputs": [],
   "source": [
    "import pandas as pd\n",
    "import numpy as np\n",
    "\n",
    "data = pd.read_csv('data_before.csv')"
   ]
  },
  {
   "cell_type": "code",
   "execution_count": 4,
   "metadata": {},
   "outputs": [],
   "source": [
    "data = data.drop('Unnamed: 0', axis=1)"
   ]
  },
  {
   "cell_type": "code",
   "execution_count": 5,
   "metadata": {},
   "outputs": [
    {
     "name": "stdout",
     "output_type": "stream",
     "text": [
      "<class 'pandas.core.frame.DataFrame'>\n",
      "RangeIndex: 1567 entries, 0 to 1566\n",
      "Columns: 432 entries, 0 to Pass/Fail\n",
      "dtypes: float64(431), int64(1)\n",
      "memory usage: 5.2 MB\n"
     ]
    }
   ],
   "source": [
    "data.info()"
   ]
  },
  {
   "cell_type": "markdown",
   "metadata": {},
   "source": [
    "# 스케일링"
   ]
  },
  {
   "cell_type": "code",
   "execution_count": 56,
   "metadata": {},
   "outputs": [
    {
     "data": {
      "text/plain": [
       "Text(0.5, 1.0, '129 vs Pass/Fail')"
      ]
     },
     "execution_count": 56,
     "metadata": {},
     "output_type": "execute_result"
    },
    {
     "data": {
      "image/png": "[encoded data removed]",
      "text/plain": [
       "<Figure size 1440x1224 with 9 Axes>"
      ]
     },
     "metadata": {
      "needs_background": "light"
     },
     "output_type": "display_data"
    }
   ],
   "source": [
    "f, axes = plt.subplots(ncols=3, nrows=3, figsize=(20,17))\n",
    "\n",
    "sns.boxplot(x='Pass/Fail',y='52',data=data, ax=axes[0][0])\n",
    "axes[0][0].set_title('52 vs Pass/Fail')\n",
    "\n",
    "sns.boxplot(x='Pass/Fail',y='81',data=data, ax=axes[0][1])\n",
    "axes[0][1].set_title('81 vs Pass/Fail')\n",
    "\n",
    "sns.boxplot(x='Pass/Fail',y='293',data=data, ax=axes[0][2])\n",
    "axes[0][2].set_title('293 vs Pass/Fail')\n",
    "\n",
    "sns.boxplot(x='Pass/Fail',y='19',data=data, ax=axes[1][0])\n",
    "axes[1][0].set_title('19 vs Pass/Fail')\n",
    "\n",
    "sns.boxplot(x='Pass/Fail',y='102',data=data, ax=axes[1][1])\n",
    "axes[1][1].set_title('102 vs Pass/Fail')\n",
    "\n",
    "sns.boxplot(x='Pass/Fail',y='213',data=data, ax=axes[1][2])\n",
    "axes[1][2].set_title('213 vs Pass/Fail')\n",
    "\n",
    "sns.boxplot(x='Pass/Fail',y='132',data=data, ax=axes[2][0])\n",
    "axes[2][0].set_title('132 vs Pass/Fail')\n",
    "\n",
    "sns.boxplot(x='Pass/Fail',y='97',data=data, ax=axes[2][1])\n",
    "axes[2][1].set_title('97 vs Pass/Fail')\n",
    "\n",
    "sns.boxplot(x='Pass/Fail',y='129',data=data, ax=axes[2][2])\n",
    "axes[2][2].set_title('129 vs Pass/Fail')"
   ]
  },
  {
   "cell_type": "code",
   "execution_count": 48,
   "metadata": {},
   "outputs": [],
   "source": [
    "# Pass=-1, Fail=+1"
   ]
  },
  {
   "cell_type": "code",
   "execution_count": 49,
   "metadata": {},
   "outputs": [],
   "source": [
    "# Class가 Pass일 때의 이상치 탐지 \n",
    "def remove_outlier(data, column):\n",
    "    target_column_data = data[data[\"Pass/Fail\"]==-1][column]\n",
    "    quan_25 = np.percentile(target_column_data, values, 25)\n",
    "    quan_75 = np.percentile(target_column_data, values, 75)\n",
    "    \n",
    "    iqr = quan_75 - quan_25\n",
    "    iqr = iqr*1.5\n",
    "    lowest = quan_25 - iqr\n",
    "    highest = quan_75 + iqr\n",
    "    outlier_index = target_column_data[(target_column_data <lowest) | (target_column_data > highest)].index\n",
    "    print(outlier_index)\n",
    "    return data"
   ]
  },
  {
   "cell_type": "code",
   "execution_count": 50,
   "metadata": {},
   "outputs": [],
   "source": [
    "data_copy = data.copy()"
   ]
  },
  {
   "cell_type": "code",
   "execution_count": null,
   "metadata": {},
   "outputs": [],
   "source": [
    "remove_outlier(data_copy, )"
   ]
  },
  {
   "cell_type": "markdown",
   "metadata": {},
   "source": [
    "# XGBClassifier\n",
    "- 모델이 무겁고 시간이 오래 걸리므로 보통은 hyperparameter 튜닝을 적게 진행함 "
   ]
  },
  {
   "cell_type": "code",
   "execution_count": 19,
   "metadata": {},
   "outputs": [],
   "source": [
    "from xgboost import plot_importance\n",
    "from xgboost import XGBClassifier"
   ]
  },
  {
   "cell_type": "code",
   "execution_count": 21,
   "metadata": {},
   "outputs": [],
   "source": [
    "X = df.iloc[:,:-1]\n",
    "y = df.iloc[:,-1]"
   ]
  },
  {
   "cell_type": "code",
   "execution_count": 23,
   "metadata": {},
   "outputs": [
    {
     "data": {
      "text/plain": [
       "-1    1435\n",
       " 1      95\n",
       "Name: Pass/Fail, dtype: int64"
      ]
     },
     "execution_count": 23,
     "metadata": {},
     "output_type": "execute_result"
    }
   ],
   "source": [
    "df['Pass/Fail'].value_counts()"
   ]
  },
  {
   "cell_type": "code",
   "execution_count": 24,
   "metadata": {},
   "outputs": [
    {
     "name": "stdout",
     "output_type": "stream",
     "text": [
      "random_state= 1    auc_test = 0.7738859343480653\n",
      "\n",
      "random_state= 2    auc_test = 0.818815331010453\n",
      "\n",
      "random_state= 3    auc_test = 0.7826884283880433\n",
      "\n",
      "random_state= 4    auc_test = 0.8745644599303135\n",
      "\n",
      "random_state= 5    auc_test = 0.7672840638180818\n",
      "\n",
      "random_state= 6    auc_test = 0.7388593434806529\n",
      "\n",
      "random_state= 7    auc_test = 0.7874564459930313\n",
      "\n",
      "random_state= 8    auc_test = 0.6611039794608473\n",
      "\n",
      "random_state= 9    auc_test = 0.7850724371905373\n",
      "\n",
      "random_state= 10    auc_test = 0.737208875848157\n",
      "\n",
      "random_state= 11    auc_test = 0.7150192554557124\n",
      "\n",
      "random_state= 12    auc_test = 0.8200990280579498\n",
      "\n",
      "random_state= 13    auc_test = 0.770401613790574\n",
      "\n",
      "random_state= 14    auc_test = 0.7403264258206491\n",
      "\n",
      "random_state= 15    auc_test = 0.814780854575463\n",
      "\n",
      "random_state= 16    auc_test = 0.852374839537869\n",
      "\n",
      "random_state= 17    auc_test = 0.768384375573079\n",
      "\n",
      "random_state= 18    auc_test = 0.7753530166880616\n",
      "\n",
      "random_state= 19    auc_test = 0.7828718136805428\n",
      "\n",
      "random_state= 20    auc_test = 0.7401430405281496\n",
      "\n",
      "random_state= 21    auc_test = 0.7792041078305519\n",
      "\n",
      "random_state= 22    auc_test = 0.8846506510177884\n",
      "\n",
      "random_state= 23    auc_test = 0.7861727489455346\n",
      "\n",
      "random_state= 24    auc_test = 0.7671006785255823\n",
      "\n",
      "random_state= 25    auc_test = 0.6788923528333028\n",
      "\n",
      "random_state= 26    auc_test = 0.8219328809829451\n",
      "\n",
      "random_state= 27    auc_test = 0.8134971575279663\n",
      "\n",
      "random_state= 28    auc_test = 0.6926462497707683\n",
      "\n",
      "random_state= 29    auc_test = 0.8160645516229598\n",
      "\n",
      "random_state= 30    auc_test = 0.7836053548505411\n",
      "\n",
      "random_state= 31    auc_test = 0.8081789840454796\n",
      "\n",
      "random_state= 32    auc_test = 0.7645332844305887\n",
      "\n",
      "random_state= 33    auc_test = 0.8228498074454429\n",
      "\n",
      "random_state= 34    auc_test = 0.7465615257656336\n",
      "\n",
      "random_state= 35    auc_test = 0.772785622593068\n",
      "\n",
      "random_state= 36    auc_test = 0.8138639281129654\n",
      "\n",
      "random_state= 37    auc_test = 0.8175316339629561\n",
      "\n",
      "random_state= 38    auc_test = 0.7726022373005685\n",
      "\n",
      "random_state= 39    auc_test = 0.7852558224830368\n",
      "\n",
      "random_state= 40    auc_test = 0.7141023289932147\n",
      "\n",
      "random_state= 41    auc_test = 0.7078672290482303\n",
      "\n",
      "random_state= 42    auc_test = 0.7329910141206675\n",
      "\n",
      "random_state= 43    auc_test = 0.7966257106180085\n",
      "\n",
      "random_state= 44    auc_test = 0.772785622593068\n",
      "\n",
      "random_state= 45    auc_test = 0.7960755547405098\n",
      "\n",
      "random_state= 46    auc_test = 0.805611589950486\n",
      "\n",
      "random_state= 47    auc_test = 0.8432055749128919\n",
      "\n",
      "random_state= 48    auc_test = 0.7309737759031726\n",
      "\n",
      "random_state= 49    auc_test = 0.7979094076655052\n",
      "\n",
      "random_state= 50    auc_test = 0.7560975609756097\n",
      "\n",
      "random_state= 51    auc_test = 0.7661837520630845\n",
      "\n",
      "random_state= 52    auc_test = 0.7858059783605355\n",
      "\n",
      "random_state= 53    auc_test = 0.7021822849807446\n",
      "\n",
      "random_state= 54    auc_test = 0.72400513478819\n",
      "\n",
      "random_state= 55    auc_test = 0.737575646433156\n",
      "\n",
      "random_state= 56    auc_test = 0.7902072253805246\n",
      "\n",
      "random_state= 57    auc_test = 0.7472950669356319\n",
      "\n",
      "random_state= 58    auc_test = 0.8395378690629012\n",
      "\n",
      "random_state= 59    auc_test = 0.7997432605905006\n",
      "\n",
      "random_state= 60    auc_test = 0.7190537318907024\n",
      "\n",
      "random_state= 61    auc_test = 0.8028608105629929\n",
      "\n",
      "random_state= 62    auc_test = 0.7441775169631395\n",
      "\n",
      "random_state= 63    auc_test = 0.8133137722354667\n",
      "\n",
      "random_state= 64    auc_test = 0.7803044195855493\n",
      "\n",
      "random_state= 65    auc_test = 0.8034109664404915\n",
      "\n",
      "random_state= 66    auc_test = 0.796809095910508\n",
      "\n",
      "random_state= 67    auc_test = 0.7957087841555107\n",
      "\n",
      "random_state= 68    auc_test = 0.8615441041628461\n",
      "\n",
      "random_state= 69    auc_test = 0.7108013937282229\n",
      "\n",
      "random_state= 70    auc_test = 0.757197872730607\n",
      "\n",
      "random_state= 71    auc_test = 0.8127636163579681\n",
      "\n",
      "random_state= 72    auc_test = 0.8195488721804511\n",
      "\n",
      "random_state= 73    auc_test = 0.7496790757381258\n",
      "\n",
      "random_state= 74    auc_test = 0.858059783605355\n",
      "\n",
      "random_state= 75    auc_test = 0.7553640198056115\n",
      "\n",
      "random_state= 76    auc_test = 0.7762699431505593\n",
      "\n",
      "random_state= 77    auc_test = 0.634329726755914\n",
      "\n",
      "random_state= 78    auc_test = 0.7483953786906291\n",
      "\n",
      "random_state= 79    auc_test = 0.8382541720154043\n",
      "\n",
      "random_state= 80    auc_test = 0.741976893453145\n",
      "\n",
      "random_state= 81    auc_test = 0.7542637080506144\n",
      "\n",
      "random_state= 82    auc_test = 0.7654502108930863\n",
      "\n",
      "random_state= 83    auc_test = 0.8142306986979644\n",
      "\n",
      "random_state= 84    auc_test = 0.8413717219878966\n",
      "\n",
      "random_state= 85    auc_test = 0.7995598752980011\n",
      "\n",
      "random_state= 86    auc_test = 0.8046946634879882\n",
      "\n",
      "random_state= 87    auc_test = 0.812396845772969\n",
      "\n",
      "random_state= 88    auc_test = 0.8312855309004218\n",
      "\n",
      "random_state= 89    auc_test = 0.7990097194205025\n",
      "\n",
      "random_state= 90    auc_test = 0.7377590317256556\n",
      "\n",
      "random_state= 91    auc_test = 0.8289015220979277\n",
      "\n",
      "random_state= 92    auc_test = 0.7214377406931964\n",
      "\n",
      "random_state= 93    auc_test = 0.5947185035760132\n",
      "\n",
      "random_state= 94    auc_test = 0.8345864661654135\n",
      "\n",
      "random_state= 95    auc_test = 0.7942417018155143\n",
      "\n",
      "random_state= 96    auc_test = 0.7568311021456079\n",
      "\n",
      "random_state= 97    auc_test = 0.8393544837704017\n",
      "\n",
      "random_state= 98    auc_test = 0.8048780487804879\n",
      "\n",
      "random_state= 99    auc_test = 0.7680176049880799\n",
      "\n",
      "random_state= 100    auc_test = 0.7535301668806161\n",
      "\n",
      "평균 =  0.7775774802860812\n"
     ]
    }
   ],
   "source": [
    "from sklearn.model_selection import train_test_split\n",
    "from sklearn.linear_model import LogisticRegression\n",
    "from sklearn.metrics import roc_auc_score\n",
    "from sklearn.preprocessing import MinMaxScaler\n",
    "\n",
    "random_state = []\n",
    "\n",
    "for j in range(1,101): \n",
    "    random_state.append(j)\n",
    "ai = []\n",
    "for rand in random_state:\n",
    "  X_train,X_test,y_train,y_test=train_test_split(X,y,test_size=0.2,random_state= rand,stratify=y)\n",
    "  xgb_clf = XGBClassifier(n_estimators=500, learning_rate = 0.1, max_depth= 4)\n",
    "  xgb_clf.fit(X_train, y_train)\n",
    "  pred_proba_1 = xgb_clf.predict_proba(X_test)[:,1]\n",
    "  auc_test = roc_auc_score(y_test, pred_proba_1)\n",
    "  print('random_state=', rand,'  ' ,'auc_test =', auc_test)\n",
    "  print('')\n",
    "  ai.append(auc_test)\n",
    "print(\"평균 = \", np.mean(ai))"
   ]
  },
  {
   "cell_type": "code",
   "execution_count": 25,
   "metadata": {},
   "outputs": [
    {
     "name": "stdout",
     "output_type": "stream",
     "text": [
      "random_state= 1    auc_test = 0.7802697870957256\n",
      "\n",
      "random_state= 2    auc_test = 0.7872582480091013\n",
      "\n",
      "random_state= 3    auc_test = 0.7258248009101251\n",
      "\n",
      "random_state= 4    auc_test = 0.7617422395579392\n",
      "\n",
      "random_state= 5    auc_test = 0.6697545912562977\n",
      "\n",
      "random_state= 6    auc_test = 0.758654314968308\n",
      "\n",
      "random_state= 7    auc_test = 0.7687307004713149\n",
      "\n",
      "random_state= 8    auc_test = 0.7290752478465788\n",
      "\n",
      "random_state= 9    auc_test = 0.7159109377539411\n",
      "\n",
      "random_state= 10    auc_test = 0.7146107589793597\n",
      "\n",
      "random_state= 11    auc_test = 0.7646676418007476\n",
      "\n",
      "random_state= 12    auc_test = 0.7645051194539249\n",
      "\n",
      "random_state= 13    auc_test = 0.7729562814887047\n",
      "\n",
      "random_state= 14    auc_test = 0.7651552088412157\n",
      "\n",
      "random_state= 15    auc_test = 0.7778319518933854\n",
      "\n",
      "random_state= 16    auc_test = 0.7497155858930603\n",
      "\n",
      "random_state= 17    auc_test = 0.7188363399967495\n",
      "\n",
      "random_state= 18    auc_test = 0.8158621810498943\n",
      "\n",
      "random_state= 19    auc_test = 0.7357386640663091\n",
      "\n",
      "random_state= 20    auc_test = 0.7731188038355273\n",
      "\n",
      "random_state= 21    auc_test = 0.7474402730375427\n",
      "\n",
      "random_state= 22    auc_test = 0.7723061921014138\n",
      "\n",
      "random_state= 23    auc_test = 0.7243620997887209\n",
      "\n",
      "random_state= 24    auc_test = 0.8116366000325045\n",
      "\n",
      "random_state= 25    auc_test = 0.7653177311880384\n",
      "\n",
      "random_state= 26    auc_test = 0.7224118316268486\n",
      "\n",
      "random_state= 27    auc_test = 0.7893710385177962\n",
      "\n",
      "random_state= 28    auc_test = 0.7006338371526085\n",
      "\n",
      "random_state= 29    auc_test = 0.6445636274987812\n",
      "\n",
      "random_state= 30    auc_test = 0.752966032829514\n",
      "\n",
      "random_state= 31    auc_test = 0.7931090524947181\n",
      "\n",
      "random_state= 32    auc_test = 0.7739314155696408\n",
      "\n",
      "random_state= 33    auc_test = 0.8098488542174549\n",
      "\n",
      "random_state= 34    auc_test = 0.7615797172111165\n",
      "\n",
      "random_state= 35    auc_test = 0.7604420607833576\n",
      "\n",
      "random_state= 36    auc_test = 0.7568665691532587\n",
      "\n",
      "random_state= 37    auc_test = 0.6552901023890785\n",
      "\n",
      "random_state= 38    auc_test = 0.7508532423208191\n",
      "\n",
      "random_state= 39    auc_test = 0.7924589631074272\n",
      "\n",
      "random_state= 40    auc_test = 0.8160247033967171\n",
      "\n",
      "random_state= 41    auc_test = 0.7667804323094425\n",
      "\n",
      "random_state= 42    auc_test = 0.6895823175686657\n",
      "\n",
      "random_state= 43    auc_test = 0.7459775719161384\n",
      "\n",
      "random_state= 44    auc_test = 0.6843816024703396\n",
      "\n",
      "random_state= 45    auc_test = 0.7329757841703234\n",
      "\n",
      "random_state= 46    auc_test = 0.7445148707947343\n",
      "\n",
      "random_state= 47    auc_test = 0.6803185437997724\n",
      "\n",
      "random_state= 48    auc_test = 0.8616934828538925\n",
      "\n",
      "random_state= 49    auc_test = 0.8183000162522347\n",
      "\n",
      "random_state= 50    auc_test = 0.7237120104014302\n",
      "\n",
      "random_state= 51    auc_test = 0.7593044043555989\n",
      "\n",
      "random_state= 52    auc_test = 0.7183487729562815\n",
      "\n",
      "random_state= 53    auc_test = 0.7396392003900536\n",
      "\n",
      "random_state= 54    auc_test = 0.6830814236957581\n",
      "\n",
      "random_state= 55    auc_test = 0.740939379164635\n",
      "\n",
      "random_state= 56    auc_test = 0.7331383065171461\n",
      "\n",
      "random_state= 57    auc_test = 0.8171623598244759\n",
      "\n",
      "random_state= 58    auc_test = 0.6837315130830489\n",
      "\n",
      "random_state= 59    auc_test = 0.742077035592394\n",
      "\n",
      "random_state= 60    auc_test = 0.6830814236957582\n",
      "\n",
      "random_state= 61    auc_test = 0.7492280188525922\n",
      "\n",
      "random_state= 62    auc_test = 0.6686169348285389\n",
      "\n",
      "random_state= 63    auc_test = 0.7791321306679668\n",
      "\n",
      "random_state= 64    auc_test = 0.7929465301478953\n",
      "\n",
      "random_state= 65    auc_test = 0.7333008288639689\n",
      "\n",
      "random_state= 66    auc_test = 0.729075247846579\n",
      "\n",
      "random_state= 67    auc_test = 0.7087599544937428\n",
      "\n",
      "random_state= 68    auc_test = 0.8174874045181213\n",
      "\n",
      "random_state= 69    auc_test = 0.8119616447261498\n",
      "\n",
      "random_state= 70    auc_test = 0.8070859743214691\n",
      "\n",
      "random_state= 71    auc_test = 0.7043718511295303\n",
      "\n",
      "random_state= 72    auc_test = 0.8048106614659515\n",
      "\n",
      "random_state= 73    auc_test = 0.8441410693970421\n",
      "\n",
      "random_state= 74    auc_test = 0.7328132618235008\n",
      "\n",
      "random_state= 75    auc_test = 0.755078823338209\n",
      "\n",
      "random_state= 76    auc_test = 0.8365025190963757\n",
      "\n",
      "random_state= 77    auc_test = 0.7638550300666341\n",
      "\n",
      "random_state= 78    auc_test = 0.7146107589793597\n",
      "\n",
      "random_state= 79    auc_test = 0.7492280188525922\n",
      "\n",
      "random_state= 80    auc_test = 0.7838452787258248\n",
      "\n",
      "random_state= 81    auc_test = 0.6947830326669917\n",
      "\n",
      "random_state= 82    auc_test = 0.7791321306679668\n",
      "\n",
      "random_state= 83    auc_test = 0.8498293515358362\n",
      "\n",
      "random_state= 84    auc_test = 0.8035104826913699\n",
      "\n",
      "random_state= 85    auc_test = 0.7840078010726474\n",
      "\n",
      "random_state= 86    auc_test = 0.7602795384365351\n",
      "\n",
      "random_state= 87    auc_test = 0.7539411669104502\n",
      "\n",
      "random_state= 88    auc_test = 0.7638550300666342\n",
      "\n",
      "random_state= 89    auc_test = 0.7476027953843654\n",
      "\n",
      "random_state= 90    auc_test = 0.7251747115228344\n",
      "\n",
      "random_state= 91    auc_test = 0.7688932228181375\n",
      "\n",
      "random_state= 92    auc_test = 0.7862831139281651\n",
      "\n",
      "random_state= 93    auc_test = 0.7688932228181375\n",
      "\n",
      "random_state= 94    auc_test = 0.7040468064358849\n",
      "\n",
      "random_state= 95    auc_test = 0.7354136193726637\n",
      "\n",
      "random_state= 96    auc_test = 0.8199252397204616\n",
      "\n",
      "random_state= 97    auc_test = 0.740451812124167\n",
      "\n",
      "random_state= 98    auc_test = 0.7966845441248172\n",
      "\n",
      "random_state= 99    auc_test = 0.799934991061271\n",
      "\n",
      "random_state= 100    auc_test = 0.7599544937428896\n",
      "\n",
      "평균 =  0.7552982285064198\n"
     ]
    }
   ],
   "source": [
    "from sklearn.model_selection import train_test_split\n",
    "from sklearn.linear_model import LogisticRegression\n",
    "from sklearn.metrics import roc_auc_score\n",
    "from sklearn.preprocessing import MinMaxScaler\n",
    "\n",
    "random_state = []\n",
    "\n",
    "for j in range(1,101): \n",
    "    random_state.append(j)\n",
    "ai = []\n",
    "\n",
    "for rand in random_state:\n",
    "  X_train,X_test,y_train,y_test=train_test_split(X,y,test_size=0.2,random_state= rand,stratify=y)\n",
    "  log_reg = LogisticRegression(random_state=13,solver='liblinear',C=10.0)\n",
    "  log_reg.fit(X_train, y_train)\n",
    "  pred_proba_1 = log_reg.predict_proba(X_test)[:,1]\n",
    "  auc_test = roc_auc_score(y_test, pred_proba_1)\n",
    "  print('random_state=', rand,'  ' ,'auc_test =', auc_test)\n",
    "  print('')\n",
    "  ai.append(auc_test)\n",
    "print(\"평균 = \", np.mean(ai))"
   ]
  },
  {
   "cell_type": "code",
   "execution_count": 20,
   "metadata": {},
   "outputs": [],
   "source": [
    "# 평균 =  0.7884706647163986"
   ]
  },
  {
   "cell_type": "code",
   "execution_count": null,
   "metadata": {},
   "outputs": [],
   "source": []
  }
 ],
 "metadata": {
  "kernelspec": {
   "display_name": "Python 3",
   "language": "python",
   "name": "python3"
  },
  "language_info": {
   "codemirror_mode": {
    "name": "ipython",
    "version": 3
   },
   "file_extension": ".py",
   "mimetype": "text/x-python",
   "name": "python",
   "nbconvert_exporter": "python",
   "pygments_lexer": "ipython3",
   "version": "3.7.7"
  }
 },
 "nbformat": 4,
 "nbformat_minor": 4
}
